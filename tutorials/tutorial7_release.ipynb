{
 "cells": [
  {
   "cell_type": "markdown",
   "id": "83acb7a7",
   "metadata": {},
   "source": [
    "Before you turn this problem in, make sure everything runs as expected. First, **restart the kernel** (in the menubar, select Kernel $\\rightarrow$ Restart) and then **run all cells** (in the menubar, select Cell $\\rightarrow$ Run All).\n",
    "\n",
    "Make sure you fill in any place that says `YOUR CODE HERE` or \"YOUR ANSWER HERE\", as well as your name and collaborators below:"
   ]
  },
  {
   "cell_type": "code",
   "execution_count": null,
   "id": "51688311",
   "metadata": {},
   "outputs": [],
   "source": [
    "NAME = \"\"\n",
    "COLLABORATORS = \"\""
   ]
  },
  {
   "cell_type": "markdown",
   "id": "75921392",
   "metadata": {},
   "source": [
    "---"
   ]
  },
  {
   "cell_type": "markdown",
   "id": "00f93a69-dab0-49da-a22d-ed2332b3f56f",
   "metadata": {
    "deletable": false,
    "editable": false,
    "nbgrader": {
     "cell_type": "markdown",
     "checksum": "292065642436470bb7aa16ea15f55ef7",
     "grade": false,
     "grade_id": "cell-a6f4022b0fe5bb8e",
     "locked": true,
     "schema_version": 3,
     "solution": false,
     "task": false
    }
   },
   "source": [
    "# Tutorial 7: Part-of-speech tagging with RNNs\n",
    "\n",
    "Part-of-speech tagging has been an important task in computational linguistics and natural language processing. We assign grammatical categories (noun, verb, adjective, etc.) to each word in a sentence. Words are often ambiguous between different categories, and the correct category often depends not just on what other words are in the sentence, but the exact order of those words in the sentence. RNNs are well poised to capture the information in word order when learning to classify words by their grammatical category."
   ]
  },
  {
   "cell_type": "markdown",
   "id": "50d2433e-d5de-41a5-8595-54cd339a7bb9",
   "metadata": {
    "deletable": false,
    "editable": false,
    "nbgrader": {
     "cell_type": "markdown",
     "checksum": "421d5dcf325b5a847c56d4d403676931",
     "grade": false,
     "grade_id": "cell-822ac728c622bb21",
     "locked": true,
     "schema_version": 3,
     "solution": false,
     "task": false
    }
   },
   "source": [
    "## Imports\n",
    "\n",
    "In addition to the libraries you're already familiar with, we'll use NLTK to get our labelled data which we'll train our models on. We'll also import 'time' to compare the performance of different models."
   ]
  },
  {
   "cell_type": "code",
   "execution_count": null,
   "id": "f816dc0d-b78f-461d-84c5-ce0e660ee42d",
   "metadata": {
    "deletable": false,
    "editable": false,
    "nbgrader": {
     "cell_type": "code",
     "checksum": "116178ece37f25beaa26562c33d7d373",
     "grade": false,
     "grade_id": "cell-6b5c6d301cbfb233",
     "locked": true,
     "schema_version": 3,
     "solution": false,
     "task": false
    }
   },
   "outputs": [],
   "source": [
    "import numpy as np\n",
    "import nltk\n",
    "from nltk.corpus import brown\n",
    "from collections import Counter\n",
    "import matplotlib.pyplot as plt\n",
    "import seaborn as sns\n",
    "from tensorflow.keras.preprocessing.sequence import pad_sequences\n",
    "from tensorflow.keras.models import Sequential\n",
    "from tensorflow.keras.layers import Masking, Dense, Embedding, SimpleRNN, LSTM, Conv1D, MaxPooling1D, Flatten, Bidirectional\n",
    "from sklearn.model_selection import train_test_split\n",
    "import time"
   ]
  },
  {
   "cell_type": "markdown",
   "id": "4735ab54-e204-46e4-869b-731bd9fe5b24",
   "metadata": {
    "deletable": false,
    "editable": false,
    "nbgrader": {
     "cell_type": "markdown",
     "checksum": "eab3793247240e1d4b090477a1bb32fe",
     "grade": false,
     "grade_id": "cell-a6f4912453014cb1",
     "locked": true,
     "schema_version": 3,
     "solution": false,
     "task": false
    }
   },
   "source": [
    "## Part 1: Data Preparation"
   ]
  },
  {
   "cell_type": "code",
   "execution_count": null,
   "id": "860153da-1759-40d4-933f-22231742a931",
   "metadata": {
    "deletable": false,
    "editable": false,
    "nbgrader": {
     "cell_type": "code",
     "checksum": "6e526c95542d883e0ec20f38160df244",
     "grade": false,
     "grade_id": "cell-a13b84c7317c16cf",
     "locked": true,
     "schema_version": 3,
     "solution": false,
     "task": false
    }
   },
   "outputs": [],
   "source": [
    "# Download the data we'll be using\n",
    "nltk.download('universal_tagset')\n",
    "nltk.download('brown')\n",
    "\n",
    "# We'll grab just 5000 sentences from this data, so our models don't take too long to train\n",
    "tagged_sentences = brown.tagged_sents(tagset='universal')[:5000]\n",
    "\n",
    "print(f\"Example sentences:\\n\")\n",
    "print(f\"{tagged_sentences[np.random.randint(len(tagged_sentences))]}\\n\")\n",
    "print(f\"{tagged_sentences[np.random.randint(len(tagged_sentences))]}\")\n"
   ]
  },
  {
   "cell_type": "markdown",
   "id": "3eb8f06b-3b56-4cf6-bb04-86867908198f",
   "metadata": {
    "deletable": false,
    "editable": false,
    "nbgrader": {
     "cell_type": "markdown",
     "checksum": "ab4e4f07c3568b894efed0285d605b7f",
     "grade": false,
     "grade_id": "cell-86cfb5fb0963c669",
     "locked": true,
     "schema_version": 3,
     "solution": false,
     "task": false
    }
   },
   "source": [
    "### 1.1 Exploring the Dataset\n",
    "\n",
    "When starting a new machine learning project, it's a good idea to take some time to explore the data you'll be working with."
   ]
  },
  {
   "cell_type": "code",
   "execution_count": null,
   "id": "ad041c20-19bb-45e3-8b18-25c29865217e",
   "metadata": {
    "deletable": false,
    "editable": false,
    "nbgrader": {
     "cell_type": "code",
     "checksum": "97028d6292536befe72604df67525f1b",
     "grade": false,
     "grade_id": "cell-50f57d62b927998e",
     "locked": true,
     "schema_version": 3,
     "solution": false,
     "task": false
    }
   },
   "outputs": [],
   "source": [
    "all_words = [word.lower() for sentence in tagged_sentences for word, tag in sentence]\n",
    "all_tags = [tag for sentence in tagged_sentences for word, tag in sentence]\n",
    "\n",
    "print(\"all_words:\")\n",
    "print(all_words[:10])\n",
    "print(\"\\nall_tags:\")\n",
    "print(all_tags[:10], \"\\n\")\n",
    "\n",
    "unique_words = set(all_words)\n",
    "unique_tags = set(all_tags)\n",
    "\n",
    "print(f\"Total words: {len(all_words)}\")\n",
    "print(f\"Number of unique words: {len(unique_words)}\")\n",
    "print(f\"Number of unique tags: {len(unique_tags)}\")\n",
    "print(f\"Unique tags: {unique_tags}\\n\")\n",
    "\n",
    "tag_counts = sorted(list(Counter(all_tags).items()), key=lambda x : x[1])\n",
    "plt.figure(figsize=(12,6))\n",
    "sns.barplot(x=[x for x,y in tag_counts], y=[y for x,y in tag_counts])\n",
    "plt.title('Distribution of POS Tags')\n",
    "plt.xticks(rotation=45)\n",
    "plt.ylabel('Frequency')\n",
    "plt.show()"
   ]
  },
  {
   "cell_type": "markdown",
   "id": "674d2071-792c-4ef9-8c90-69054619a134",
   "metadata": {
    "deletable": false,
    "editable": false,
    "nbgrader": {
     "cell_type": "markdown",
     "checksum": "073a894652a58663d805b4fc3349c5f0",
     "grade": false,
     "grade_id": "cell-56bdaa283be34205",
     "locked": true,
     "schema_version": 3,
     "solution": false,
     "task": false
    }
   },
   "source": [
    "### Text encoding\n",
    "\n",
    "Let's move from words and categories as strings to words and categories as integers. Write this code yourself, rather than relying on any libraries you've seen."
   ]
  },
  {
   "cell_type": "code",
   "execution_count": null,
   "id": "f6ee41be-bf6f-4124-ad20-c940425c69d0",
   "metadata": {
    "deletable": false,
    "nbgrader": {
     "cell_type": "code",
     "checksum": "2e5011c2c3ca05765153d115e9f298d3",
     "grade": false,
     "grade_id": "cell-731cf1eb8091578a",
     "locked": false,
     "schema_version": 3,
     "solution": true,
     "task": false
    }
   },
   "outputs": [],
   "source": [
    "# Create mappings from words and tags to indices\n",
    "# Use the variable names: word_to_idx and tag_to_idx\n",
    "# I'll initialize them with specpial words/tags for padding and unknown tokens.\n",
    "word_to_idx = {'<PAD>' : 0, '<UNK>' : 1}\n",
    "tag_to_idx = {'<PAD>' : 0}\n",
    "# YOUR CODE HERE\n",
    "raise NotImplementedError()\n",
    "\n",
    "#Create reverse mappings from indices to words/tags\n",
    "#Use the variable names: idx_to_word and idx_to_tag\n",
    "# YOUR CODE HERE\n",
    "raise NotImplementedError()"
   ]
  },
  {
   "cell_type": "code",
   "execution_count": null,
   "id": "d10b1226-d6b7-4083-8bb7-e61b347b75b2",
   "metadata": {
    "deletable": false,
    "editable": false,
    "nbgrader": {
     "cell_type": "code",
     "checksum": "459f5e6396f00b4db802702a6ef392b8",
     "grade": true,
     "grade_id": "cell-6023bd903cf5565d",
     "locked": true,
     "points": 4,
     "schema_version": 3,
     "solution": false,
     "task": false
    }
   },
   "outputs": [],
   "source": [
    "assert set(filter(lambda x : x not in ['<PAD>', '<UNK>'], word_to_idx.keys())) == unique_words\n",
    "assert set(filter(lambda x : x not in ['<PAD>', '<UNK>'], tag_to_idx.keys())) == unique_tags\n",
    "assert set(filter(lambda x : x not in ['<PAD>', '<UNK>'], idx_to_word.values())) == unique_words\n",
    "assert set(filter(lambda x : x not in ['<PAD>', '<UNK>'], idx_to_tag.values())) == unique_tags\n",
    "assert all([idx_to_word[word_to_idx[word]] == word for word in unique_words])\n",
    "assert all([idx_to_tag[tag_to_idx[tag]] == tag for tag in unique_tags])"
   ]
  },
  {
   "cell_type": "markdown",
   "id": "42195486-7717-4023-9a18-93ea0dd47a52",
   "metadata": {
    "deletable": false,
    "editable": false,
    "nbgrader": {
     "cell_type": "markdown",
     "checksum": "fe9770b10d0be772f7c7b6cf7dc87b23",
     "grade": false,
     "grade_id": "cell-8fa14c3e043c821e",
     "locked": true,
     "schema_version": 3,
     "solution": false,
     "task": false
    }
   },
   "source": [
    "The data will need to be prepared differently for the multi-level perceptron (MLP) and for the RNN. An RNN model can take in whole sentences and output tags for each word. That pattern makes less sense for an MLP. Instead, we'll input a centered window of fixed context length and output the tag of the word in the center of that window.\n",
    "\n",
    "When we build our models, we'll use a Keras Embedding layer, which means we don't have to do any text vectorization / one-hot encoding."
   ]
  },
  {
   "cell_type": "code",
   "execution_count": null,
   "id": "0a15412f-5c00-414d-81db-ebd535cc6723",
   "metadata": {
    "deletable": false,
    "nbgrader": {
     "cell_type": "code",
     "checksum": "ca9c47ebcd3258289b8a71284e2691c6",
     "grade": false,
     "grade_id": "cell-9e177ba49dde39eb",
     "locked": false,
     "schema_version": 3,
     "solution": true,
     "task": false
    }
   },
   "outputs": [],
   "source": [
    "def create_sequence_data(sentences, max_length=30):\n",
    "    X_sequences = []\n",
    "    y_sequences = []\n",
    "\n",
    "    for sentence in sentences:\n",
    "        #For each sentence, if it's greater then max_length, truncate it to just the first 30 tokens\n",
    "        # Then convert the sentence, which is a list of (token, tag) pairs, into\n",
    "        # (1) a list of word_indices, using word_to_idx\n",
    "        # (2) a list of tag_indices, using tag_to_idx\n",
    "        # Then append these to X_sequences and y_sequences\n",
    "        # YOUR CODE HERE\n",
    "        raise NotImplementedError()\n",
    "\n",
    "    X_padded = pad_sequences(X_sequences, maxlen=max_length, padding='post', value=word_to_idx['<PAD>'])\n",
    "    y_padded = pad_sequences(y_sequences, maxlen=max_length, padding='post', value=tag_to_idx['<PAD>'])\n",
    "\n",
    "    return X_padded, y_padded\n",
    "\n",
    "print(\"Let's look at a sample of from the sequence data we're creating:\")\n",
    "X_padded, y_padded = create_sequence_data(tagged_sentences[:1])\n",
    "print(X_padded[0])\n",
    "print(y_padded[0])\n",
    "print(\"\\nAnd look at it decoded, as a santy check:\")\n",
    "print(\" \".join([idx_to_word[idx] for idx in X_padded[0]]))\n",
    "print(\" \".join([idx_to_tag[idx] for idx in y_padded[0]]))\n",
    "\n",
    "def create_window_data(sentences, window_size=5):\n",
    "    X_windows = []\n",
    "    y_tags = []\n",
    "\n",
    "    half_window = window_size // 2\n",
    "\n",
    "    for sentence in sentences:\n",
    "        padded_sentence = [('<PAD>', None)]*half_window + sentence + [('<PAD>', None)]*half_window\n",
    "\n",
    "        for i in range(half_window, len(padded_sentence) - half_window):\n",
    "            window = [\n",
    "                padded_sentence[i-half_window+j][0].lower() if i-half_window+j >= half_window else padded_sentence[i-half_window+j][0]\n",
    "                for j in range(window_size)\n",
    "            ]\n",
    "\n",
    "            center_tag = padded_sentence[i][1]\n",
    "\n",
    "            if center_tag is not None:\n",
    "                X_windows.append(window)\n",
    "                y_tags.append(center_tag)\n",
    "\n",
    "    X_indices = []\n",
    "    for window in X_windows:\n",
    "        window_indices = [word_to_idx.get(word, word_to_idx['<UNK>']) for word in window]\n",
    "        X_indices.append(window_indices)\n",
    "\n",
    "    y_indices = [tag_to_idx[tag] for tag in y_tags]\n",
    "\n",
    "    return np.array(X_indices), np.array(y_indices)\n",
    "\n",
    "print(\"\\nLet's look at a sample of from the sequence data we're creating:\")\n",
    "X_indices, y_indices = create_window_data(tagged_sentences[:1])\n",
    "print(X_indices[0])\n",
    "print(y_indices[0])\n",
    "print(\"\\nAnd look at it decoded, as a sanity check:\")\n",
    "print(\" \".join([idx_to_word[idx] for idx in X_indices[0]]))\n",
    "print(idx_to_tag[y_indices[0]])"
   ]
  },
  {
   "cell_type": "code",
   "execution_count": null,
   "id": "d563e46b-aef0-49a7-98fd-a4ecb3c61dc2",
   "metadata": {
    "deletable": false,
    "editable": false,
    "nbgrader": {
     "cell_type": "code",
     "checksum": "6a7bbbdec4948a48e1aef0ea7395be52",
     "grade": true,
     "grade_id": "cell-147dbb8d4352a282",
     "locked": true,
     "points": 4,
     "schema_version": 3,
     "solution": false,
     "task": false
    }
   },
   "outputs": [],
   "source": [
    "test_sentence = [(\"dogs\", \"NOUN\"), (\"like\", \"VERB\"), (\"rice\", \"NOUN\")]\n",
    "X_padded, y_padded = create_sequence_data([test_sentence])\n",
    "assert [(idx_to_word[X_padded[0][i]], idx_to_tag[y_padded[0][i]]) for i in range(len(test_sentence))] == test_sentence"
   ]
  },
  {
   "cell_type": "code",
   "execution_count": null,
   "id": "d5d8b4ea-7331-489b-bce8-4baa70a60813",
   "metadata": {
    "deletable": false,
    "editable": false,
    "nbgrader": {
     "cell_type": "code",
     "checksum": "c5d65c89bae9afd5db74fa90d5c9eba4",
     "grade": false,
     "grade_id": "cell-ab7690568b9259a5",
     "locked": true,
     "schema_version": 3,
     "solution": false,
     "task": false
    }
   },
   "outputs": [],
   "source": [
    "# Split sentences into training, validation, and test sets\n",
    "train_sentences, test_sentences = train_test_split(tagged_sentences, test_size=0.2)\n",
    "train_sentences, val_sentences = train_test_split(train_sentences, test_size=0.25)\n",
    "\n",
    "print(f\"Train sentences: {len(train_sentences)}\")\n",
    "print(f\"Validation sentences: {len(val_sentences)}\")\n",
    "print(f\"Test sentences: {len(test_sentences)}\")\n",
    "\n",
    "# Create sequence data\n",
    "X_train_seqs, y_train_seqs = create_sequence_data(train_sentences)\n",
    "X_val_seqs, y_val_seqs = create_sequence_data(val_sentences)\n",
    "X_test_seqs, y_test_seqs = create_sequence_data(test_sentences)\n",
    "\n",
    "print(\"\\nSequence data shapes:\")\n",
    "print(f\"X_train_seqs: {X_train_seqs.shape}, y_train_seqs: {y_train_seqs.shape}\")\n",
    "print(f\"X_val_seqs: {X_val_seqs.shape}, y_val_seqs: {y_val_seqs.shape}\")\n",
    "print(f\"X_test_seqs: {X_test_seqs.shape}, y_test_seqs: {y_test_seqs.shape}\")\n",
    "\n",
    "# Prepare window-based data\n",
    "X_train_window, y_train_window = create_window_data(train_sentences)\n",
    "X_val_window, y_val_window = create_window_data(val_sentences)\n",
    "X_test_window, y_test_window = create_window_data(test_sentences)\n",
    "\n",
    "print(\"\\nWindow-based data shapes:\")\n",
    "print(f\"X_train_window: {X_train_window.shape}, y_train_window: {y_train_window.shape}\")\n",
    "print(f\"X_val_window: {X_val_window.shape}, y_val_window: {y_val_window.shape}\")\n",
    "print(f\"X_test_window: {X_test_window.shape}, y_test_window: {y_test_window.shape}\")"
   ]
  },
  {
   "cell_type": "markdown",
   "id": "c4ed6076-a6f1-4176-b1f7-e525977ba1fa",
   "metadata": {
    "deletable": false,
    "editable": false,
    "nbgrader": {
     "cell_type": "markdown",
     "checksum": "da6cc84937f9a6f13208d2b5138d6c12",
     "grade": false,
     "grade_id": "cell-c58c33acc1d0e066",
     "locked": true,
     "schema_version": 3,
     "solution": false,
     "task": false
    }
   },
   "source": [
    "# Train and test a MLP"
   ]
  },
  {
   "cell_type": "markdown",
   "id": "5af9d7d4-25c9-4e52-a35e-11bafc3080b4",
   "metadata": {
    "deletable": false,
    "editable": false,
    "nbgrader": {
     "cell_type": "markdown",
     "checksum": "d160487e2a21907bdb5812a87298fe11",
     "grade": false,
     "grade_id": "cell-e6c61dc9263261a2",
     "locked": true,
     "schema_version": 3,
     "solution": false,
     "task": false
    }
   },
   "source": [
    "Next, create a Sequential Keras model with Dense hidden layers. The first layer should be an embedding layer that looks like this:\n",
    "\n",
    "Embedding(\n",
    "    input_dim=len(word_to_idx),\n",
    "    output_dim=50,\n",
    "    input_shape=(5,)\n",
    ")\n",
    "\n",
    "Then use a Flatten layer, then two Dense hidden layers, and a final Dense output layer.\n",
    "\n",
    "Call the variable 'dense_model' to store the model"
   ]
  },
  {
   "cell_type": "code",
   "execution_count": null,
   "id": "6a4da042-497f-4faa-913a-3f29f459b203",
   "metadata": {
    "deletable": false,
    "nbgrader": {
     "cell_type": "code",
     "checksum": "2c67d50e8f6a56a58db37b195c456fb3",
     "grade": true,
     "grade_id": "cell-4f2ecb90e270204a",
     "locked": false,
     "points": 3,
     "schema_version": 3,
     "solution": true,
     "task": false
    }
   },
   "outputs": [],
   "source": [
    "# YOUR CODE HERE\n",
    "raise NotImplementedError()\n",
    "\n",
    "dense_model.summary()\n"
   ]
  },
  {
   "cell_type": "markdown",
   "id": "ae838818-26a7-4a7b-9985-b487b0016378",
   "metadata": {
    "deletable": false,
    "editable": false,
    "nbgrader": {
     "cell_type": "markdown",
     "checksum": "34835d1380cb4caa84adb4c29f59549b",
     "grade": false,
     "grade_id": "cell-b28268a60779c6dd",
     "locked": true,
     "schema_version": 3,
     "solution": false,
     "task": false
    }
   },
   "source": [
    "Next, call model fit on dense_model and pass in X_train_window, y_train_window, and also make use of the validation data, passing in X_val_window and y_val_window.\n",
    "\n",
    "Use the 'time.perf_counter()' immediately before and after dense_model.fit is called.\n",
    "\n",
    "Print out: How long it took your model to train, and how accurate it was for the X_test_window and y_test_window data."
   ]
  },
  {
   "cell_type": "code",
   "execution_count": null,
   "id": "efc2e9f3-2dac-4534-9b29-108adca7fac6",
   "metadata": {
    "deletable": false,
    "nbgrader": {
     "cell_type": "code",
     "checksum": "fdbf122f46109b883a27ae6fa00e9058",
     "grade": true,
     "grade_id": "cell-7455148b4213cb55",
     "locked": false,
     "points": 3,
     "schema_version": 3,
     "solution": true,
     "task": false
    }
   },
   "outputs": [],
   "source": [
    "# YOUR CODE HERE\n",
    "raise NotImplementedError()"
   ]
  },
  {
   "cell_type": "markdown",
   "id": "f94a7bb5-c1b4-4c94-8ada-c68b403ecf65",
   "metadata": {
    "deletable": false,
    "editable": false,
    "nbgrader": {
     "cell_type": "markdown",
     "checksum": "3899f67b33a4e146e9e892b6f0ae3e83",
     "grade": false,
     "grade_id": "cell-0f99d26e48fb9662",
     "locked": true,
     "schema_version": 3,
     "solution": false,
     "task": false
    }
   },
   "source": [
    "# Train and test an RNN model"
   ]
  },
  {
   "cell_type": "markdown",
   "id": "f24e0d88-cb27-4296-a0eb-0e18e2cdfbf0",
   "metadata": {
    "deletable": false,
    "editable": false,
    "nbgrader": {
     "cell_type": "markdown",
     "checksum": "e9f3c9651ecf6cda5619a2bf8c49c31f",
     "grade": false,
     "grade_id": "cell-22c1bd24adc21aaf",
     "locked": true,
     "schema_version": 3,
     "solution": false,
     "task": false
    }
   },
   "source": [
    "Next, create a Sequential Keras model with a Bidirectional LSTM  hidden layer. The first layer should be an embedding layer that looks like this:\n",
    "\n",
    "Embedding(\n",
    "    input_dim=len(word_to_idx),\n",
    "    output_dim=50,\n",
    "    input_shape=(5,)\n",
    ")\n",
    "\n",
    "Then use a Bidirectional LSTM layer that looks like this:\n",
    "\n",
    "Bidirectional(LSTM(100, return_sequences=True))\n",
    "\n",
    "And finally, have a Dense output layer.\n",
    "\n",
    "Call the variable 'rnn_model' to store the model."
   ]
  },
  {
   "cell_type": "code",
   "execution_count": null,
   "id": "869c07b8-586a-48a0-880b-b9764bb7f9d1",
   "metadata": {
    "deletable": false,
    "nbgrader": {
     "cell_type": "code",
     "checksum": "77483abd84c3a2bc20f3d1e5738dd68f",
     "grade": true,
     "grade_id": "cell-1b8ccc8c07794f0f",
     "locked": false,
     "points": 3,
     "schema_version": 3,
     "solution": true,
     "task": false
    }
   },
   "outputs": [],
   "source": [
    "# YOUR CODE HERE\n",
    "raise NotImplementedError()\n",
    "rnn_model.summary()"
   ]
  },
  {
   "cell_type": "markdown",
   "id": "7a705936-0e39-4d17-bf67-1d29f980c5f2",
   "metadata": {
    "deletable": false,
    "editable": false,
    "nbgrader": {
     "cell_type": "markdown",
     "checksum": "51bb10474ca3c0f106b8a64dde7a83ee",
     "grade": false,
     "grade_id": "cell-6b63284585f198ce",
     "locked": true,
     "schema_version": 3,
     "solution": false,
     "task": false
    }
   },
   "source": [
    "Next, call model fit on rnn_model and pass in X_train_seqs y_train_seqs, and also make use of the validation data, passing in X_val_seqs and y_val_seqs.\n",
    "\n",
    "Use the 'time.perf_counter()' immediately before and after dense_model.fit is called.\n",
    "\n",
    "Print out: How long it took your model to train, and how accurate it was for the X_test_seqs and y_test_seqs data.\n",
    "\n"
   ]
  },
  {
   "cell_type": "code",
   "execution_count": null,
   "id": "f594345d-92e4-428f-b92e-24dec7b5d544",
   "metadata": {
    "deletable": false,
    "nbgrader": {
     "cell_type": "code",
     "checksum": "4a259bc6dd485ff4a374459382f3693a",
     "grade": true,
     "grade_id": "cell-43d30de8fe821416",
     "locked": false,
     "points": 3,
     "schema_version": 3,
     "solution": true,
     "task": false
    }
   },
   "outputs": [],
   "source": [
    "# Hint: Pass in this mask to the sample_weight argument when calling rnn_model.evaluate. This will\n",
    "# help insure that the accuracy isn't inflated by the '<PAD>' tokens.\n",
    "mask = (y_test_seqs > 0).astype(float)\n",
    "\n",
    "# YOUR CODE HERE\n",
    "raise NotImplementedError()"
   ]
  },
  {
   "cell_type": "markdown",
   "id": "c57df203-f897-4bb4-93ee-cea35ec7df89",
   "metadata": {
    "deletable": false,
    "editable": false,
    "nbgrader": {
     "cell_type": "markdown",
     "checksum": "2c9116826182058f0b54bea976103efa",
     "grade": false,
     "grade_id": "cell-2b191307849d0e4a",
     "locked": true,
     "schema_version": 3,
     "solution": false,
     "task": false
    }
   },
   "source": [
    "Finally, write one or two sentences comparing how these models performed on this task. (4 points)"
   ]
  },
  {
   "cell_type": "markdown",
   "id": "60177b3a-09e3-4139-9e7e-5333d852f3c9",
   "metadata": {
    "deletable": false,
    "editable": false,
    "nbgrader": {
     "cell_type": "markdown",
     "checksum": "3c5c730e1bee0539d69680a4ced0161e",
     "grade": false,
     "grade_id": "cell-bdc58f40fc89f6f8",
     "locked": true,
     "points": 4,
     "schema_version": 3,
     "solution": false,
     "task": true
    }
   },
   "source": []
  },
  {
   "cell_type": "markdown",
   "id": "b771d891",
   "metadata": {},
   "source": []
  },
  {
   "cell_type": "markdown",
   "id": "d6356572",
   "metadata": {},
   "source": []
  }
 ],
 "metadata": {
  "kernelspec": {
   "display_name": "Python 3",
   "language": "python",
   "name": "python3"
  },
  "language_info": {
   "codemirror_mode": {
    "name": "ipython",
    "version": 3
   },
   "file_extension": ".py",
   "mimetype": "text/x-python",
   "name": "python",
   "nbconvert_exporter": "python",
   "pygments_lexer": "ipython3",
   "version": "3.11.6"
  }
 },
 "nbformat": 4,
 "nbformat_minor": 5
}
