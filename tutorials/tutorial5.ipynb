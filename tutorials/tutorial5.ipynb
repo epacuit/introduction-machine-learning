{
 "cells": [
  {
   "cell_type": "markdown",
   "metadata": {},
   "source": [
    "(tutorial5)=    \n",
    "# Tutorial 5: Linear Classifiers"
   ]
  },
  {
   "cell_type": "markdown",
   "metadata": {},
   "source": [
    "## 0. Background Reading: The Iris Dataset\n",
    "Before starting this assignment, please read about the Iris dataset to understand its origin and significance in machine learning. For more information, visit:\n",
    "- [UCI Machine Learning Repository: Iris Data Set](https://archive.ics.uci.edu/ml/datasets/iris)\n",
    "- [scikit-learn's Iris Dataset Example](https://scikit-learn.org/stable/auto_examples/datasets/plot_iris_dataset.html)\n",
    "\n"
   ]
  },
  {
   "cell_type": "markdown",
   "metadata": {},
   "source": [
    "## 1. Load the Iris Dataset\n",
    "Use the following code snippet to load the Iris dataset. We will filter the dataset to use only two classes (class 0 and class 1) for binary classification.\n",
    "\n",
    "**Note**: You will need to install the `scikit-learn` library to run this code. You can install it using the following command:\n",
    "```bash\n",
    "pip install scikit-learn\n",
    "```\n",
    "\n",
    "\n",
    "```python\n",
    "from sklearn.datasets import load_iris\n",
    "\n",
    "# Load the Iris dataset\n",
    "data = load_iris()\n",
    "X = data.data\n",
    "y = data.target\n",
    "\n",
    "# Filter to use only two classes (class 0 and class 1)\n",
    "mask = y < 2\n",
    "X = X[mask]\n",
    "y = y[mask]\n",
    "\n",
    "```"
   ]
  },
  {
   "cell_type": "code",
   "execution_count": 1,
   "metadata": {},
   "outputs": [],
   "source": [
    "## ADD CODE"
   ]
  },
  {
   "cell_type": "markdown",
   "metadata": {},
   "source": [
    "## 2. Generate Training and Test Datasets\n",
    "\n",
    "Split the dataset into training and test sets, where 80% of the data/labels are used for training and 20% for testing. Do not use scikit-learn's train_test_split; instead, perform the split using NumPy.\n",
    "\n",
    "Hint: You can use `np.random.permutation` to shuffle indices and then split them.\n"
   ]
  },
  {
   "cell_type": "code",
   "execution_count": 9,
   "metadata": {},
   "outputs": [],
   "source": [
    "## ADD CODE"
   ]
  },
  {
   "cell_type": "markdown",
   "metadata": {},
   "source": [
    "## 3. Implement the Perceptron Algorithm\n",
    "\n",
    "Copy the `train_perceptron` function from [Linear Classification Algorithms](linear-classification-algorithms).\n"
   ]
  },
  {
   "cell_type": "code",
   "execution_count": 10,
   "metadata": {},
   "outputs": [],
   "source": [
    "## ADD CODE"
   ]
  },
  {
   "cell_type": "markdown",
   "metadata": {},
   "source": [
    "## 4. Train and Evaluate the Classifier\n",
    "\n",
    "Apply the `train_perceptron` function to the train data and labels. Then output the accuracy of your perceptron-based classifier on the test data.  \n"
   ]
  },
  {
   "cell_type": "code",
   "execution_count": 11,
   "metadata": {},
   "outputs": [],
   "source": [
    "## ADD CODE"
   ]
  },
  {
   "cell_type": "markdown",
   "metadata": {},
   "source": [
    "## 5. Implement and Evaluate a Random Classifier\n",
    "\n",
    "Implement a random classifier that randomly predicts the class label. Evaluate the accuracy of the random classifier on the test data.  Note that this is *not* the `train_random_search` function from [Linear Classification Algorithms](linear-classification-algorithms). Instead, the random classifier should randomly predict a label for each data point.   You should implement the random classifier and output the accuracy of the random classifier on the test data.\n",
    "\n",
    "**Hint**: You can use `np.random.choice` to assign random labels.\n",
    "\n"
   ]
  },
  {
   "cell_type": "code",
   "execution_count": 12,
   "metadata": {},
   "outputs": [],
   "source": [
    "## ADD CODE"
   ]
  },
  {
   "cell_type": "markdown",
   "metadata": {},
   "source": [
    "## 6. Calculate Margins\n",
    "\n",
    "Calculate the **margin** for each test data point (use the `calculate_margin` function from [Linear Classification Algorithms](linear-classification-algorithms)).  Compute the margin for each test example for the perceptron classifier and determine and output the minimum margin over the test set.    \n",
    "\n"
   ]
  },
  {
   "cell_type": "code",
   "execution_count": 13,
   "metadata": {},
   "outputs": [],
   "source": [
    "## ADD CODE"
   ]
  },
  {
   "cell_type": "markdown",
   "metadata": {},
   "source": [
    "## 7. Another Dataset: The Breast Cancer Wisconsin (Diagnostic) Dataset\n",
    "Before beginning, read about the dataset to understand its context and significance. Here are some resources:\n",
    "- [UCI Machine Learning Repository: Breast Cancer Wisconsin (Diagnostic) Data Set](https://archive.ics.uci.edu/ml/datasets/Breast+Cancer+Wisconsin+(Diagnostic))\n",
    "- [scikit-learn's Breast Cancer Dataset Documentation](https://scikit-learn.org/stable/modules/generated/sklearn.datasets.load_breast_cancer.html)\n",
    "\n",
    "Repeat each of the above exercises on this dataset.  You should re-use the functions defined above.   Note that this dataset is already binary, so you do not need to filter the classes.   \n"
   ]
  },
  {
   "cell_type": "code",
   "execution_count": 14,
   "metadata": {},
   "outputs": [],
   "source": [
    "## ADD CODE"
   ]
  },
  {
   "cell_type": "markdown",
   "metadata": {},
   "source": []
  }
 ],
 "metadata": {
  "kernelspec": {
   "display_name": "3.11.9",
   "language": "python",
   "name": "python3"
  },
  "language_info": {
   "codemirror_mode": {
    "name": "ipython",
    "version": 3
   },
   "file_extension": ".py",
   "mimetype": "text/x-python",
   "name": "python",
   "nbconvert_exporter": "python",
   "pygments_lexer": "ipython3",
   "version": "3.11.9"
  }
 },
 "nbformat": 4,
 "nbformat_minor": 2
}
