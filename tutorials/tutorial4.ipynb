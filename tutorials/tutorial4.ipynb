{
 "cells": [
  {
   "cell_type": "markdown",
   "id": "1ceb2e1d",
   "metadata": {},
   "source": [
    "<a target=\"_blank\" rel=\"noopener noreferrer\" href=\"https://colab.research.google.com/github/epacuit/introduction-machine-learning/blob/main/tutorials/tutorial4.ipynb\">![Open In Colab](https://colab.research.google.com/assets/colab-badge.svg)</a>\n",
    "\n",
    "Before you turn this problem in, make sure everything runs as expected. First, **restart the kernel** (in the menubar, select Kernel $\\rightarrow$ Restart) and then **run all cells** (in the menubar, select Cell $\\rightarrow$ Run All).\n",
    "\n",
    "Make sure you fill in any place that says `YOUR CODE HERE` or \"YOUR ANSWER HERE\", as well as your name and collaborators below:"
   ]
  },
  {
   "cell_type": "code",
   "execution_count": 1,
   "id": "2d3d679a",
   "metadata": {},
   "outputs": [],
   "source": [
    "NAME = \"\"\n",
    "COLLABORATORS = \"\""
   ]
  },
  {
   "cell_type": "markdown",
   "id": "b4c7e898",
   "metadata": {},
   "source": [
    "---"
   ]
  },
  {
   "cell_type": "markdown",
   "id": "9bc90711-5b37-49a4-9c3a-5fb0f7a0dcd0",
   "metadata": {},
   "source": [
    "(tutorial4)=\n",
    "# Tutorial 4\n",
    "\n",
    "## Task 1\n",
    "In the Rock-Paper-Scissors game, two players choose one of three action:  Rock ($0$), Paper ($1$) and Scissors ($2$).  The rules of the game are that: \n",
    "\n",
    "* Rock ($0$) beats Scissors ($2$).\n",
    "* Paper ($1$) beats Rock ($0$).\n",
    "* Scissors ($2$) beat Paper ($1$).\n",
    "  \n",
    "When both players choose the same move, it is a tie.\n",
    "\n",
    "Your first taks is to crate a function ``create_rps_game_matrix()`` that returns a $3×3$ NumPy array representing the game rules.\n",
    "\n",
    "Use the following convention for the outcomes:\n",
    "\n",
    "* $0$ is a Tie\n",
    "* $1$ is a Win (when the player’s move beats the opponent’s)\n",
    "* $-1$ is a Loss (when the player’s move loses to the opponent’s)\n",
    "* \n",
    "The rows of the matrix represent the player's move, and the columns represent the opponent's move. \n",
    "\n"
   ]
  },
  {
   "cell_type": "code",
   "execution_count": null,
   "id": "c8cf3057-b523-47e5-bd7d-a5c06b7bd73f",
   "metadata": {},
   "outputs": [],
   "source": [
    "import numpy as np"
   ]
  },
  {
   "cell_type": "code",
   "execution_count": null,
   "id": "6a001fe6-2980-48f5-99bd-1a09e20439b9",
   "metadata": {
    "deletable": false,
    "nbgrader": {
     "cell_type": "code",
     "checksum": "c86578d160cb378cf07fb4a70bf771f3",
     "grade": false,
     "grade_id": "cell-5f17037f3c7eed44",
     "locked": false,
     "schema_version": 3,
     "solution": true,
     "task": false
    }
   },
   "outputs": [],
   "source": [
    "def create_rps_game_matrix(): \n",
    "\n",
    "    # YOUR CODE HERE\n",
    "    raise NotImplementedError()"
   ]
  },
  {
   "cell_type": "code",
   "execution_count": null,
   "id": "824defe7-7d6d-4280-95a1-f6b3d172fa97",
   "metadata": {
    "deletable": false,
    "editable": false,
    "nbgrader": {
     "cell_type": "code",
     "checksum": "ee66d09740e8eaa6eca64162ac5266b6",
     "grade": true,
     "grade_id": "cell-77e087b1e89a188a",
     "locked": true,
     "points": 11,
     "schema_version": 3,
     "solution": false,
     "task": false
    }
   },
   "outputs": [],
   "source": [
    "rps_matrix = create_rps_game_matrix()\n",
    "\n",
    "assert type(rps_matrix) == np.ndarray, \"Must return a numpy array\"\n",
    "assert rps_matrix.shape == (3, 3), \"Must create a 3x3 array\"\n",
    "\n",
    "assert rps_matrix[0, 0] == 0, \"Rock ties with Rock\"\n",
    "assert rps_matrix[0, 1] == -1, \"Rock loses to Paper\"\n",
    "assert rps_matrix[0, 2] == 1, \"Rock beats Scissors\"\n",
    "\n",
    "assert rps_matrix[1, 0] == 1, \"Paper beats Rock\"\n",
    "assert rps_matrix[1, 1] == 0, \"Paper ties with Paper\"\n",
    "assert rps_matrix[1, 2] == -1, \"Paper loses to  Scissors\"\n",
    "\n"
   ]
  },
  {
   "cell_type": "markdown",
   "id": "544ad0e6-e90c-451b-b8de-d02c809c5c80",
   "metadata": {},
   "source": [
    "## Task 2\n",
    "Your second task is to create a function called ``simulate_rps`` that simulates a series of Rock-Paper-Scissors games where the player always uses fixed_move, and the opponent selects moves at random.  The parameters should be: \n",
    "\n",
    "* ``num_games`` (int): Number of games to simulate.\n",
    "* ``fixed_move`` (int): The player's fixed move (0: Rock, 1: Paper, 2: Scissors).\n",
    "\n",
    "The function should return a ``numpy.ndarray`` of the form ``[num_wins, num_ties, num_losses]``.\n",
    "\n",
    "**Hint**: To implement randomly choosing an action, use the function ``numpy.random.randint``\n"
   ]
  },
  {
   "cell_type": "code",
   "execution_count": null,
   "id": "86c08b5f-be20-41f1-88cb-2fc49e3a849f",
   "metadata": {
    "deletable": false,
    "nbgrader": {
     "cell_type": "code",
     "checksum": "27cd8c876e14e69f67b9410d9227add9",
     "grade": false,
     "grade_id": "cell-8dccd2d73dc755e9",
     "locked": false,
     "schema_version": 3,
     "solution": true,
     "task": false
    }
   },
   "outputs": [],
   "source": [
    "def simulate_rps(num_games, fixed_move):\n",
    "    \"\"\"\n",
    "    Simulates a series of Rock-Paper-Scissors games where the player always uses fixed_move,\n",
    "    and the opponent selects moves at random.\n",
    "    \n",
    "    Parameters:\n",
    "        num_games (int): Number of games to simulate.\n",
    "        fixed_move (int): The player's fixed move (0: Rock, 1: Paper, 2: Scissors).\n",
    "    \n",
    "    Returns:\n",
    "        numpy.ndarray: Array [num_wins, num_ties, num_losses].\n",
    "    \"\"\"\n",
    "    # Validate inputs\n",
    "    if num_games < 0:\n",
    "        raise ValueError(\"num_games must be non-negative.\")\n",
    "    if fixed_move not in [0, 1, 2]:\n",
    "        raise ValueError(\"fixed_move must be 0 (Rock), 1 (Paper), or 2 (Scissors).\")\n",
    "    \n",
    "    # Edge case: no games to simulate\n",
    "    if num_games == 0:\n",
    "        return np.array([0, 0, 0])\n",
    "    \n",
    "    # Retrieve the game matrix\n",
    "    rps_game = create_rps_game_matrix()\n",
    "\n",
    "    ############\n",
    "    ## DO NOT REMOVE OR CHANGE THIS WHEN SUBMITTING.  \n",
    "    ## You can change it when testing to get different results, \n",
    "    ## but note that some of the assert statements will fail \n",
    "    ## unless the random number seed is set to 42.\n",
    "    ##\n",
    "    \n",
    "    np.random.seed(42)\n",
    "    \n",
    "    ##\n",
    "    ############\n",
    "\n",
    "    # YOUR CODE HERE\n",
    "    raise NotImplementedError()\n"
   ]
  },
  {
   "cell_type": "code",
   "execution_count": null,
   "id": "d644f12e-7e90-4614-8752-42547130fcd2",
   "metadata": {
    "deletable": false,
    "editable": false,
    "nbgrader": {
     "cell_type": "code",
     "checksum": "74cd356483478f5f72964c9f248121c6",
     "grade": true,
     "grade_id": "cell-dc9ff750206affb1",
     "locked": true,
     "points": 3,
     "schema_version": 3,
     "solution": false,
     "task": false
    }
   },
   "outputs": [],
   "source": [
    "result = simulate_rps(100, 0)  # Player always chooses Rock.\n",
    "\n",
    "assert isinstance(result, np.ndarray), \"simulate_games should return a numpy array.\"\n",
    "assert result.shape == (3,), \"The returned array should have three elements (wins, ties, losses).\"\n",
    "assert result.sum() == 100, \"The total outcomes should sum up to the number of games played.\"\n",
    "assert result[0] == 31, \"The number of wins should be 31. Make sure np.random.seed(42) is called\"\n",
    "assert result[1] == 33, \"The number of ties should be 33. Make sure np.random.seed(42) is called\"\n",
    "assert result[2] == 36, \"The number of losses should be 36. Make sure np.random.seed(42) is called\"\n"
   ]
  },
  {
   "cell_type": "code",
   "execution_count": null,
   "id": "d678003f-1514-4bda-9acf-5a00a722db25",
   "metadata": {
    "deletable": false,
    "editable": false,
    "nbgrader": {
     "cell_type": "code",
     "checksum": "6bb549317307ff49a31d03bca062e35b",
     "grade": true,
     "grade_id": "cell-cb078a1ff923ab31",
     "locked": true,
     "points": 2,
     "schema_version": 3,
     "solution": false,
     "task": false
    }
   },
   "outputs": [],
   "source": [
    "# Hidden tests\n"
   ]
  },
  {
   "cell_type": "markdown",
   "id": "5567335e-3274-4b8b-a06c-a8658a3acaa2",
   "metadata": {},
   "source": [
    "## Task 3\n",
    "\n",
    "The **sigmoid** function is a key function used in many machine learning algorithms. It is defined as:\n",
    "\n",
    "$$\n",
    "\\sigma(z) = \\frac{1}{1 + e^{-z}}\n",
    "$$\n",
    "\n",
    "where $e$ is the natural logarithm. The derivative of the sigmoid function is given by: \n",
    "\n",
    "$$\n",
    "\\sigma'(z) = \\sigma(z)\\times (1-\\sigma(z))\n",
    "$$\n",
    "\n",
    "You should implement the Sigmoid Function and the derivative of the Sigmoid Function:\n",
    "\n",
    "1. Write a function ``sigmoid(z)`` that computes the sigmoid of an input z.\n",
    "   * Input: A scalar, vector, or NumPy array.\n",
    "   * Output: The sigmoid of the input, computed in a vectorized way.\n",
    "2. Write a function ``sigmoid_derivative(z)`` that computes the derivative of the sigmoid function using the formula above.\n",
    "   * Input: A scalar, vector, or NumPy array.\n",
    "   * Output: The derivative of the sigmoid of the input, computed in a vectorized way.\n",
    "\n",
    "\n",
    "\n"
   ]
  },
  {
   "cell_type": "code",
   "execution_count": null,
   "id": "31c5a544-e998-4c40-9778-e9fec91faeed",
   "metadata": {
    "deletable": false,
    "nbgrader": {
     "cell_type": "code",
     "checksum": "e98bbf0a3148a3ef67dcfbb149adb2e8",
     "grade": false,
     "grade_id": "cell-197a6f50edb47f4e",
     "locked": false,
     "schema_version": 3,
     "solution": true,
     "task": false
    }
   },
   "outputs": [],
   "source": [
    "\n",
    "def sigmoid(z):\n",
    "    \"\"\"\n",
    "    Compute the sigmoid of z.\n",
    "    \n",
    "    Parameters:\n",
    "        z (scalar, np.ndarray): Input value or array.\n",
    "        \n",
    "    Returns:\n",
    "        np.ndarray: The sigmoid of the input.\n",
    "    \"\"\"\n",
    "\n",
    "    # YOUR CODE HERE\n",
    "    raise NotImplementedError()\n"
   ]
  },
  {
   "cell_type": "code",
   "execution_count": null,
   "id": "2d42e732-f23a-420d-9608-1674bf5e6bde",
   "metadata": {
    "deletable": false,
    "editable": false,
    "nbgrader": {
     "cell_type": "code",
     "checksum": "9a823cb53d039067bfd04c470ca931fd",
     "grade": true,
     "grade_id": "cell-e011df23670b9024",
     "locked": true,
     "points": 1.5,
     "schema_version": 3,
     "solution": false,
     "task": false
    }
   },
   "outputs": [],
   "source": [
    "assert sigmoid(0) == 0.5\n",
    "assert np.isclose(sigmoid(np.array([0, 0, 0, 0])), np.array([0.5, 0.5, 0.5, 0.5])).all()\n",
    "assert np.isclose(sigmoid(np.array([[0, 0], [0, 0]])), np.array([[0.5, 0.5], [0.5, 0.5]])).all()\n",
    "\n"
   ]
  },
  {
   "cell_type": "code",
   "execution_count": null,
   "id": "1115dcc2-6489-4639-a6f9-0c58d1ba8ef0",
   "metadata": {
    "deletable": false,
    "nbgrader": {
     "cell_type": "code",
     "checksum": "4a39eaa497085a59ef9c899db6c3d08e",
     "grade": false,
     "grade_id": "cell-872908f8b2142f0f",
     "locked": false,
     "schema_version": 3,
     "solution": true,
     "task": false
    }
   },
   "outputs": [],
   "source": [
    "def derivative_sigmoid(z): \n",
    "\n",
    "    \"\"\"\n",
    "    Compute the derivative of the sigmoid function with respect to z.\n",
    "\n",
    "    Parameters:\n",
    "\n",
    "        z (scalar, np.ndarray): Input value or array.\n",
    "\n",
    "    Returns:\n",
    "    \n",
    "        np.ndarray: The derivative of the sigmoid function with respect to z.\n",
    "\n",
    "    \"\"\"\n",
    "    # YOUR CODE HERE\n",
    "    raise NotImplementedError()"
   ]
  },
  {
   "cell_type": "code",
   "execution_count": null,
   "id": "2a56aed3-0241-4a8d-a3ed-9e38c50f750f",
   "metadata": {
    "deletable": false,
    "editable": false,
    "nbgrader": {
     "cell_type": "code",
     "checksum": "4efc34dbd87314959ed9d0495d82ae14",
     "grade": true,
     "grade_id": "cell-54b99eb1d5bd4aa6",
     "locked": true,
     "points": 1.5,
     "schema_version": 3,
     "solution": false,
     "task": false
    }
   },
   "outputs": [],
   "source": [
    "\n",
    "assert derivative_sigmoid(0) == 0.25\n",
    "assert np.isclose(derivative_sigmoid(np.array([0, 0, 0, 0])), np.array([0.25, 0.25, 0.25, 0.25])).all()\n",
    "assert np.isclose(derivative_sigmoid(np.array([[0, 0], [0, 0]])), np.array([[0.25, 0.25], [0.25, 0.25]])).all()\n"
   ]
  },
  {
   "cell_type": "code",
   "execution_count": null,
   "id": "b33740b0-8438-44d8-ad48-e20b0358b93a",
   "metadata": {},
   "outputs": [],
   "source": [
    "### After implementing the sigmoid function above, \n",
    "## you can run the following code to plot the function and the derivative\n",
    "\n",
    "import matplotlib.pyplot as plt\n",
    "\n",
    "z = np.linspace(-10, 10, 1000)\n",
    "sig = sigmoid(z)\n",
    "dsig = derivative_sigmoid(z)\n",
    "\n",
    "plt.figure(figsize=(10, 5))\n",
    "plt.plot(z, sig, label='sigmoid')\n",
    "plt.plot(z, dsig, label='derivative sigmoid')\n",
    "plt.xlabel('z')\n",
    "plt.gca().spines['top'].set_visible(False)\n",
    "plt.gca().spines['right'].set_visible(False)\n",
    "plt.legend(frameon=False)\n",
    "plt.show()"
   ]
  },
  {
   "cell_type": "code",
   "execution_count": null,
   "id": "fb3bf5ee-34fd-412c-a414-faba8500c9d8",
   "metadata": {},
   "outputs": [],
   "source": []
  }
 ],
 "metadata": {
  "kernelspec": {
   "display_name": "3.11.9",
   "language": "python",
   "name": "python3"
  },
  "language_info": {
   "codemirror_mode": {
    "name": "ipython",
    "version": 3
   },
   "file_extension": ".py",
   "mimetype": "text/x-python",
   "name": "python",
   "nbconvert_exporter": "python",
   "pygments_lexer": "ipython3",
   "version": "3.11.9"
  }
 },
 "nbformat": 4,
 "nbformat_minor": 5
}
