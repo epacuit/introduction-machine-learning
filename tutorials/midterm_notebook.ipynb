{
 "cells": [
  {
   "cell_type": "markdown",
   "id": "c731ac34-ab3e-4891-8513-3d96d6fa1482",
   "metadata": {
    "deletable": false,
    "editable": false,
    "nbgrader": {
     "cell_type": "markdown",
     "checksum": "2f4e8c761066550aef6bd4f02e049bc5",
     "grade": false,
     "grade_id": "cell-c1e0515165e3d406",
     "locked": true,
     "schema_version": 3,
     "solution": false,
     "task": false
    }
   },
   "source": [
    "# Midterm Project\n",
    "\n",
    "In this notebook, we'll be trying to classify text messages from the SMS Spam Collection from the UC Irvine Machine Learning Repository. Below is code for loading and tokenizing the data."
   ]
  },
  {
   "cell_type": "code",
   "execution_count": 2,
   "id": "76e65a7a-39bb-4531-a718-aed7b532f84d",
   "metadata": {
    "deletable": false,
    "editable": false,
    "nbgrader": {
     "cell_type": "code",
     "checksum": "2583adacc8626515f855f0d955978b4e",
     "grade": false,
     "grade_id": "cell-ac4ea563a2ac509b",
     "locked": true,
     "schema_version": 3,
     "solution": false,
     "task": false
    }
   },
   "outputs": [],
   "source": [
    "import requests\n",
    "import zipfile\n",
    "import io\n",
    "import re\n",
    "\n",
    "import numpy as np\n",
    "from tensorflow import keras \n",
    "from tensorflow.keras.layers import Dense\n",
    "\n",
    "def load_data():\n",
    "    url = \"https://smsdataset1.s3.us-east-2.amazonaws.com/smsspamcollection.zip\"\n",
    "    filename = \"SMSSpamCollection\"\n",
    "    \n",
    "    response = requests.get(url)\n",
    "\n",
    "    if response.status_code != 200:\n",
    "        print(f\"Download failed. Status code: {response.status_code}\")\n",
    "        return\n",
    "    \n",
    "    X, y = [], []\n",
    "    \n",
    "    zip_data = io.BytesIO(response.content)\n",
    "    with zipfile.ZipFile(zip_data) as zip_ref:\n",
    "        print(f\"Files in the archive: {zip_ref.namelist()}\")\n",
    "        assert filename in zip_ref.namelist()\n",
    "        with zip_ref.open(filename) as text_file:\n",
    "            content = text_file.read().decode('utf-8')\n",
    "            for line in content.splitlines():\n",
    "                clean_line = re.sub(r'[^\\w\\s]', '', line.lower())\n",
    "                tokens = clean_line.split()\n",
    "                y.append(tokens[0].strip())\n",
    "                X.append(tokens[1:])\n",
    "    \n",
    "    label_to_id = {\"ham\" : 0, \"spam\" : 1}\n",
    "    \n",
    "    words = list(set([word for x in X for word in x]))\n",
    "    word_to_id = { words[i] : i for i in range(len(words)) }\n",
    "    \n",
    "    y = [label_to_id[label] for label in y]\n",
    "    X = [[word_to_id[word] for word in x] for x in X]\n",
    "\n",
    "    return X, y, len(word_to_id)"
   ]
  },
  {
   "cell_type": "markdown",
   "id": "ad2b7b12-70f4-4751-90b3-cec382fa38ef",
   "metadata": {},
   "source": [
    "Let's start by multi-hot encoding the data. Complete the function vectorize_sequences here:"
   ]
  },
  {
   "cell_type": "code",
   "execution_count": 3,
   "id": "e5e2edc8-37f3-4166-985e-502385e07963",
   "metadata": {
    "deletable": false,
    "nbgrader": {
     "cell_type": "code",
     "checksum": "548bea1c22c34ed7b173c56d37b3eb81",
     "grade": true,
     "grade_id": "cell-c73f47d1ae8c0eca",
     "locked": false,
     "points": 5,
     "schema_version": 3,
     "solution": true,
     "task": false
    }
   },
   "outputs": [
    {
     "name": "stdout",
     "output_type": "stream",
     "text": [
      "Files in the archive: ['SMSSpamCollection', 'readme']\n"
     ]
    },
    {
     "ename": "NotImplementedError",
     "evalue": "",
     "output_type": "error",
     "traceback": [
      "\u001b[0;31m---------------------------------------------------------------------------\u001b[0m",
      "\u001b[0;31mNotImplementedError\u001b[0m                       Traceback (most recent call last)",
      "Cell \u001b[0;32mIn[3], line 7\u001b[0m\n\u001b[1;32m      3\u001b[0m \u001b[38;5;28;01mdef\u001b[39;00m \u001b[38;5;21mvectorize_sequences\u001b[39m(sequences, dimension):\n\u001b[1;32m      4\u001b[0m     \u001b[38;5;66;03m# YOUR CODE HERE\u001b[39;00m\n\u001b[1;32m      5\u001b[0m     \u001b[38;5;28;01mraise\u001b[39;00m \u001b[38;5;167;01mNotImplementedError\u001b[39;00m()\n\u001b[0;32m----> 7\u001b[0m X \u001b[38;5;241m=\u001b[39m \u001b[43mvectorize_sequences\u001b[49m\u001b[43m(\u001b[49m\u001b[43mdata\u001b[49m\u001b[43m,\u001b[49m\u001b[43m \u001b[49m\u001b[43mdimension\u001b[49m\u001b[43m)\u001b[49m\n",
      "Cell \u001b[0;32mIn[3], line 5\u001b[0m, in \u001b[0;36mvectorize_sequences\u001b[0;34m(sequences, dimension)\u001b[0m\n\u001b[1;32m      3\u001b[0m \u001b[38;5;28;01mdef\u001b[39;00m \u001b[38;5;21mvectorize_sequences\u001b[39m(sequences, dimension):\n\u001b[1;32m      4\u001b[0m     \u001b[38;5;66;03m# YOUR CODE HERE\u001b[39;00m\n\u001b[0;32m----> 5\u001b[0m     \u001b[38;5;28;01mraise\u001b[39;00m \u001b[38;5;167;01mNotImplementedError\u001b[39;00m()\n",
      "\u001b[0;31mNotImplementedError\u001b[0m: "
     ]
    }
   ],
   "source": [
    "data, labels, dimension = load_data()\n",
    "\n",
    "def vectorize_sequences(sequences, dimension):\n",
    "    # YOUR CODE HERE\n",
    "    raise NotImplementedError()\n",
    "\n",
    "X = vectorize_sequences(data, dimension)"
   ]
  },
  {
   "cell_type": "markdown",
   "id": "6d795088-6d6b-4e3d-a4d3-fc92ba5c2a96",
   "metadata": {},
   "source": [
    "Next, convert the labels into an numpy array of type float32"
   ]
  },
  {
   "cell_type": "code",
   "execution_count": null,
   "id": "e24f0821-08db-4845-a130-46d7dfef1498",
   "metadata": {
    "deletable": false,
    "nbgrader": {
     "cell_type": "code",
     "checksum": "dded67845b875af03878e514c9b3d45b",
     "grade": true,
     "grade_id": "cell-8fa737bd05537bf5",
     "locked": false,
     "points": 2,
     "schema_version": 3,
     "solution": true,
     "task": false
    }
   },
   "outputs": [],
   "source": [
    "# YOUR CODE HERE\n",
    "raise NotImplementedError()"
   ]
  },
  {
   "cell_type": "markdown",
   "id": "7abb5cef-1107-4c4d-afd3-05d918993b0b",
   "metadata": {},
   "source": [
    "Next, split the dataset into training and test data and labels. Assign these to the variables train_X, train_y, test_X, test_y"
   ]
  },
  {
   "cell_type": "code",
   "execution_count": 4,
   "id": "e52cd738-1695-4fbb-b2a0-9ff8ff6a3e94",
   "metadata": {
    "deletable": false,
    "nbgrader": {
     "cell_type": "code",
     "checksum": "4f254396fdab364fe20924e92d079e2b",
     "grade": true,
     "grade_id": "cell-de8a1a2003cc1f1c",
     "locked": false,
     "points": 5,
     "schema_version": 3,
     "solution": true,
     "task": false
    }
   },
   "outputs": [
    {
     "ename": "NotImplementedError",
     "evalue": "",
     "output_type": "error",
     "traceback": [
      "\u001b[0;31m---------------------------------------------------------------------------\u001b[0m",
      "\u001b[0;31mNotImplementedError\u001b[0m                       Traceback (most recent call last)",
      "Cell \u001b[0;32mIn[4], line 2\u001b[0m\n\u001b[1;32m      1\u001b[0m \u001b[38;5;66;03m# YOUR CODE HERE\u001b[39;00m\n\u001b[0;32m----> 2\u001b[0m \u001b[38;5;28;01mraise\u001b[39;00m \u001b[38;5;167;01mNotImplementedError\u001b[39;00m()\n",
      "\u001b[0;31mNotImplementedError\u001b[0m: "
     ]
    }
   ],
   "source": [
    "# YOUR CODE HERE\n",
    "raise NotImplementedError()"
   ]
  },
  {
   "cell_type": "markdown",
   "id": "9939649a-c128-487b-8bc8-85bca3221638",
   "metadata": {},
   "source": [
    "Now create a model using the Sequential function from Keras. There is no one right answer for what your model. Play around with parameters of the model. What's the simplest the model can be and still achieve good accuracy? When does adding more neurons no longer improve the models accuracy?"
   ]
  },
  {
   "cell_type": "code",
   "execution_count": 5,
   "id": "c1d24498-123e-4bd1-8bfe-c9971b0ac729",
   "metadata": {
    "deletable": false,
    "nbgrader": {
     "cell_type": "code",
     "checksum": "6454f588afe1cccccfa80a0b353ca0ac",
     "grade": true,
     "grade_id": "cell-39ff50bd262cc8e7",
     "locked": false,
     "points": 6,
     "schema_version": 3,
     "solution": true,
     "task": false
    }
   },
   "outputs": [
    {
     "ename": "NotImplementedError",
     "evalue": "",
     "output_type": "error",
     "traceback": [
      "\u001b[0;31m---------------------------------------------------------------------------\u001b[0m",
      "\u001b[0;31mNotImplementedError\u001b[0m                       Traceback (most recent call last)",
      "Cell \u001b[0;32mIn[5], line 2\u001b[0m\n\u001b[1;32m      1\u001b[0m \u001b[38;5;66;03m# YOUR CODE HERE\u001b[39;00m\n\u001b[0;32m----> 2\u001b[0m \u001b[38;5;28;01mraise\u001b[39;00m \u001b[38;5;167;01mNotImplementedError\u001b[39;00m()\n\u001b[1;32m      4\u001b[0m model\u001b[38;5;241m.\u001b[39mcompile(optimizer\u001b[38;5;241m=\u001b[39m\u001b[38;5;124m\"\u001b[39m\u001b[38;5;124mrmsprop\u001b[39m\u001b[38;5;124m\"\u001b[39m,\n\u001b[1;32m      5\u001b[0m               loss\u001b[38;5;241m=\u001b[39m\u001b[38;5;124m\"\u001b[39m\u001b[38;5;124mbinary_crossentropy\u001b[39m\u001b[38;5;124m\"\u001b[39m,\n\u001b[1;32m      6\u001b[0m               metrics\u001b[38;5;241m=\u001b[39m[\u001b[38;5;124m\"\u001b[39m\u001b[38;5;124maccuracy\u001b[39m\u001b[38;5;124m\"\u001b[39m])\n\u001b[1;32m      8\u001b[0m history \u001b[38;5;241m=\u001b[39m model\u001b[38;5;241m.\u001b[39mfit(train_X,\n\u001b[1;32m      9\u001b[0m                 train_y, \n\u001b[1;32m     10\u001b[0m                 epochs\u001b[38;5;241m=\u001b[39m\u001b[38;5;241m50\u001b[39m, \n\u001b[1;32m     11\u001b[0m                 batch_size\u001b[38;5;241m=\u001b[39m\u001b[38;5;241m512\u001b[39m)\n",
      "\u001b[0;31mNotImplementedError\u001b[0m: "
     ]
    }
   ],
   "source": [
    "# YOUR CODE HERE\n",
    "raise NotImplementedError()\n",
    "\n",
    "model.compile(optimizer=\"rmsprop\",\n",
    "              loss=\"binary_crossentropy\",\n",
    "              metrics=[\"accuracy\"])\n",
    "\n",
    "history = model.fit(train_X,\n",
    "                train_y, \n",
    "                epochs=50, \n",
    "                batch_size=512)"
   ]
  },
  {
   "cell_type": "markdown",
   "id": "b2e89c5d-b159-40d9-b6ce-264e51fcc5b9",
   "metadata": {},
   "source": [
    "Now print out the test loss and test accuracy of your model."
   ]
  },
  {
   "cell_type": "code",
   "execution_count": 6,
   "id": "278e878b-9f3b-42e7-9328-c8692d3bda55",
   "metadata": {
    "deletable": false,
    "nbgrader": {
     "cell_type": "code",
     "checksum": "923671facd8de0bb117611e7f1457bb7",
     "grade": true,
     "grade_id": "cell-3ecd537ad29c9e92",
     "locked": false,
     "points": 2,
     "schema_version": 3,
     "solution": true,
     "task": false
    }
   },
   "outputs": [
    {
     "ename": "NotImplementedError",
     "evalue": "",
     "output_type": "error",
     "traceback": [
      "\u001b[0;31m---------------------------------------------------------------------------\u001b[0m",
      "\u001b[0;31mNotImplementedError\u001b[0m                       Traceback (most recent call last)",
      "Cell \u001b[0;32mIn[6], line 2\u001b[0m\n\u001b[1;32m      1\u001b[0m \u001b[38;5;66;03m# YOUR CODE HERE\u001b[39;00m\n\u001b[0;32m----> 2\u001b[0m \u001b[38;5;28;01mraise\u001b[39;00m \u001b[38;5;167;01mNotImplementedError\u001b[39;00m()\n",
      "\u001b[0;31mNotImplementedError\u001b[0m: "
     ]
    }
   ],
   "source": [
    "# YOUR CODE HERE\n",
    "raise NotImplementedError()"
   ]
  },
  {
   "cell_type": "code",
   "execution_count": null,
   "id": "7fd4feaf-f925-434e-a057-aaa4f6ef71ab",
   "metadata": {},
   "outputs": [],
   "source": []
  }
 ],
 "metadata": {
  "kernelspec": {
   "display_name": "3.11.9",
   "language": "python",
   "name": "python3"
  },
  "language_info": {
   "codemirror_mode": {
    "name": "ipython",
    "version": 3
   },
   "file_extension": ".py",
   "mimetype": "text/x-python",
   "name": "python",
   "nbconvert_exporter": "python",
   "pygments_lexer": "ipython3",
   "version": "3.11.9"
  }
 },
 "nbformat": 4,
 "nbformat_minor": 5
}
