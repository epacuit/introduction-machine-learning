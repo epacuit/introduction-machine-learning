{
 "cells": [
  {
   "cell_type": "markdown",
   "id": "da542ff0",
   "metadata": {},
   "source": [
    "# Final Project: Independent Model Development\n",
    "\n",
    "**Objective**  \n",
    "Demonstrate your end‑to‑end mastery of the ML workflow by independently choosing a dataset, building at least three Keras models (baseline + two variations), tuning hyper‑parameters, and analyzing the results in a concise written report.  \n"
   ]
  },
  {
   "cell_type": "markdown",
   "id": "b2c92921",
   "metadata": {},
   "source": [
    "## High‑Level Requirements\n",
    "\n",
    "* **Independence:** You are responsible for every decision—data prep, architecture, hyper‑parameters, evaluation, and write‑up.  \n",
    "* **Dataset:**\n",
    "  * Option 1 – Source any public dataset that fits the guidelines below:\n",
    "    * You **may not** use any of the datasets available from the Keras API (https://keras.io/api/datasets/) or that we've used in class.\n",
    "    * Your full training loop (one model) **must finish in ≤ 60 minutes** on either a free Google Colab CPU or GPU, or on your computer.  \n",
    "  * Option 2 – Select **one** dataset from the following list:\n",
    "    1. [Cleveland Heart Disease Database](https://archive.ics.uci.edu/dataset/45/heart+disease)\n",
    "    2. [Credit Risk Data](https://archive.ics.uci.edu/dataset/144/statlog+german+credit+data)\n",
    "    3. [Wine Quality Dataset](https://archive.ics.uci.edu/dataset/186/wine+quality)\n",
    "    4. [Top 50 Spotify Music Dataset](https://gist.github.com/rioto9858/ff72b72b3bf5754d29dd1ebf898fc893#file-top50musicfrom2010-2019-csv)\n",
    "    5. [Human Activity Recognition Using Smartphones](https://archive.ics.uci.edu/dataset/240/human+activity+recognition+using+smartphones)\n",
    "    6. [Character Trajectories](https://archive.ics.uci.edu/dataset/175/character+trajectories)\n",
    "    7. [English-German Translation Corpus](https://huggingface.co/datasets/bentrevett/multi30k#:~:text=This%20dataset%20contains%20the%20,dataset%20from%20here)\n",
    "    8. [Enron Emails](https://huggingface.co/datasets/Yale-LILY/aeslc)\n",
    "    9. [Twitter US Airline Sentiment](https://www.kaggle.com/datasets/crowdflower/twitter-airline-sentiment)\n",
    "* **Models:** Minimum **three** distinct experiments (baseline + two variations). Pre‑trained models are allowed if you perform additional fine‑tuning.  \n",
    "* **Metric:** Choose **one performance metric** appropriate for your task (e.g., Accuracy for classification, MSE for regression). Justify your choice.  \n",
    "* **Deliverable:** A single **Jupyter notebook** (`.ipynb`) containing:  \n",
    "  1. All executable code.  \n",
    "  2. Plots / tables you generate.  \n",
    "  3. A 500‑–1000‑word written report answering the guiding questions below.  \n"
   ]
  },
  {
   "cell_type": "markdown",
   "id": "16cf095a",
   "metadata": {},
   "source": [
    "## Guiding Questions (address these in your report)\n",
    "\n",
    "1. **Model Goal** - Clearly articulate what you are training your model to do.\n",
    "2. **Model Performance** – How does each model perform on your chosen metric? Rank and explain performance differences.  \n",
    "3. **Design Choices** – Why did you select each architecture and hyper‑parameter configuration?  \n",
    "4. **Data Preparation** – What did you do to prepare and split the data, and why?  \n",
    "5. **Baseline Comparison** – What simple baseline did you implement, and how do your models compare?  \n",
    "6. **Learning Curves** – Include and interpret training vs. validation loss/metric plots. What do they say about under/over‑fitting?  \n",
    "7. **Error Analysis** – Can you find any patterns or systematic issues in the errors your model makes?  \n",
    "8. **Future Work** – If you had 10 more hours, what would you try next, and why?  \n"
   ]
  },
  {
   "cell_type": "markdown",
   "id": "00442014",
   "metadata": {},
   "source": [
    "## Grading Rubric\n",
    "\n",
    "| Component | Weight |\n",
    "|-----------|-------:|\n",
    "| Code Quality & Reproducibility | **20 %** |\n",
    "| Experimental Rigor (baseline + 2 variations, clear methodology, proper validation) | **40 %** |\n",
    "| Written Analysis (clarity, depth, answers to guiding questions) | **40 %** |\n"
   ]
  },
  {
   "cell_type": "markdown",
   "id": "5c703348",
   "metadata": {},
   "source": [
    "---\n",
    "# ▶️ Start Your Project Below  \n",
    "\n",
    "Replace the `TODO` placeholders with your own code and analysis. Feel free to add or reorder cells as needed.\n"
   ]
  },
  {
   "cell_type": "code",
   "execution_count": 1,
   "id": "f7e3ce9c",
   "metadata": {},
   "outputs": [],
   "source": [
    "# TODO: Import libraries and set random seeds\n"
   ]
  },
  {
   "cell_type": "code",
   "execution_count": 2,
   "id": "2d9488f5",
   "metadata": {},
   "outputs": [],
   "source": [
    "# TODO: Load and inspect your dataset\n"
   ]
  },
  {
   "cell_type": "code",
   "execution_count": 3,
   "id": "78d62302",
   "metadata": {},
   "outputs": [],
   "source": [
    "# TODO: Clean, transform, and split the data\n"
   ]
  },
  {
   "cell_type": "code",
   "execution_count": 4,
   "id": "a128bc83",
   "metadata": {},
   "outputs": [],
   "source": [
    "# TODO: Build and evaluate a *baseline* model\n"
   ]
  },
  {
   "cell_type": "code",
   "execution_count": 5,
   "id": "ff40a010",
   "metadata": {},
   "outputs": [],
   "source": [
    "# TODO: Build and evaluate **Model 1** (first variation)\n"
   ]
  },
  {
   "cell_type": "code",
   "execution_count": 6,
   "id": "5740699d",
   "metadata": {},
   "outputs": [],
   "source": [
    "# TODO: Build and evaluate **Model 2** (second variation)\n"
   ]
  },
  {
   "cell_type": "code",
   "execution_count": 7,
   "id": "ddefa643",
   "metadata": {},
   "outputs": [],
   "source": [
    "# TODO: Optional – additional models or hyper‑parameter sweeps\n"
   ]
  },
  {
   "cell_type": "code",
   "execution_count": 8,
   "id": "af4644d6",
   "metadata": {},
   "outputs": [],
   "source": [
    "# TODO: Plot learning curves (training vs. validation)\n"
   ]
  },
  {
   "cell_type": "code",
   "execution_count": 9,
   "id": "d94f09f2",
   "metadata": {},
   "outputs": [],
   "source": [
    "# TODO: Perform error analysis\n"
   ]
  },
  {
   "cell_type": "markdown",
   "id": "79738882",
   "metadata": {},
   "source": [
    "## 📄 Written Report *(500–1000 words)*\n",
    "Respond to each guiding question here. Use Markdown formatting as you like."
   ]
  },
  {
   "cell_type": "markdown",
   "id": "082507f1-591a-4948-9f89-38babdd7fcec",
   "metadata": {},
   "source": [
    "\n"
   ]
  }
 ],
 "metadata": {
  "kernelspec": {
   "display_name": "Python 3",
   "language": "python",
   "name": "python3"
  },
  "language_info": {
   "codemirror_mode": {
    "name": "ipython",
    "version": 3
   },
   "file_extension": ".py",
   "mimetype": "text/x-python",
   "name": "python",
   "nbconvert_exporter": "python",
   "pygments_lexer": "ipython3",
   "version": "3.11.6"
  }
 },
 "nbformat": 4,
 "nbformat_minor": 5
}
