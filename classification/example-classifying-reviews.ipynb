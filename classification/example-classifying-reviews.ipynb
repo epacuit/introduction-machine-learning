{
 "cells": [
  {
   "cell_type": "markdown",
   "metadata": {},
   "source": [
    "<a target=\"_blank\" rel=\"noopener noreferrer\" href=\"https://colab.research.google.com/github/epacuit/introduction-machine-learning/blob/main/classification/example-classifying-reviews.ipynb\">![Open In Colab](https://colab.research.google.com/assets/colab-badge.svg)</a>\n",
    "\n",
    "(classifying-movie-reviews)=\n",
    "# Example: Classifying Movie Reviews\n",
    "\n",
    "This example is taken from Section 4.1 of the book \"Deep Learning with Python\" by François Chollet.\n",
    "\n",
    "The IMDB dataset contains a set of 50,000 highly polarized reviews from the Internet Movie Database. They are split into 25,000 reviews for training and 25,000 reviews for testing, each set consisting of 50% negative and 50% positive reviews.\n",
    "\n",
    "We will train a model to classify movie reviews as positive or negative, based on the text content of the reviews."
   ]
  },
  {
   "cell_type": "markdown",
   "metadata": {},
   "source": [
    "## Step 1: Load the data"
   ]
  },
  {
   "cell_type": "code",
   "execution_count": 1,
   "metadata": {},
   "outputs": [],
   "source": [
    "from tensorflow.keras.datasets import imdb \n",
    "\n",
    "(train_data, train_labels), (test_data, test_labels) = imdb.load_data( num_words=10000)"
   ]
  },
  {
   "cell_type": "markdown",
   "metadata": {},
   "source": [
    "`train_data` and `test_data`: lists of reviews, each review being a list of word indices (encoding a sequence of words).\n",
    "\n",
    "`train_labels` and `test_labels`: lists of 0s and 1s, where 0 stands for \"negative\" and 1 stands for \"positive\"."
   ]
  },
  {
   "cell_type": "code",
   "execution_count": 2,
   "metadata": {},
   "outputs": [
    {
     "name": "stdout",
     "output_type": "stream",
     "text": [
      "[1, 14, 22, 16, 43, 530, 973, 1622, 1385, 65, 458, 4468, 66, 3941, 4, 173, 36, 256, 5, 25, 100, 43, 838, 112, 50, 670, 2, 9, 35, 480, 284, 5, 150, 4, 172, 112, 167, 2, 336, 385, 39, 4, 172, 4536, 1111, 17, 546, 38, 13, 447, 4, 192, 50, 16, 6, 147, 2025, 19, 14, 22, 4, 1920, 4613, 469, 4, 22, 71, 87, 12, 16, 43, 530, 38, 76, 15, 13, 1247, 4, 22, 17, 515, 17, 12, 16, 626, 18, 2, 5, 62, 386, 12, 8, 316, 8, 106, 5, 4, 2223, 5244, 16, 480, 66, 3785, 33, 4, 130, 12, 16, 38, 619, 5, 25, 124, 51, 36, 135, 48, 25, 1415, 33, 6, 22, 12, 215, 28, 77, 52, 5, 14, 407, 16, 82, 2, 8, 4, 107, 117, 5952, 15, 256, 4, 2, 7, 3766, 5, 723, 36, 71, 43, 530, 476, 26, 400, 317, 46, 7, 4, 2, 1029, 13, 104, 88, 4, 381, 15, 297, 98, 32, 2071, 56, 26, 141, 6, 194, 7486, 18, 4, 226, 22, 21, 134, 476, 26, 480, 5, 144, 30, 5535, 18, 51, 36, 28, 224, 92, 25, 104, 4, 226, 65, 16, 38, 1334, 88, 12, 16, 283, 5, 16, 4472, 113, 103, 32, 15, 16, 5345, 19, 178, 32]\n",
      "1\n"
     ]
    }
   ],
   "source": [
    "review_idx = 0\n",
    "print(train_data[review_idx])\n",
    "print(train_labels[review_idx])"
   ]
  },
  {
   "cell_type": "markdown",
   "metadata": {},
   "source": [
    "The `imbdb` object has a method `get_word_index` that returns a dictionary mapping words to an integer index."
   ]
  },
  {
   "cell_type": "code",
   "execution_count": 3,
   "metadata": {},
   "outputs": [
    {
     "name": "stdout",
     "output_type": "stream",
     "text": [
      "Review index: 2\n",
      "Review data:\n",
      "[1, 14, 47, 8, 30, 31, 7, 4, 249, 108, 7, 4, 5974, 54, 61, 369, 13, 71, 149, 14, 22, 112, 4, 2401, 311, 12, 16, 3711, 33, 75, 43, 1829, 296, 4, 86, 320, 35, 534, 19, 263, 4821, 1301, 4, 1873, 33, 89, 78, 12, 66, 16, 4, 360, 7, 4, 58, 316, 334, 11, 4, 1716, 43, 645, 662, 8, 257, 85, 1200, 42, 1228, 2578, 83, 68, 3912, 15, 36, 165, 1539, 278, 36, 69, 2, 780, 8, 106, 14, 6905, 1338, 18, 6, 22, 12, 215, 28, 610, 40, 6, 87, 326, 23, 2300, 21, 23, 22, 12, 272, 40, 57, 31, 11, 4, 22, 47, 6, 2307, 51, 9, 170, 23, 595, 116, 595, 1352, 13, 191, 79, 638, 89, 2, 14, 9, 8, 106, 607, 624, 35, 534, 6, 227, 7, 129, 113]\n",
      "Review:\n",
      "? this has to be one of the worst films of the 1990s when my friends i were watching this film being the target audience it was aimed at we just sat watched the first half an hour with our jaws touching the floor at how bad it really was the rest of the time everyone else in the theatre just started talking to each other leaving or generally crying into their popcorn that they actually paid money they had ? working to watch this feeble excuse for a film it must have looked like a great idea on paper but on film it looks like no one in the film has a clue what is going on crap acting crap costumes i can't get across how ? this is to watch save yourself an hour a bit of your life\n",
      "Label: 0\n"
     ]
    }
   ],
   "source": [
    "review_idx = 2\n",
    "word_index = imdb.get_word_index() \n",
    "reverse_word_index = dict([(value, key) for (key, value) in word_index.items()]) \n",
    "\n",
    "# Note that the indices are offset by 3 because 0, 1, and 2 are \n",
    "# reserved indices for “padding,” “start of sequence,” and “unknown.”\n",
    "decoded_review = \" \".join([reverse_word_index.get(i-3, \"?\") \n",
    "                           for i in train_data[review_idx]])\n",
    "\n",
    "print(f\"Review index: {review_idx}\")\n",
    "print(f\"Review data:\\n{train_data[review_idx]}\")\n",
    "print(f\"Review:\\n{decoded_review}\")\n",
    "print(f\"Label: {train_labels[review_idx]}\")"
   ]
  },
  {
   "cell_type": "code",
   "execution_count": 4,
   "metadata": {},
   "outputs": [
    {
     "name": "stdout",
     "output_type": "stream",
     "text": [
      "1\n",
      "9999\n",
      "the\n",
      "1\n"
     ]
    }
   ],
   "source": [
    "# the words indices range from 1 to 9999\n",
    "print(min(min(seq) for seq in train_data))\n",
    "print(max(max(seq) for seq in train_data))\n",
    "\n",
    "print(reverse_word_index[1])\n",
    "print(word_index[\"the\"])\n"
   ]
  },
  {
   "cell_type": "markdown",
   "metadata": {},
   "source": [
    "## Step 2: Preprocess the data\n",
    "\n",
    "In this step, we will convert the lists of integers into tensors that our neural network can process. \n",
    "\n",
    "We will implement **multi-hot-encoding** - a binary representation commonly used in NLP - to transform our lists into vectors of 0s and 1s. Each resulting tensor will be a 10,000-element vector where:\n",
    "\n",
    "* 1 indicates the word appears in the review\n",
    "* 0 indicates the word is absent\n",
    "\n",
    "This representation creates a standardized format that our model can efficiently process while preserving the essential information about word presence in each review.\n",
    "\n"
   ]
  },
  {
   "cell_type": "code",
   "execution_count": 5,
   "metadata": {},
   "outputs": [],
   "source": [
    "import numpy as np\n",
    "def vectorize_sequences(sequences, dimension=10000):\n",
    "    results = np.zeros((len(sequences), dimension)) \n",
    "    for i, sequence in enumerate(sequences):\n",
    "        for j in sequence:  \n",
    "            results[i, j] = 1.\n",
    "    return results \n",
    "\n",
    "x_train = vectorize_sequences(train_data) \n",
    "x_test = vectorize_sequences(test_data)\n",
    "\n",
    "y_train = np.asarray(train_labels).astype(\"float32\") \n",
    "y_test = np.asarray(test_labels).astype(\"float32\")"
   ]
  },
  {
   "cell_type": "code",
   "execution_count": 6,
   "metadata": {},
   "outputs": [
    {
     "name": "stdout",
     "output_type": "stream",
     "text": [
      "120.0\n",
      "218\n"
     ]
    }
   ],
   "source": [
    "\n",
    "# check that the vectorized data is correct\n",
    "for i in train_data[0]: \n",
    "    if x_train[0, i] != 1.0: \n",
    "        print(f\"i={i} x_train[0, {i}]={x_train[0, i]}\")\n",
    "\n",
    "# test your understanding: why are these values not the same? \n",
    "print(sum(x_train[0]))\n",
    "print(len(train_data[0]))\n"
   ]
  },
  {
   "cell_type": "markdown",
   "metadata": {},
   "source": [
    "## Step 3: Build the model"
   ]
  },
  {
   "cell_type": "code",
   "execution_count": 7,
   "metadata": {},
   "outputs": [],
   "source": [
    "from tensorflow import keras \n",
    "from tensorflow.keras.layers import Dense\n",
    "\n",
    "model = keras.Sequential([\n",
    "    Dense(16, activation=\"relu\"),\n",
    "    Dense(16, activation=\"relu\"),\n",
    "    Dense(1, activation=\"sigmoid\")\n",
    "])\n",
    "\n",
    "model.compile(optimizer=\"rmsprop\",\n",
    "              loss=\"binary_crossentropy\",\n",
    "              metrics=[\"accuracy\"])"
   ]
  },
  {
   "cell_type": "markdown",
   "metadata": {},
   "source": [
    "## Step 4: Train the model\n",
    "\n",
    "To train the model, we will use the `rmsprop` optimizer and the `binary_crossentropy` loss function. We will also monitor accuracy during training.  In addition, we will create a validation set by setting apart 10,000 samples from the original training data.\n",
    "\n",
    "Here is an outline of the training loop:\n",
    "\n",
    "0. Given the model, learning_rate, batch_size, epochs, train_data, train_labels, test_data, and test_labels\n",
    "1. Initialize the optimizer with learning_rate\n",
    "2. For each epoch from 1 to epochs\n",
    "    1. Initialize an empty list of training losses\n",
    "    2. For each batch of training data of size batch_size\n",
    "        1. Extract the inputs and targets\n",
    "        2. Do a forward pass through the model\n",
    "        4. Calculate the loss\n",
    "        5. Backward pass by updating the weights\n",
    "        6. Append the loss to the list of training losses\n",
    "    3. Initialize an empty list of validation losses\n",
    "    4. For each batch of validation data\n",
    "        1. Extract the inputs and targets\n",
    "        2. Do a forward pass through the model\n",
    "        3. Calculate the loss\n",
    "        4. Append the loss to the list of validation losses\n",
    "    5. Calculate and print the average training loss\n",
    "    6. Calculate and print the average validation loss\n",
    "\n",
    "#### Batch size\n",
    "\n",
    "The `batch_size` parameter is a crucial hyperparameter that determines how many examples are processed together in a single forward/backward pass:\n",
    "\n",
    "- Instead of updating model weights after each individual example (inefficient) or after the entire dataset (memory-intensive), we update after each batch\n",
    "- Each batch contains exactly `batch_size` examples (except possibly the last batch, which might be smaller)\n",
    "- The model weights are updated once per batch, not once per example\n",
    "- Smaller batch sizes mean more frequent weight updates but with noisier gradients\n",
    "- Larger batch sizes mean fewer weight updates per epoch but with more stable gradients\n",
    "\n",
    "#### Validation Process\n",
    "\n",
    "For validation, the entire validation set is evaluated, but still processed in batches for memory efficiency:\n",
    "\n",
    "- The validation data is processed in batches of size `batch_size`, just like training data\n",
    "- All validation samples are evaluated and their metrics averaged together\n",
    "- Unlike training, no weight updates occur during validation\n",
    "- The final validation metric represents performance across the entire validation set\n",
    "- Validation typically happens once per epoch, not after every training batch\n",
    "\n",
    "This approach enables evaluation on large validation sets that might not fit into memory all at once, while still getting a complete measure of model performance on the entire validation dataset.\n"
   ]
  },
  {
   "cell_type": "code",
   "execution_count": 8,
   "metadata": {},
   "outputs": [],
   "source": [
    "x_val = x_train[:10000]\n",
    "partial_x_train = x_train[10000:]\n",
    "y_val = y_train[:10000]\n",
    "partial_y_train = y_train[10000:]"
   ]
  },
  {
   "cell_type": "markdown",
   "metadata": {},
   "source": [
    "We will train the model for 20 epochs in mini-batches of 512 samples."
   ]
  },
  {
   "cell_type": "code",
   "execution_count": 9,
   "metadata": {},
   "outputs": [
    {
     "name": "stdout",
     "output_type": "stream",
     "text": [
      "Epoch 1/20\n",
      "\u001b[1m30/30\u001b[0m \u001b[32m━━━━━━━━━━━━━━━━━━━━\u001b[0m\u001b[37m\u001b[0m \u001b[1m1s\u001b[0m 13ms/step - accuracy: 0.6758 - loss: 0.6165 - val_accuracy: 0.8632 - val_loss: 0.4471\n",
      "Epoch 2/20\n",
      "\u001b[1m30/30\u001b[0m \u001b[32m━━━━━━━━━━━━━━━━━━━━\u001b[0m\u001b[37m\u001b[0m \u001b[1m0s\u001b[0m 5ms/step - accuracy: 0.8821 - loss: 0.3974 - val_accuracy: 0.8740 - val_loss: 0.3498\n",
      "Epoch 3/20\n",
      "\u001b[1m30/30\u001b[0m \u001b[32m━━━━━━━━━━━━━━━━━━━━\u001b[0m\u001b[37m\u001b[0m \u001b[1m0s\u001b[0m 5ms/step - accuracy: 0.9168 - loss: 0.2851 - val_accuracy: 0.8875 - val_loss: 0.3006\n",
      "Epoch 4/20\n",
      "\u001b[1m30/30\u001b[0m \u001b[32m━━━━━━━━━━━━━━━━━━━━\u001b[0m\u001b[37m\u001b[0m \u001b[1m0s\u001b[0m 5ms/step - accuracy: 0.9372 - loss: 0.2193 - val_accuracy: 0.8848 - val_loss: 0.2876\n",
      "Epoch 5/20\n",
      "\u001b[1m30/30\u001b[0m \u001b[32m━━━━━━━━━━━━━━━━━━━━\u001b[0m\u001b[37m\u001b[0m \u001b[1m0s\u001b[0m 5ms/step - accuracy: 0.9464 - loss: 0.1835 - val_accuracy: 0.8875 - val_loss: 0.2762\n",
      "Epoch 6/20\n",
      "\u001b[1m30/30\u001b[0m \u001b[32m━━━━━━━━━━━━━━━━━━━━\u001b[0m\u001b[37m\u001b[0m \u001b[1m0s\u001b[0m 5ms/step - accuracy: 0.9567 - loss: 0.1525 - val_accuracy: 0.8808 - val_loss: 0.3006\n",
      "Epoch 7/20\n",
      "\u001b[1m30/30\u001b[0m \u001b[32m━━━━━━━━━━━━━━━━━━━━\u001b[0m\u001b[37m\u001b[0m \u001b[1m0s\u001b[0m 5ms/step - accuracy: 0.9564 - loss: 0.1417 - val_accuracy: 0.8839 - val_loss: 0.2871\n",
      "Epoch 8/20\n",
      "\u001b[1m30/30\u001b[0m \u001b[32m━━━━━━━━━━━━━━━━━━━━\u001b[0m\u001b[37m\u001b[0m \u001b[1m0s\u001b[0m 5ms/step - accuracy: 0.9721 - loss: 0.1099 - val_accuracy: 0.8841 - val_loss: 0.2950\n",
      "Epoch 9/20\n",
      "\u001b[1m30/30\u001b[0m \u001b[32m━━━━━━━━━━━━━━━━━━━━\u001b[0m\u001b[37m\u001b[0m \u001b[1m0s\u001b[0m 5ms/step - accuracy: 0.9738 - loss: 0.0972 - val_accuracy: 0.8803 - val_loss: 0.3212\n",
      "Epoch 10/20\n",
      "\u001b[1m30/30\u001b[0m \u001b[32m━━━━━━━━━━━━━━━━━━━━\u001b[0m\u001b[37m\u001b[0m \u001b[1m0s\u001b[0m 4ms/step - accuracy: 0.9798 - loss: 0.0804 - val_accuracy: 0.8785 - val_loss: 0.3287\n",
      "Epoch 11/20\n",
      "\u001b[1m30/30\u001b[0m \u001b[32m━━━━━━━━━━━━━━━━━━━━\u001b[0m\u001b[37m\u001b[0m \u001b[1m0s\u001b[0m 4ms/step - accuracy: 0.9857 - loss: 0.0671 - val_accuracy: 0.8703 - val_loss: 0.3721\n",
      "Epoch 12/20\n",
      "\u001b[1m30/30\u001b[0m \u001b[32m━━━━━━━━━━━━━━━━━━━━\u001b[0m\u001b[37m\u001b[0m \u001b[1m0s\u001b[0m 4ms/step - accuracy: 0.9862 - loss: 0.0621 - val_accuracy: 0.8790 - val_loss: 0.3565\n",
      "Epoch 13/20\n",
      "\u001b[1m30/30\u001b[0m \u001b[32m━━━━━━━━━━━━━━━━━━━━\u001b[0m\u001b[37m\u001b[0m \u001b[1m0s\u001b[0m 4ms/step - accuracy: 0.9913 - loss: 0.0494 - val_accuracy: 0.8660 - val_loss: 0.4210\n",
      "Epoch 14/20\n",
      "\u001b[1m30/30\u001b[0m \u001b[32m━━━━━━━━━━━━━━━━━━━━\u001b[0m\u001b[37m\u001b[0m \u001b[1m0s\u001b[0m 4ms/step - accuracy: 0.9917 - loss: 0.0440 - val_accuracy: 0.8749 - val_loss: 0.3935\n",
      "Epoch 15/20\n",
      "\u001b[1m30/30\u001b[0m \u001b[32m━━━━━━━━━━━━━━━━━━━━\u001b[0m\u001b[37m\u001b[0m \u001b[1m0s\u001b[0m 4ms/step - accuracy: 0.9944 - loss: 0.0356 - val_accuracy: 0.8755 - val_loss: 0.4155\n",
      "Epoch 16/20\n",
      "\u001b[1m30/30\u001b[0m \u001b[32m━━━━━━━━━━━━━━━━━━━━\u001b[0m\u001b[37m\u001b[0m \u001b[1m0s\u001b[0m 4ms/step - accuracy: 0.9944 - loss: 0.0320 - val_accuracy: 0.8754 - val_loss: 0.4319\n",
      "Epoch 17/20\n",
      "\u001b[1m30/30\u001b[0m \u001b[32m━━━━━━━━━━━━━━━━━━━━\u001b[0m\u001b[37m\u001b[0m \u001b[1m0s\u001b[0m 4ms/step - accuracy: 0.9966 - loss: 0.0259 - val_accuracy: 0.8730 - val_loss: 0.4595\n",
      "Epoch 18/20\n",
      "\u001b[1m30/30\u001b[0m \u001b[32m━━━━━━━━━━━━━━━━━━━━\u001b[0m\u001b[37m\u001b[0m \u001b[1m0s\u001b[0m 4ms/step - accuracy: 0.9968 - loss: 0.0252 - val_accuracy: 0.8738 - val_loss: 0.4750\n",
      "Epoch 19/20\n",
      "\u001b[1m30/30\u001b[0m \u001b[32m━━━━━━━━━━━━━━━━━━━━\u001b[0m\u001b[37m\u001b[0m \u001b[1m0s\u001b[0m 4ms/step - accuracy: 0.9984 - loss: 0.0186 - val_accuracy: 0.8736 - val_loss: 0.4929\n",
      "Epoch 20/20\n",
      "\u001b[1m30/30\u001b[0m \u001b[32m━━━━━━━━━━━━━━━━━━━━\u001b[0m\u001b[37m\u001b[0m \u001b[1m0s\u001b[0m 4ms/step - accuracy: 0.9991 - loss: 0.0133 - val_accuracy: 0.8712 - val_loss: 0.5214\n"
     ]
    }
   ],
   "source": [
    "history = model.fit(partial_x_train,\n",
    "                    partial_y_train, \n",
    "                    epochs=20, \n",
    "                    batch_size=512, \n",
    "                    validation_data=(x_val, y_val))"
   ]
  },
  {
   "cell_type": "code",
   "execution_count": 10,
   "metadata": {},
   "outputs": [
    {
     "data": {
      "image/png": "[encoded data removed]",
      "text/plain": [
       "<Figure size 640x480 with 1 Axes>"
      ]
     },
     "metadata": {},
     "output_type": "display_data"
    }
   ],
   "source": [
    "import matplotlib.pyplot as plt \n",
    "import seaborn as sns\n",
    "\n",
    "sns.set_style(\"whitegrid\")\n",
    "history_dict = history.history\n",
    "\n",
    "loss_values = history_dict[\"loss\"]\n",
    "val_loss_values = history_dict[\"val_loss\"]\n",
    "\n",
    "epochs = range(1, len(loss_values) + 1) \n",
    "plt.plot(epochs, loss_values, \"bo\", label=\"Training loss\") \n",
    "plt.plot(epochs, val_loss_values, \"b\", label=\"Validation loss\") \n",
    "plt.title(\"Training and validation loss\") \n",
    "plt.xticks(epochs)\n",
    "plt.xlabel(\"Epochs\") \n",
    "plt.ylabel(\"Loss\") \n",
    "plt.legend() \n",
    "sns.despine()\n",
    "plt.grid(False)\n",
    "plt.show()"
   ]
  },
  {
   "cell_type": "code",
   "execution_count": 11,
   "metadata": {},
   "outputs": [
    {
     "data": {
      "image/png": "[encoded data removed]",
      "text/plain": [
       "<Figure size 640x480 with 1 Axes>"
      ]
     },
     "metadata": {},
     "output_type": "display_data"
    }
   ],
   "source": [
    "acc = history_dict[\"accuracy\"]\n",
    "\n",
    "val_acc = history_dict[\"val_accuracy\"]\n",
    "\n",
    "epochs = range(1, len(loss_values) + 1) \n",
    "plt.plot(epochs, acc, \"bo\", label=\"Training acc\")\n",
    "plt.plot(epochs, val_acc, \"b\", label=\"Validation acc\") \n",
    "plt.title(\"Training and validation accuracy\") \n",
    "plt.xticks(epochs)\n",
    "plt.xlabel(\"Epochs\") \n",
    "plt.ylabel(\"Accuracy\") \n",
    "plt.legend() \n",
    "sns.despine()\n",
    "plt.grid(False)\n",
    "plt.show()"
   ]
  },
  {
   "cell_type": "markdown",
   "metadata": {},
   "source": [
    "This shows that the model quickly starts overfitting the training data. Overfitting occurs when a model learns the training data too well, capturing not just the underlying patterns but also the random noise and peculiarities specific to the training set. We can identify overfitting by observing a characteristic divergence between training and validation metrics: while training loss continues to decrease, validation loss begins to increase or plateau.\n",
    "\n",
    "Several indicators of overfitting in this case include:\n",
    "\n",
    "* Decreasing training loss alongside increasing validation loss\n",
    "* Growing gap between training and validation accuracy\n",
    "\n",
    "This behavior suggests the model is becoming too specialized to the training examples rather than learning generalizable patterns. There are several strategies to mitigate overfitting, which we will explore later in the course.  In this case, we will stop training after 4 epochs to prevent overfitting."
   ]
  },
  {
   "cell_type": "code",
   "execution_count": 12,
   "metadata": {},
   "outputs": [
    {
     "name": "stdout",
     "output_type": "stream",
     "text": [
      "Epoch 1/4\n",
      "\u001b[1m49/49\u001b[0m \u001b[32m━━━━━━━━━━━━━━━━━━━━\u001b[0m\u001b[37m\u001b[0m \u001b[1m1s\u001b[0m 4ms/step - accuracy: 0.7157 - loss: 0.5676\n",
      "Epoch 2/4\n",
      "\u001b[1m49/49\u001b[0m \u001b[32m━━━━━━━━━━━━━━━━━━━━\u001b[0m\u001b[37m\u001b[0m \u001b[1m0s\u001b[0m 3ms/step - accuracy: 0.9022 - loss: 0.2932\n",
      "Epoch 3/4\n",
      "\u001b[1m49/49\u001b[0m \u001b[32m━━━━━━━━━━━━━━━━━━━━\u001b[0m\u001b[37m\u001b[0m \u001b[1m0s\u001b[0m 3ms/step - accuracy: 0.9257 - loss: 0.2175\n",
      "Epoch 4/4\n",
      "\u001b[1m49/49\u001b[0m \u001b[32m━━━━━━━━━━━━━━━━━━━━\u001b[0m\u001b[37m\u001b[0m \u001b[1m0s\u001b[0m 3ms/step - accuracy: 0.9368 - loss: 0.1836\n",
      "\u001b[1m782/782\u001b[0m \u001b[32m━━━━━━━━━━━━━━━━━━━━\u001b[0m\u001b[37m\u001b[0m \u001b[1m0s\u001b[0m 555us/step - accuracy: 0.8769 - loss: 0.3014\n",
      "The test loss is 0.302092045545578\n",
      "The test accuracy is 0.8773999810218811\n",
      "The predictions are:\n",
      "\u001b[1m782/782\u001b[0m \u001b[32m━━━━━━━━━━━━━━━━━━━━\u001b[0m\u001b[37m\u001b[0m \u001b[1m0s\u001b[0m 362us/step\n",
      "[[0.15246597]\n",
      " [0.9969948 ]\n",
      " [0.54584444]\n",
      " ...\n",
      " [0.09481005]\n",
      " [0.05016625]\n",
      " [0.35019177]]\n"
     ]
    }
   ],
   "source": [
    "model = keras.Sequential([\n",
    "    Dense(16, activation=\"relu\"),\n",
    "    Dense(16, activation=\"relu\"), \n",
    "    Dense(1, activation=\"sigmoid\")\n",
    "])\n",
    "\n",
    "model.compile(\n",
    "    optimizer=\"rmsprop\",\n",
    "    loss=\"binary_crossentropy\",\n",
    "    metrics=[\"accuracy\"])\n",
    "\n",
    "model.fit(x_train, y_train, epochs=4, batch_size=512) \n",
    "results = model.evaluate(x_test, y_test)\n",
    "\n",
    "print(f\"The test loss is {results[0]}\")\n",
    "print(f\"The test accuracy is {results[1]}\")\n",
    "print(\"The predictions are:\")   \n",
    "print(model.predict(x_test))"
   ]
  },
  {
   "cell_type": "markdown",
   "metadata": {},
   "source": [
    "Some things to try: \n",
    "\n",
    "* Try using different optimizers: `adam` or `sgd`\n",
    "* Try using one or three representation layers, and see how doing so affects validation and test accuracy.\n",
    "* Try using layers with more units or fewer units: 32 units, 64 units, and so on.\n",
    "* Try using the `mse` loss function instead of `binary_crossentropy`.\n",
    "* Try using the `tanh` activation instead of `relu`."
   ]
  },
  {
   "cell_type": "code",
   "execution_count": 142,
   "metadata": {},
   "outputs": [
    {
     "name": "stdout",
     "output_type": "stream",
     "text": [
      "Epoch 1/4\n",
      "\u001b[1m49/49\u001b[0m \u001b[32m━━━━━━━━━━━━━━━━━━━━\u001b[0m\u001b[37m\u001b[0m \u001b[1m0s\u001b[0m 3ms/step - accuracy: 0.7334 - loss: 0.5589\n",
      "Epoch 2/4\n",
      "\u001b[1m49/49\u001b[0m \u001b[32m━━━━━━━━━━━━━━━━━━━━\u001b[0m\u001b[37m\u001b[0m \u001b[1m0s\u001b[0m 3ms/step - accuracy: 0.9013 - loss: 0.2803\n",
      "Epoch 3/4\n",
      "\u001b[1m49/49\u001b[0m \u001b[32m━━━━━━━━━━━━━━━━━━━━\u001b[0m\u001b[37m\u001b[0m \u001b[1m0s\u001b[0m 3ms/step - accuracy: 0.9284 - loss: 0.2119\n",
      "Epoch 4/4\n",
      "\u001b[1m49/49\u001b[0m \u001b[32m━━━━━━━━━━━━━━━━━━━━\u001b[0m\u001b[37m\u001b[0m \u001b[1m0s\u001b[0m 3ms/step - accuracy: 0.9412 - loss: 0.1748\n",
      "\u001b[1m782/782\u001b[0m \u001b[32m━━━━━━━━━━━━━━━━━━━━\u001b[0m\u001b[37m\u001b[0m \u001b[1m0s\u001b[0m 453us/step - accuracy: 0.8807 - loss: 0.2964\n",
      "The test loss is 0.29562628269195557\n",
      "The test accuracy is 0.8824800252914429\n",
      "The predictions are:\n",
      "\u001b[1m782/782\u001b[0m \u001b[32m━━━━━━━━━━━━━━━━━━━━\u001b[0m\u001b[37m\u001b[0m \u001b[1m0s\u001b[0m 333us/step\n",
      "[[0.16801447]\n",
      " [0.9994885 ]\n",
      " [0.77144325]\n",
      " ...\n",
      " [0.05713792]\n",
      " [0.03728548]\n",
      " [0.6995398 ]]\n"
     ]
    }
   ],
   "source": [
    "model = keras.Sequential([\n",
    "    Dense(16, activation=\"relu\"),\n",
    "    Dense(16, activation=\"relu\"), \n",
    "    Dense(1, activation=\"sigmoid\")\n",
    "])\n",
    "\n",
    "model.compile(\n",
    "    optimizer=\"rmsprop\",\n",
    "    loss=\"binary_crossentropy\",\n",
    "    metrics=[\"accuracy\"])\n",
    "\n",
    "model.fit(x_train, y_train, epochs=4, batch_size=512) \n",
    "results = model.evaluate(x_test, y_test)\n",
    "\n",
    "print(f\"The test loss is {results[0]}\")\n",
    "print(f\"The test accuracy is {results[1]}\")\n",
    "print(\"The predictions are:\")   \n",
    "print(model.predict(x_test))"
   ]
  },
  {
   "cell_type": "code",
   "execution_count": null,
   "metadata": {},
   "outputs": [],
   "source": []
  },
  {
   "cell_type": "code",
   "execution_count": null,
   "metadata": {},
   "outputs": [],
   "source": []
  }
 ],
 "metadata": {
  "kernelspec": {
   "display_name": "3.11.9",
   "language": "python",
   "name": "python3"
  },
  "language_info": {
   "codemirror_mode": {
    "name": "ipython",
    "version": 3
   },
   "file_extension": ".py",
   "mimetype": "text/x-python",
   "name": "python",
   "nbconvert_exporter": "python",
   "pygments_lexer": "ipython3",
   "version": "3.11.9"
  }
 },
 "nbformat": 4,
 "nbformat_minor": 2
}
