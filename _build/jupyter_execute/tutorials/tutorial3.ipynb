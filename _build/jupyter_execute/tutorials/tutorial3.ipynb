{
 "cells": [
  {
   "cell_type": "markdown",
   "metadata": {},
   "source": [
    "<a target=\"_blank\" rel=\"noopener noreferrer\" href=\"https://colab.research.google.com/github/epacuit/introduction-machine-learning/blob/main/tutorials/tutorial3.ipynb\">![Open In Colab](https://colab.research.google.com/assets/colab-badge.svg)</a>\n",
    "\n",
    "\n",
    "Before you turn this problem in, make sure everything runs as expected. First, **restart the kernel** (in the menubar, select Kernel $\\rightarrow$ Restart) and then **run all cells** (in the menubar, select Cell $\\rightarrow$ Run All).\n",
    "\n",
    "Make sure you fill in any place that says `YOUR CODE HERE` or \"YOUR ANSWER HERE\", as well as your name and collaborators below:"
   ]
  },
  {
   "cell_type": "code",
   "execution_count": 1,
   "metadata": {},
   "outputs": [],
   "source": [
    "NAME = \"\"\n",
    "COLLABORATORS = \"\""
   ]
  },
  {
   "cell_type": "markdown",
   "metadata": {},
   "source": [
    "---"
   ]
  },
  {
   "cell_type": "markdown",
   "metadata": {},
   "source": [
    "(tutorial3)=\n",
    "# Tutorial 3: Brief Introduction to Pandas\n",
    "\n",
    "This tutorial will provide a very brief introduction to the Pandas library. Pandas is a powerful data manipulation library for Python. \n",
    "\n",
    "For a more in-depth introduction to Pandas, read the [Pandas Documentation](https://pandas.pydata.org/docs/).\n",
    "\n"
   ]
  },
  {
   "cell_type": "markdown",
   "metadata": {},
   "source": [
    "#### Import the Pandas library and read a dataset\n",
    "\n",
    "The first step is to read a dataset into a Pandas DataFrame. A DataFrame is a two-dimensional, size-mutable, and heterogeneous tabular data structure with labeled axes (rows and columns)."
   ]
  },
  {
   "cell_type": "code",
   "execution_count": 2,
   "metadata": {},
   "outputs": [],
   "source": [
    "import pandas as pd "
   ]
  },
  {
   "cell_type": "code",
   "execution_count": 3,
   "metadata": {},
   "outputs": [],
   "source": [
    "url = 'https://raw.githubusercontent.com/epacuit/introduction-machine-learning/refs/heads/main/tutorials/comedy_comparisons_metadata.csv'\n",
    "\n",
    "df = pd.read_csv(url)"
   ]
  },
  {
   "cell_type": "code",
   "execution_count": 4,
   "metadata": {},
   "outputs": [
    {
     "data": {
      "text/plain": [
       "pandas.core.frame.DataFrame"
      ]
     },
     "execution_count": 4,
     "metadata": {},
     "output_type": "execute_result"
    }
   ],
   "source": [
    "type(df) # the type of the object is a DataFrame"
   ]
  },
  {
   "cell_type": "code",
   "execution_count": 5,
   "metadata": {},
   "outputs": [
    {
     "data": {
      "text/html": [
       "<div>\n",
       "<style scoped>\n",
       "    .dataframe tbody tr th:only-of-type {\n",
       "        vertical-align: middle;\n",
       "    }\n",
       "\n",
       "    .dataframe tbody tr th {\n",
       "        vertical-align: top;\n",
       "    }\n",
       "\n",
       "    .dataframe thead th {\n",
       "        text-align: right;\n",
       "    }\n",
       "</style>\n",
       "<table border=\"1\" class=\"dataframe\">\n",
       "  <thead>\n",
       "    <tr style=\"text-align: right;\">\n",
       "      <th></th>\n",
       "      <th>video_id</th>\n",
       "      <th>title</th>\n",
       "      <th>view_count</th>\n",
       "      <th>like_count</th>\n",
       "      <th>comment_count</th>\n",
       "      <th>duration</th>\n",
       "    </tr>\n",
       "  </thead>\n",
       "  <tbody>\n",
       "    <tr>\n",
       "      <th>0</th>\n",
       "      <td>DE1-cD3pTkA</td>\n",
       "      <td>Walker Texas Ranger clip LIVE</td>\n",
       "      <td>224.0</td>\n",
       "      <td>1.0</td>\n",
       "      <td>0.0</td>\n",
       "      <td>PT32S</td>\n",
       "    </tr>\n",
       "    <tr>\n",
       "      <th>1</th>\n",
       "      <td>XZqSz_X-j8Y</td>\n",
       "      <td>Egg mcmuffin of a crappy commercial</td>\n",
       "      <td>1919.0</td>\n",
       "      <td>7.0</td>\n",
       "      <td>3.0</td>\n",
       "      <td>PT44S</td>\n",
       "    </tr>\n",
       "    <tr>\n",
       "      <th>2</th>\n",
       "      <td>vzpD6OogahQ</td>\n",
       "      <td>Potter Puppet Pals: School Is For Losers</td>\n",
       "      <td>14958231.0</td>\n",
       "      <td>87806.0</td>\n",
       "      <td>11321.0</td>\n",
       "      <td>PT33S</td>\n",
       "    </tr>\n",
       "    <tr>\n",
       "      <th>3</th>\n",
       "      <td>_OpzEHBDwQE</td>\n",
       "      <td>Very Funny Commercial  Think Beyond Your Ear (...</td>\n",
       "      <td>61696.0</td>\n",
       "      <td>179.0</td>\n",
       "      <td>2.0</td>\n",
       "      <td>PT38S</td>\n",
       "    </tr>\n",
       "    <tr>\n",
       "      <th>4</th>\n",
       "      <td>yzGWOpop6i8</td>\n",
       "      <td>Happy Valentines Day</td>\n",
       "      <td>15852.0</td>\n",
       "      <td>315.0</td>\n",
       "      <td>77.0</td>\n",
       "      <td>PT1M14S</td>\n",
       "    </tr>\n",
       "  </tbody>\n",
       "</table>\n",
       "</div>"
      ],
      "text/plain": [
       "      video_id                                              title  view_count  \\\n",
       "0  DE1-cD3pTkA                      Walker Texas Ranger clip LIVE       224.0   \n",
       "1  XZqSz_X-j8Y                Egg mcmuffin of a crappy commercial      1919.0   \n",
       "2  vzpD6OogahQ           Potter Puppet Pals: School Is For Losers  14958231.0   \n",
       "3  _OpzEHBDwQE  Very Funny Commercial  Think Beyond Your Ear (...     61696.0   \n",
       "4  yzGWOpop6i8                               Happy Valentines Day     15852.0   \n",
       "\n",
       "   like_count  comment_count duration  \n",
       "0         1.0            0.0    PT32S  \n",
       "1         7.0            3.0    PT44S  \n",
       "2     87806.0        11321.0    PT33S  \n",
       "3       179.0            2.0    PT38S  \n",
       "4       315.0           77.0  PT1M14S  "
      ]
     },
     "execution_count": 5,
     "metadata": {},
     "output_type": "execute_result"
    }
   ],
   "source": [
    "df.head() # shows the first 5 rows of the DataFrame"
   ]
  },
  {
   "cell_type": "code",
   "execution_count": 6,
   "metadata": {},
   "outputs": [
    {
     "data": {
      "text/plain": [
       "Index(['video_id', 'title', 'view_count', 'like_count', 'comment_count',\n",
       "       'duration'],\n",
       "      dtype='object')"
      ]
     },
     "execution_count": 6,
     "metadata": {},
     "output_type": "execute_result"
    }
   ],
   "source": [
    "df.columns # lists the columns of the DataFrame"
   ]
  },
  {
   "cell_type": "code",
   "execution_count": 7,
   "metadata": {},
   "outputs": [
    {
     "data": {
      "text/plain": [
       "(11541, 6)"
      ]
     },
     "execution_count": 7,
     "metadata": {},
     "output_type": "execute_result"
    }
   ],
   "source": [
    "df.shape # shows the shape of the DataFrame (rows, columns)"
   ]
  },
  {
   "cell_type": "code",
   "execution_count": 8,
   "metadata": {},
   "outputs": [
    {
     "data": {
      "text/plain": [
       "11541"
      ]
     },
     "execution_count": 8,
     "metadata": {},
     "output_type": "execute_result"
    }
   ],
   "source": [
    "len(df) # shows the number of rows in the DataFrame"
   ]
  },
  {
   "cell_type": "markdown",
   "metadata": {},
   "source": [
    "#### Creating a DataFrame\n",
    "\n"
   ]
  },
  {
   "cell_type": "code",
   "execution_count": 9,
   "metadata": {},
   "outputs": [
    {
     "data": {
      "text/html": [
       "<div>\n",
       "<style scoped>\n",
       "    .dataframe tbody tr th:only-of-type {\n",
       "        vertical-align: middle;\n",
       "    }\n",
       "\n",
       "    .dataframe tbody tr th {\n",
       "        vertical-align: top;\n",
       "    }\n",
       "\n",
       "    .dataframe thead th {\n",
       "        text-align: right;\n",
       "    }\n",
       "</style>\n",
       "<table border=\"1\" class=\"dataframe\">\n",
       "  <thead>\n",
       "    <tr style=\"text-align: right;\">\n",
       "      <th></th>\n",
       "      <th>A</th>\n",
       "      <th>B</th>\n",
       "      <th>C</th>\n",
       "    </tr>\n",
       "  </thead>\n",
       "  <tbody>\n",
       "    <tr>\n",
       "      <th>0</th>\n",
       "      <td>1</td>\n",
       "      <td>4</td>\n",
       "      <td>x</td>\n",
       "    </tr>\n",
       "    <tr>\n",
       "      <th>1</th>\n",
       "      <td>2</td>\n",
       "      <td>5</td>\n",
       "      <td>y</td>\n",
       "    </tr>\n",
       "    <tr>\n",
       "      <th>2</th>\n",
       "      <td>3</td>\n",
       "      <td>6</td>\n",
       "      <td>z</td>\n",
       "    </tr>\n",
       "  </tbody>\n",
       "</table>\n",
       "</div>"
      ],
      "text/plain": [
       "   A  B  C\n",
       "0  1  4  x\n",
       "1  2  5  y\n",
       "2  3  6  z"
      ]
     },
     "execution_count": 9,
     "metadata": {},
     "output_type": "execute_result"
    }
   ],
   "source": [
    "df_1 = pd.DataFrame({\n",
    "    'A': [1, 2, 3], \n",
    "    'B': [4, 5, 6],\n",
    "    'C': ['x', 'y', 'z']})\n",
    "\n",
    "df_1"
   ]
  },
  {
   "cell_type": "code",
   "execution_count": 10,
   "metadata": {},
   "outputs": [
    {
     "data": {
      "text/html": [
       "<div>\n",
       "<style scoped>\n",
       "    .dataframe tbody tr th:only-of-type {\n",
       "        vertical-align: middle;\n",
       "    }\n",
       "\n",
       "    .dataframe tbody tr th {\n",
       "        vertical-align: top;\n",
       "    }\n",
       "\n",
       "    .dataframe thead th {\n",
       "        text-align: right;\n",
       "    }\n",
       "</style>\n",
       "<table border=\"1\" class=\"dataframe\">\n",
       "  <thead>\n",
       "    <tr style=\"text-align: right;\">\n",
       "      <th></th>\n",
       "      <th>A</th>\n",
       "      <th>B</th>\n",
       "      <th>C</th>\n",
       "    </tr>\n",
       "  </thead>\n",
       "  <tbody>\n",
       "    <tr>\n",
       "      <th>0</th>\n",
       "      <td>1</td>\n",
       "      <td>4</td>\n",
       "      <td>x</td>\n",
       "    </tr>\n",
       "    <tr>\n",
       "      <th>1</th>\n",
       "      <td>2</td>\n",
       "      <td>5</td>\n",
       "      <td>y</td>\n",
       "    </tr>\n",
       "    <tr>\n",
       "      <th>2</th>\n",
       "      <td>3</td>\n",
       "      <td>6</td>\n",
       "      <td>z</td>\n",
       "    </tr>\n",
       "  </tbody>\n",
       "</table>\n",
       "</div>"
      ],
      "text/plain": [
       "   A  B  C\n",
       "0  1  4  x\n",
       "1  2  5  y\n",
       "2  3  6  z"
      ]
     },
     "execution_count": 10,
     "metadata": {},
     "output_type": "execute_result"
    }
   ],
   "source": [
    "df_2 = pd.DataFrame(\n",
    "    [[1, 4, 'x'], [2, 5, 'y'], [3, 6, 'z']], \n",
    "    columns=['A', 'B', 'C'])\n",
    "df_2"
   ]
  },
  {
   "cell_type": "markdown",
   "metadata": {},
   "source": [
    "#### Selecting Columns\n",
    "\n",
    "The next step is to filter the DataFrame to select specific rows or columns."
   ]
  },
  {
   "cell_type": "code",
   "execution_count": 11,
   "metadata": {},
   "outputs": [
    {
     "data": {
      "text/plain": [
       "0                            Walker Texas Ranger clip LIVE\n",
       "1                      Egg mcmuffin of a crappy commercial\n",
       "2                 Potter Puppet Pals: School Is For Losers\n",
       "3        Very Funny Commercial  Think Beyond Your Ear (...\n",
       "4                                     Happy Valentines Day\n",
       "                               ...                        \n",
       "11536              Dylan hit by a ball [Slow motion remix]\n",
       "11537            Trick or Treat! Funny Halloween Dog Video\n",
       "11538                                   Framed Thief Prank\n",
       "11539           Harry Redknapp gets hit by Fernando Torres\n",
       "11540                    ~600 Subs Special~ MMV- Enchanted\n",
       "Name: title, Length: 11541, dtype: object"
      ]
     },
     "execution_count": 11,
     "metadata": {},
     "output_type": "execute_result"
    }
   ],
   "source": [
    "df['title'] # A column can be accessed by using the column name as a key"
   ]
  },
  {
   "cell_type": "code",
   "execution_count": 12,
   "metadata": {},
   "outputs": [
    {
     "data": {
      "text/plain": [
       "pandas.core.series.Series"
      ]
     },
     "execution_count": 12,
     "metadata": {},
     "output_type": "execute_result"
    }
   ],
   "source": [
    "type(df['title']) # the type of a column is a Series"
   ]
  },
  {
   "cell_type": "code",
   "execution_count": 13,
   "metadata": {},
   "outputs": [
    {
     "data": {
      "text/plain": [
       "0                        Walker Texas Ranger clip LIVE\n",
       "1                  Egg mcmuffin of a crappy commercial\n",
       "2             Potter Puppet Pals: School Is For Losers\n",
       "3    Very Funny Commercial  Think Beyond Your Ear (...\n",
       "4                                 Happy Valentines Day\n",
       "Name: title, dtype: object"
      ]
     },
     "execution_count": 13,
     "metadata": {},
     "output_type": "execute_result"
    }
   ],
   "source": [
    "titles = df['title'] # the column can be stored in a variable\n",
    "\n",
    "titles.head() # shows the first 5 rows of the Series"
   ]
  },
  {
   "cell_type": "code",
   "execution_count": 14,
   "metadata": {},
   "outputs": [
    {
     "name": "stdout",
     "output_type": "stream",
     "text": [
      "The 11th title is PCD Flying Fun Cam\n",
      "The 11th title is PCD Flying Fun Cam\n",
      "\n",
      "The first 5 values of the title:  0                        Walker Texas Ranger clip LIVE\n",
      "1                  Egg mcmuffin of a crappy commercial\n",
      "2             Potter Puppet Pals: School Is For Losers\n",
      "3    Very Funny Commercial  Think Beyond Your Ear (...\n",
      "4                                 Happy Valentines Day\n",
      "Name: title, dtype: object\n",
      "\n",
      "The last 5 values of the title:  11536       Dylan hit by a ball [Slow motion remix]\n",
      "11537     Trick or Treat! Funny Halloween Dog Video\n",
      "11538                            Framed Thief Prank\n",
      "11539    Harry Redknapp gets hit by Fernando Torres\n",
      "11540             ~600 Subs Special~ MMV- Enchanted\n",
      "Name: title, dtype: object\n"
     ]
    }
   ],
   "source": [
    "print(f\"The 11th title is {titles[10]}\") # a value in a Series can be accessed by using the index as a key\n",
    "\n",
    "print(f'The 11th title is {df[\"title\"][10]}') # you can also access a value in a Series by using the DataFrame and column name\n",
    "\n",
    "print(\"\\nThe first 5 values of the title: \", titles[0:5]) # A Series object can be sliced like a list\n",
    "\n",
    "print(\"\\nThe last 5 values of the title: \", titles[-5:]) # A Series object can be sliced like a list \n"
   ]
  },
  {
   "cell_type": "code",
   "execution_count": 15,
   "metadata": {},
   "outputs": [
    {
     "name": "stdout",
     "output_type": "stream",
     "text": [
      "The unique values of the view_counts column are:  [2.2400000e+02 1.9190000e+03 1.4958231e+07 ... 1.3728710e+06 1.7410000e+03\n",
      " 5.9710000e+03]\n",
      "The number of values of the view_counts column are:  11532\n",
      "The number of unique values of the view_counts column are:  9310\n",
      "  9319\n"
     ]
    }
   ],
   "source": [
    "print(\"The unique values of the view_counts column are: \", df['view_count'].unique()) # shows the unique values of a column\n",
    "\n",
    "print(\"The number of values of the view_counts column are: \", df['view_count'].count()) # shows the number of values of a column\n",
    "\n",
    "print(\"The number of unique values of the view_counts column are: \", df['view_count'].nunique()) # shows the number of unique values of a column\n",
    "\n",
    "print(\" \", len(list(set(df['view_count'])))) # Another way to find the number of unique elements in a column"
   ]
  },
  {
   "cell_type": "markdown",
   "metadata": {},
   "source": [
    "Typically, it is faster to use the Pandas's built-in functions. "
   ]
  },
  {
   "cell_type": "code",
   "execution_count": 16,
   "metadata": {},
   "outputs": [
    {
     "name": "stdout",
     "output_type": "stream",
     "text": [
      "213 μs ± 2.91 μs per loop (mean ± std. dev. of 7 runs, 1,000 loops each)\n"
     ]
    }
   ],
   "source": [
    "%%timeit\n",
    "\n",
    "df['view_count'].nunique()"
   ]
  },
  {
   "cell_type": "code",
   "execution_count": 17,
   "metadata": {},
   "outputs": [
    {
     "name": "stdout",
     "output_type": "stream",
     "text": [
      "972 μs ± 11.4 μs per loop (mean ± std. dev. of 7 runs, 1,000 loops each)\n"
     ]
    }
   ],
   "source": [
    "%%timeit \n",
    "\n",
    "len(list(set(df['view_count'])))"
   ]
  },
  {
   "cell_type": "markdown",
   "metadata": {},
   "source": [
    "#### Filtering the DataFrame"
   ]
  },
  {
   "cell_type": "code",
   "execution_count": 18,
   "metadata": {},
   "outputs": [
    {
     "data": {
      "text/html": [
       "<div>\n",
       "<style scoped>\n",
       "    .dataframe tbody tr th:only-of-type {\n",
       "        vertical-align: middle;\n",
       "    }\n",
       "\n",
       "    .dataframe tbody tr th {\n",
       "        vertical-align: top;\n",
       "    }\n",
       "\n",
       "    .dataframe thead th {\n",
       "        text-align: right;\n",
       "    }\n",
       "</style>\n",
       "<table border=\"1\" class=\"dataframe\">\n",
       "  <thead>\n",
       "    <tr style=\"text-align: right;\">\n",
       "      <th></th>\n",
       "      <th>video_id</th>\n",
       "      <th>title</th>\n",
       "      <th>view_count</th>\n",
       "      <th>like_count</th>\n",
       "      <th>comment_count</th>\n",
       "      <th>duration</th>\n",
       "    </tr>\n",
       "  </thead>\n",
       "  <tbody>\n",
       "    <tr>\n",
       "      <th>2</th>\n",
       "      <td>vzpD6OogahQ</td>\n",
       "      <td>Potter Puppet Pals: School Is For Losers</td>\n",
       "      <td>14958231.0</td>\n",
       "      <td>87806.0</td>\n",
       "      <td>11321.0</td>\n",
       "      <td>PT33S</td>\n",
       "    </tr>\n",
       "    <tr>\n",
       "      <th>18</th>\n",
       "      <td>rQjr5xjugUM</td>\n",
       "      <td>Ah meu Deus do céu, Quebraram(quebraru) a mesa...</td>\n",
       "      <td>4364246.0</td>\n",
       "      <td>37822.0</td>\n",
       "      <td>NaN</td>\n",
       "      <td>PT1M15S</td>\n",
       "    </tr>\n",
       "    <tr>\n",
       "      <th>23</th>\n",
       "      <td>U2_CSYI8O0Y</td>\n",
       "      <td>Kud - Koninginnemarkt</td>\n",
       "      <td>1835025.0</td>\n",
       "      <td>15321.0</td>\n",
       "      <td>1829.0</td>\n",
       "      <td>PT50S</td>\n",
       "    </tr>\n",
       "    <tr>\n",
       "      <th>25</th>\n",
       "      <td>TugslL45aXk</td>\n",
       "      <td>Don't argue with an ibex</td>\n",
       "      <td>4677355.0</td>\n",
       "      <td>34588.0</td>\n",
       "      <td>3597.0</td>\n",
       "      <td>PT1M30S</td>\n",
       "    </tr>\n",
       "    <tr>\n",
       "      <th>39</th>\n",
       "      <td>TXtP8UfIfEA</td>\n",
       "      <td>JibJab  Valentine's Day eCards.flv_(360p).mp4</td>\n",
       "      <td>20272233.0</td>\n",
       "      <td>19727.0</td>\n",
       "      <td>695.0</td>\n",
       "      <td>PT47S</td>\n",
       "    </tr>\n",
       "    <tr>\n",
       "      <th>...</th>\n",
       "      <td>...</td>\n",
       "      <td>...</td>\n",
       "      <td>...</td>\n",
       "      <td>...</td>\n",
       "      <td>...</td>\n",
       "      <td>...</td>\n",
       "    </tr>\n",
       "    <tr>\n",
       "      <th>11506</th>\n",
       "      <td>a91eiu_eer4</td>\n",
       "      <td>Optical Illusion Girlfriend</td>\n",
       "      <td>6239948.0</td>\n",
       "      <td>61008.0</td>\n",
       "      <td>3554.0</td>\n",
       "      <td>PT1M24S</td>\n",
       "    </tr>\n",
       "    <tr>\n",
       "      <th>11516</th>\n",
       "      <td>59xYAKjCnIo</td>\n",
       "      <td>SUPER TIMOR</td>\n",
       "      <td>1131909.0</td>\n",
       "      <td>5171.0</td>\n",
       "      <td>261.0</td>\n",
       "      <td>PT50S</td>\n",
       "    </tr>\n",
       "    <tr>\n",
       "      <th>11530</th>\n",
       "      <td>q-RLqLx1iYI</td>\n",
       "      <td>Epic and Honest Mobile Home Commercial</td>\n",
       "      <td>5594751.0</td>\n",
       "      <td>29208.0</td>\n",
       "      <td>2779.0</td>\n",
       "      <td>PT1M20S</td>\n",
       "    </tr>\n",
       "    <tr>\n",
       "      <th>11531</th>\n",
       "      <td>Ej9wCko6dR4</td>\n",
       "      <td>Bud Light Jackie Moon Commercial</td>\n",
       "      <td>2154189.0</td>\n",
       "      <td>3547.0</td>\n",
       "      <td>349.0</td>\n",
       "      <td>PT1M21S</td>\n",
       "    </tr>\n",
       "    <tr>\n",
       "      <th>11538</th>\n",
       "      <td>dHuPgeClQC0</td>\n",
       "      <td>Framed Thief Prank</td>\n",
       "      <td>1372871.0</td>\n",
       "      <td>10009.0</td>\n",
       "      <td>220.0</td>\n",
       "      <td>PT1M28S</td>\n",
       "    </tr>\n",
       "  </tbody>\n",
       "</table>\n",
       "<p>1475 rows × 6 columns</p>\n",
       "</div>"
      ],
      "text/plain": [
       "          video_id                                              title  \\\n",
       "2      vzpD6OogahQ           Potter Puppet Pals: School Is For Losers   \n",
       "18     rQjr5xjugUM  Ah meu Deus do céu, Quebraram(quebraru) a mesa...   \n",
       "23     U2_CSYI8O0Y                              Kud - Koninginnemarkt   \n",
       "25     TugslL45aXk                           Don't argue with an ibex   \n",
       "39     TXtP8UfIfEA      JibJab  Valentine's Day eCards.flv_(360p).mp4   \n",
       "...            ...                                                ...   \n",
       "11506  a91eiu_eer4                        Optical Illusion Girlfriend   \n",
       "11516  59xYAKjCnIo                                        SUPER TIMOR   \n",
       "11530  q-RLqLx1iYI             Epic and Honest Mobile Home Commercial   \n",
       "11531  Ej9wCko6dR4                   Bud Light Jackie Moon Commercial   \n",
       "11538  dHuPgeClQC0                                 Framed Thief Prank   \n",
       "\n",
       "       view_count  like_count  comment_count duration  \n",
       "2      14958231.0     87806.0        11321.0    PT33S  \n",
       "18      4364246.0     37822.0            NaN  PT1M15S  \n",
       "23      1835025.0     15321.0         1829.0    PT50S  \n",
       "25      4677355.0     34588.0         3597.0  PT1M30S  \n",
       "39     20272233.0     19727.0          695.0    PT47S  \n",
       "...           ...         ...            ...      ...  \n",
       "11506   6239948.0     61008.0         3554.0  PT1M24S  \n",
       "11516   1131909.0      5171.0          261.0    PT50S  \n",
       "11530   5594751.0     29208.0         2779.0  PT1M20S  \n",
       "11531   2154189.0      3547.0          349.0  PT1M21S  \n",
       "11538   1372871.0     10009.0          220.0  PT1M28S  \n",
       "\n",
       "[1475 rows x 6 columns]"
      ]
     },
     "execution_count": 18,
     "metadata": {},
     "output_type": "execute_result"
    }
   ],
   "source": [
    "df[df['view_count'] > 1000000] # shows the rows that have a view_count greater than 1,000,000"
   ]
  },
  {
   "cell_type": "code",
   "execution_count": 19,
   "metadata": {},
   "outputs": [
    {
     "data": {
      "text/plain": [
       "0        False\n",
       "1        False\n",
       "2         True\n",
       "3        False\n",
       "4        False\n",
       "         ...  \n",
       "11536    False\n",
       "11537    False\n",
       "11538     True\n",
       "11539    False\n",
       "11540    False\n",
       "Name: view_count, Length: 11541, dtype: bool"
      ]
     },
     "execution_count": 19,
     "metadata": {},
     "output_type": "execute_result"
    }
   ],
   "source": [
    "df['view_count'] > 1000000 # returns a boolean Series"
   ]
  },
  {
   "cell_type": "code",
   "execution_count": 20,
   "metadata": {},
   "outputs": [
    {
     "data": {
      "text/html": [
       "<div>\n",
       "<style scoped>\n",
       "    .dataframe tbody tr th:only-of-type {\n",
       "        vertical-align: middle;\n",
       "    }\n",
       "\n",
       "    .dataframe tbody tr th {\n",
       "        vertical-align: top;\n",
       "    }\n",
       "\n",
       "    .dataframe thead th {\n",
       "        text-align: right;\n",
       "    }\n",
       "</style>\n",
       "<table border=\"1\" class=\"dataframe\">\n",
       "  <thead>\n",
       "    <tr style=\"text-align: right;\">\n",
       "      <th></th>\n",
       "      <th>video_id</th>\n",
       "      <th>title</th>\n",
       "      <th>view_count</th>\n",
       "      <th>like_count</th>\n",
       "      <th>comment_count</th>\n",
       "      <th>duration</th>\n",
       "    </tr>\n",
       "  </thead>\n",
       "  <tbody>\n",
       "    <tr>\n",
       "      <th>28</th>\n",
       "      <td>rBVoffKg6QA</td>\n",
       "      <td>Talking Cats (High Version)</td>\n",
       "      <td>42287.0</td>\n",
       "      <td>91.0</td>\n",
       "      <td>10.0</td>\n",
       "      <td>PT56S</td>\n",
       "    </tr>\n",
       "    <tr>\n",
       "      <th>54</th>\n",
       "      <td>jDD8yq18Gaw</td>\n",
       "      <td>19:57 From Euston - WHAT REALLY HAPPENED</td>\n",
       "      <td>19296.0</td>\n",
       "      <td>22.0</td>\n",
       "      <td>10.0</td>\n",
       "      <td>PT34S</td>\n",
       "    </tr>\n",
       "    <tr>\n",
       "      <th>109</th>\n",
       "      <td>XqkjPnrqbSc</td>\n",
       "      <td>dahk fokaha tarjama ( chehal fi Sa3a )</td>\n",
       "      <td>85511.0</td>\n",
       "      <td>101.0</td>\n",
       "      <td>5.0</td>\n",
       "      <td>PT1M13S</td>\n",
       "    </tr>\n",
       "    <tr>\n",
       "      <th>149</th>\n",
       "      <td>v-kHJjqLya4</td>\n",
       "      <td>Funny Dog Commercial</td>\n",
       "      <td>65501.0</td>\n",
       "      <td>104.0</td>\n",
       "      <td>10.0</td>\n",
       "      <td>PT1M1S</td>\n",
       "    </tr>\n",
       "    <tr>\n",
       "      <th>201</th>\n",
       "      <td>-3g_ENHcvGY</td>\n",
       "      <td>Grave yard Smash</td>\n",
       "      <td>1369.0</td>\n",
       "      <td>4.0</td>\n",
       "      <td>5.0</td>\n",
       "      <td>PT33S</td>\n",
       "    </tr>\n",
       "    <tr>\n",
       "      <th>...</th>\n",
       "      <td>...</td>\n",
       "      <td>...</td>\n",
       "      <td>...</td>\n",
       "      <td>...</td>\n",
       "      <td>...</td>\n",
       "      <td>...</td>\n",
       "    </tr>\n",
       "    <tr>\n",
       "      <th>11174</th>\n",
       "      <td>AxQK9pp8nVc</td>\n",
       "      <td>louie c.k. balls in your pus-hole</td>\n",
       "      <td>2765.0</td>\n",
       "      <td>8.0</td>\n",
       "      <td>5.0</td>\n",
       "      <td>PT39S</td>\n",
       "    </tr>\n",
       "    <tr>\n",
       "      <th>11313</th>\n",
       "      <td>-UzGgGJkIFU</td>\n",
       "      <td>JB SKETCH BAD BOY</td>\n",
       "      <td>14321.0</td>\n",
       "      <td>22.0</td>\n",
       "      <td>10.0</td>\n",
       "      <td>PT1M4S</td>\n",
       "    </tr>\n",
       "    <tr>\n",
       "      <th>11392</th>\n",
       "      <td>DiA8VItyPIk</td>\n",
       "      <td>Tryin first gear wheelies</td>\n",
       "      <td>1181.0</td>\n",
       "      <td>8.0</td>\n",
       "      <td>5.0</td>\n",
       "      <td>PT1M13S</td>\n",
       "    </tr>\n",
       "    <tr>\n",
       "      <th>11396</th>\n",
       "      <td>NhHRfS5bWug</td>\n",
       "      <td>Natanek  2013 AD</td>\n",
       "      <td>614.0</td>\n",
       "      <td>3.0</td>\n",
       "      <td>5.0</td>\n",
       "      <td>PT1M30S</td>\n",
       "    </tr>\n",
       "    <tr>\n",
       "      <th>11429</th>\n",
       "      <td>4DQxWeTuG7I</td>\n",
       "      <td>Family Guy Peter and the Osama Clawed</td>\n",
       "      <td>3195.0</td>\n",
       "      <td>19.0</td>\n",
       "      <td>10.0</td>\n",
       "      <td>PT54S</td>\n",
       "    </tr>\n",
       "  </tbody>\n",
       "</table>\n",
       "<p>238 rows × 6 columns</p>\n",
       "</div>"
      ],
      "text/plain": [
       "          video_id                                     title  view_count  \\\n",
       "28     rBVoffKg6QA               Talking Cats (High Version)     42287.0   \n",
       "54     jDD8yq18Gaw  19:57 From Euston - WHAT REALLY HAPPENED     19296.0   \n",
       "109    XqkjPnrqbSc    dahk fokaha tarjama ( chehal fi Sa3a )     85511.0   \n",
       "149    v-kHJjqLya4                      Funny Dog Commercial     65501.0   \n",
       "201    -3g_ENHcvGY                          Grave yard Smash      1369.0   \n",
       "...            ...                                       ...         ...   \n",
       "11174  AxQK9pp8nVc         louie c.k. balls in your pus-hole      2765.0   \n",
       "11313  -UzGgGJkIFU                         JB SKETCH BAD BOY     14321.0   \n",
       "11392  DiA8VItyPIk                 Tryin first gear wheelies      1181.0   \n",
       "11396  NhHRfS5bWug                          Natanek  2013 AD       614.0   \n",
       "11429  4DQxWeTuG7I     Family Guy Peter and the Osama Clawed      3195.0   \n",
       "\n",
       "       like_count  comment_count duration  \n",
       "28           91.0           10.0    PT56S  \n",
       "54           22.0           10.0    PT34S  \n",
       "109         101.0            5.0  PT1M13S  \n",
       "149         104.0           10.0   PT1M1S  \n",
       "201           4.0            5.0    PT33S  \n",
       "...           ...            ...      ...  \n",
       "11174         8.0            5.0    PT39S  \n",
       "11313        22.0           10.0   PT1M4S  \n",
       "11392         8.0            5.0  PT1M13S  \n",
       "11396         3.0            5.0  PT1M30S  \n",
       "11429        19.0           10.0    PT54S  \n",
       "\n",
       "[238 rows x 6 columns]"
      ]
     },
     "execution_count": 20,
     "metadata": {},
     "output_type": "execute_result"
    }
   ],
   "source": [
    "df[df['comment_count'].isin([5, 10, 1000])] # shows the rows that have a comment count that is either 5, 10, or 1000 greater than 1,000,000"
   ]
  },
  {
   "cell_type": "code",
   "execution_count": 21,
   "metadata": {},
   "outputs": [
    {
     "data": {
      "text/html": [
       "<div>\n",
       "<style scoped>\n",
       "    .dataframe tbody tr th:only-of-type {\n",
       "        vertical-align: middle;\n",
       "    }\n",
       "\n",
       "    .dataframe tbody tr th {\n",
       "        vertical-align: top;\n",
       "    }\n",
       "\n",
       "    .dataframe thead th {\n",
       "        text-align: right;\n",
       "    }\n",
       "</style>\n",
       "<table border=\"1\" class=\"dataframe\">\n",
       "  <thead>\n",
       "    <tr style=\"text-align: right;\">\n",
       "      <th></th>\n",
       "      <th>video_id</th>\n",
       "      <th>title</th>\n",
       "      <th>view_count</th>\n",
       "      <th>like_count</th>\n",
       "      <th>comment_count</th>\n",
       "      <th>duration</th>\n",
       "    </tr>\n",
       "  </thead>\n",
       "  <tbody>\n",
       "    <tr>\n",
       "      <th>2</th>\n",
       "      <td>vzpD6OogahQ</td>\n",
       "      <td>Potter Puppet Pals: School Is For Losers</td>\n",
       "      <td>14958231.0</td>\n",
       "      <td>87806.0</td>\n",
       "      <td>11321.0</td>\n",
       "      <td>PT33S</td>\n",
       "    </tr>\n",
       "    <tr>\n",
       "      <th>23</th>\n",
       "      <td>U2_CSYI8O0Y</td>\n",
       "      <td>Kud - Koninginnemarkt</td>\n",
       "      <td>1835025.0</td>\n",
       "      <td>15321.0</td>\n",
       "      <td>1829.0</td>\n",
       "      <td>PT50S</td>\n",
       "    </tr>\n",
       "    <tr>\n",
       "      <th>25</th>\n",
       "      <td>TugslL45aXk</td>\n",
       "      <td>Don't argue with an ibex</td>\n",
       "      <td>4677355.0</td>\n",
       "      <td>34588.0</td>\n",
       "      <td>3597.0</td>\n",
       "      <td>PT1M30S</td>\n",
       "    </tr>\n",
       "    <tr>\n",
       "      <th>46</th>\n",
       "      <td>D7_0SOTQLIQ</td>\n",
       "      <td>Notorious B.I.G. calms down crying baby - orig...</td>\n",
       "      <td>5977394.0</td>\n",
       "      <td>40051.0</td>\n",
       "      <td>3408.0</td>\n",
       "      <td>PT1M24S</td>\n",
       "    </tr>\n",
       "    <tr>\n",
       "      <th>75</th>\n",
       "      <td>ao-9B8IV9_E</td>\n",
       "      <td>Funny Animals</td>\n",
       "      <td>16529238.0</td>\n",
       "      <td>18952.0</td>\n",
       "      <td>3217.0</td>\n",
       "      <td>PT10M34S</td>\n",
       "    </tr>\n",
       "    <tr>\n",
       "      <th>...</th>\n",
       "      <td>...</td>\n",
       "      <td>...</td>\n",
       "      <td>...</td>\n",
       "      <td>...</td>\n",
       "      <td>...</td>\n",
       "      <td>...</td>\n",
       "    </tr>\n",
       "    <tr>\n",
       "      <th>11475</th>\n",
       "      <td>fKvXiBVK-K4</td>\n",
       "      <td>Šta reći?</td>\n",
       "      <td>3050087.0</td>\n",
       "      <td>13179.0</td>\n",
       "      <td>2288.0</td>\n",
       "      <td>PT36S</td>\n",
       "    </tr>\n",
       "    <tr>\n",
       "      <th>11476</th>\n",
       "      <td>T7EzZBlQsoA</td>\n",
       "      <td>Gerald Anderson and Jose Manalo budoy</td>\n",
       "      <td>3573758.0</td>\n",
       "      <td>4975.0</td>\n",
       "      <td>1210.0</td>\n",
       "      <td>PT1M24S</td>\n",
       "    </tr>\n",
       "    <tr>\n",
       "      <th>11490</th>\n",
       "      <td>-iYGAcn66o4</td>\n",
       "      <td>Attempt To Overtake Big Rig Ends In Devastatin...</td>\n",
       "      <td>3914975.0</td>\n",
       "      <td>12173.0</td>\n",
       "      <td>4078.0</td>\n",
       "      <td>PT30S</td>\n",
       "    </tr>\n",
       "    <tr>\n",
       "      <th>11506</th>\n",
       "      <td>a91eiu_eer4</td>\n",
       "      <td>Optical Illusion Girlfriend</td>\n",
       "      <td>6239948.0</td>\n",
       "      <td>61008.0</td>\n",
       "      <td>3554.0</td>\n",
       "      <td>PT1M24S</td>\n",
       "    </tr>\n",
       "    <tr>\n",
       "      <th>11530</th>\n",
       "      <td>q-RLqLx1iYI</td>\n",
       "      <td>Epic and Honest Mobile Home Commercial</td>\n",
       "      <td>5594751.0</td>\n",
       "      <td>29208.0</td>\n",
       "      <td>2779.0</td>\n",
       "      <td>PT1M20S</td>\n",
       "    </tr>\n",
       "  </tbody>\n",
       "</table>\n",
       "<p>721 rows × 6 columns</p>\n",
       "</div>"
      ],
      "text/plain": [
       "          video_id                                              title  \\\n",
       "2      vzpD6OogahQ           Potter Puppet Pals: School Is For Losers   \n",
       "23     U2_CSYI8O0Y                              Kud - Koninginnemarkt   \n",
       "25     TugslL45aXk                           Don't argue with an ibex   \n",
       "46     D7_0SOTQLIQ  Notorious B.I.G. calms down crying baby - orig...   \n",
       "75     ao-9B8IV9_E                                      Funny Animals   \n",
       "...            ...                                                ...   \n",
       "11475  fKvXiBVK-K4                                          Šta reći?   \n",
       "11476  T7EzZBlQsoA              Gerald Anderson and Jose Manalo budoy   \n",
       "11490  -iYGAcn66o4  Attempt To Overtake Big Rig Ends In Devastatin...   \n",
       "11506  a91eiu_eer4                        Optical Illusion Girlfriend   \n",
       "11530  q-RLqLx1iYI             Epic and Honest Mobile Home Commercial   \n",
       "\n",
       "       view_count  like_count  comment_count  duration  \n",
       "2      14958231.0     87806.0        11321.0     PT33S  \n",
       "23      1835025.0     15321.0         1829.0     PT50S  \n",
       "25      4677355.0     34588.0         3597.0   PT1M30S  \n",
       "46      5977394.0     40051.0         3408.0   PT1M24S  \n",
       "75     16529238.0     18952.0         3217.0  PT10M34S  \n",
       "...           ...         ...            ...       ...  \n",
       "11475   3050087.0     13179.0         2288.0     PT36S  \n",
       "11476   3573758.0      4975.0         1210.0   PT1M24S  \n",
       "11490   3914975.0     12173.0         4078.0     PT30S  \n",
       "11506   6239948.0     61008.0         3554.0   PT1M24S  \n",
       "11530   5594751.0     29208.0         2779.0   PT1M20S  \n",
       "\n",
       "[721 rows x 6 columns]"
      ]
     },
     "execution_count": 21,
     "metadata": {},
     "output_type": "execute_result"
    }
   ],
   "source": [
    "df[(df['view_count'] > 1000000) & (df['comment_count'] > 1000)] # shows the rows that have a view_count greater than 1,000,000 and a comment_count greater than 1000"
   ]
  },
  {
   "cell_type": "markdown",
   "metadata": {},
   "source": [
    "One issue to be aware of is that when you filter a DataFrame, the index of the original DataFrame is preserved.  \n"
   ]
  },
  {
   "cell_type": "code",
   "execution_count": 22,
   "metadata": {},
   "outputs": [
    {
     "data": {
      "text/html": [
       "<div>\n",
       "<style scoped>\n",
       "    .dataframe tbody tr th:only-of-type {\n",
       "        vertical-align: middle;\n",
       "    }\n",
       "\n",
       "    .dataframe tbody tr th {\n",
       "        vertical-align: top;\n",
       "    }\n",
       "\n",
       "    .dataframe thead th {\n",
       "        text-align: right;\n",
       "    }\n",
       "</style>\n",
       "<table border=\"1\" class=\"dataframe\">\n",
       "  <thead>\n",
       "    <tr style=\"text-align: right;\">\n",
       "      <th></th>\n",
       "      <th>video_id</th>\n",
       "      <th>title</th>\n",
       "      <th>view_count</th>\n",
       "      <th>like_count</th>\n",
       "      <th>comment_count</th>\n",
       "      <th>duration</th>\n",
       "    </tr>\n",
       "  </thead>\n",
       "  <tbody>\n",
       "    <tr>\n",
       "      <th>0</th>\n",
       "      <td>DE1-cD3pTkA</td>\n",
       "      <td>Walker Texas Ranger clip LIVE</td>\n",
       "      <td>224.0</td>\n",
       "      <td>1.0</td>\n",
       "      <td>0.0</td>\n",
       "      <td>PT32S</td>\n",
       "    </tr>\n",
       "    <tr>\n",
       "      <th>3</th>\n",
       "      <td>_OpzEHBDwQE</td>\n",
       "      <td>Very Funny Commercial  Think Beyond Your Ear (...</td>\n",
       "      <td>61696.0</td>\n",
       "      <td>179.0</td>\n",
       "      <td>2.0</td>\n",
       "      <td>PT38S</td>\n",
       "    </tr>\n",
       "    <tr>\n",
       "      <th>4</th>\n",
       "      <td>yzGWOpop6i8</td>\n",
       "      <td>Happy Valentines Day</td>\n",
       "      <td>15852.0</td>\n",
       "      <td>315.0</td>\n",
       "      <td>77.0</td>\n",
       "      <td>PT1M14S</td>\n",
       "    </tr>\n",
       "    <tr>\n",
       "      <th>6</th>\n",
       "      <td>DOD38Y72zyk</td>\n",
       "      <td>Minecraft: TNT Rocket</td>\n",
       "      <td>2174.0</td>\n",
       "      <td>16.0</td>\n",
       "      <td>3.0</td>\n",
       "      <td>PT1M9S</td>\n",
       "    </tr>\n",
       "    <tr>\n",
       "      <th>8</th>\n",
       "      <td>c1NaGio2Geo</td>\n",
       "      <td>Caller X episode 3</td>\n",
       "      <td>13716.0</td>\n",
       "      <td>525.0</td>\n",
       "      <td>130.0</td>\n",
       "      <td>PT1M18S</td>\n",
       "    </tr>\n",
       "    <tr>\n",
       "      <th>...</th>\n",
       "      <td>...</td>\n",
       "      <td>...</td>\n",
       "      <td>...</td>\n",
       "      <td>...</td>\n",
       "      <td>...</td>\n",
       "      <td>...</td>\n",
       "    </tr>\n",
       "    <tr>\n",
       "      <th>11524</th>\n",
       "      <td>gJyAigxDWBI</td>\n",
       "      <td>Knowwheretorun1984 set ablaze by Jordan Maxwel...</td>\n",
       "      <td>158.0</td>\n",
       "      <td>3.0</td>\n",
       "      <td>2.0</td>\n",
       "      <td>PT43S</td>\n",
       "    </tr>\n",
       "    <tr>\n",
       "      <th>11529</th>\n",
       "      <td>Sn00l_ttSi4</td>\n",
       "      <td>\"Strangers on the Street\" - QCC</td>\n",
       "      <td>92.0</td>\n",
       "      <td>0.0</td>\n",
       "      <td>0.0</td>\n",
       "      <td>PT1M12S</td>\n",
       "    </tr>\n",
       "    <tr>\n",
       "      <th>11532</th>\n",
       "      <td>XcVw-qHdufE</td>\n",
       "      <td>Trailer: Being Human - Series 4 Episode 2 - BB...</td>\n",
       "      <td>24146.0</td>\n",
       "      <td>79.0</td>\n",
       "      <td>21.0</td>\n",
       "      <td>PT41S</td>\n",
       "    </tr>\n",
       "    <tr>\n",
       "      <th>11535</th>\n",
       "      <td>K-w_Ie-iBgY</td>\n",
       "      <td>Gears of War 3 Rage</td>\n",
       "      <td>226.0</td>\n",
       "      <td>1.0</td>\n",
       "      <td>1.0</td>\n",
       "      <td>PT50S</td>\n",
       "    </tr>\n",
       "    <tr>\n",
       "      <th>11536</th>\n",
       "      <td>HKMgwmqPOxs</td>\n",
       "      <td>Dylan hit by a ball [Slow motion remix]</td>\n",
       "      <td>546.0</td>\n",
       "      <td>4.0</td>\n",
       "      <td>1.0</td>\n",
       "      <td>PT1M21S</td>\n",
       "    </tr>\n",
       "  </tbody>\n",
       "</table>\n",
       "<p>5795 rows × 6 columns</p>\n",
       "</div>"
      ],
      "text/plain": [
       "          video_id                                              title  \\\n",
       "0      DE1-cD3pTkA                      Walker Texas Ranger clip LIVE   \n",
       "3      _OpzEHBDwQE  Very Funny Commercial  Think Beyond Your Ear (...   \n",
       "4      yzGWOpop6i8                               Happy Valentines Day   \n",
       "6      DOD38Y72zyk                              Minecraft: TNT Rocket   \n",
       "8      c1NaGio2Geo                                 Caller X episode 3   \n",
       "...            ...                                                ...   \n",
       "11524  gJyAigxDWBI  Knowwheretorun1984 set ablaze by Jordan Maxwel...   \n",
       "11529  Sn00l_ttSi4                    \"Strangers on the Street\" - QCC   \n",
       "11532  XcVw-qHdufE  Trailer: Being Human - Series 4 Episode 2 - BB...   \n",
       "11535  K-w_Ie-iBgY                                Gears of War 3 Rage   \n",
       "11536  HKMgwmqPOxs            Dylan hit by a ball [Slow motion remix]   \n",
       "\n",
       "       view_count  like_count  comment_count duration  \n",
       "0           224.0         1.0            0.0    PT32S  \n",
       "3         61696.0       179.0            2.0    PT38S  \n",
       "4         15852.0       315.0           77.0  PT1M14S  \n",
       "6          2174.0        16.0            3.0   PT1M9S  \n",
       "8         13716.0       525.0          130.0  PT1M18S  \n",
       "...           ...         ...            ...      ...  \n",
       "11524       158.0         3.0            2.0    PT43S  \n",
       "11529        92.0         0.0            0.0  PT1M12S  \n",
       "11532     24146.0        79.0           21.0    PT41S  \n",
       "11535       226.0         1.0            1.0    PT50S  \n",
       "11536       546.0         4.0            1.0  PT1M21S  \n",
       "\n",
       "[5795 rows x 6 columns]"
      ]
     },
     "execution_count": 22,
     "metadata": {},
     "output_type": "execute_result"
    }
   ],
   "source": [
    "df[df[\"view_count\"] % 2 == 0] # get all rows where the view_count is even"
   ]
  },
  {
   "cell_type": "code",
   "execution_count": 23,
   "metadata": {},
   "outputs": [
    {
     "name": "stdout",
     "output_type": "stream",
     "text": [
      "The 2nd element of the view_count column is  1919.0\n"
     ]
    },
    {
     "ename": "KeyError",
     "evalue": "1",
     "output_type": "error",
     "traceback": [
      "\u001b[0;31m---------------------------------------------------------------------------\u001b[0m",
      "\u001b[0;31mKeyError\u001b[0m                                  Traceback (most recent call last)",
      "File \u001b[0;32m/Library/Frameworks/Python.framework/Versions/3.12/lib/python3.12/site-packages/pandas/core/indexes/base.py:3805\u001b[0m, in \u001b[0;36mIndex.get_loc\u001b[0;34m(self, key)\u001b[0m\n\u001b[1;32m   3804\u001b[0m \u001b[38;5;28;01mtry\u001b[39;00m:\n\u001b[0;32m-> 3805\u001b[0m     \u001b[38;5;28;01mreturn\u001b[39;00m \u001b[38;5;28;43mself\u001b[39;49m\u001b[38;5;241;43m.\u001b[39;49m\u001b[43m_engine\u001b[49m\u001b[38;5;241;43m.\u001b[39;49m\u001b[43mget_loc\u001b[49m\u001b[43m(\u001b[49m\u001b[43mcasted_key\u001b[49m\u001b[43m)\u001b[49m\n\u001b[1;32m   3806\u001b[0m \u001b[38;5;28;01mexcept\u001b[39;00m \u001b[38;5;167;01mKeyError\u001b[39;00m \u001b[38;5;28;01mas\u001b[39;00m err:\n",
      "File \u001b[0;32mindex.pyx:167\u001b[0m, in \u001b[0;36mpandas._libs.index.IndexEngine.get_loc\u001b[0;34m()\u001b[0m\n",
      "File \u001b[0;32mindex.pyx:196\u001b[0m, in \u001b[0;36mpandas._libs.index.IndexEngine.get_loc\u001b[0;34m()\u001b[0m\n",
      "File \u001b[0;32mpandas/_libs/hashtable_class_helper.pxi:7081\u001b[0m, in \u001b[0;36mpandas._libs.hashtable.PyObjectHashTable.get_item\u001b[0;34m()\u001b[0m\n",
      "File \u001b[0;32mpandas/_libs/hashtable_class_helper.pxi:7089\u001b[0m, in \u001b[0;36mpandas._libs.hashtable.PyObjectHashTable.get_item\u001b[0;34m()\u001b[0m\n",
      "\u001b[0;31mKeyError\u001b[0m: 1",
      "\nThe above exception was the direct cause of the following exception:\n",
      "\u001b[0;31mKeyError\u001b[0m                                  Traceback (most recent call last)",
      "Cell \u001b[0;32mIn[23], line 3\u001b[0m\n\u001b[1;32m      1\u001b[0m \u001b[38;5;66;03m# get the 1 element of the view_count column\u001b[39;00m\n\u001b[1;32m      2\u001b[0m \u001b[38;5;28mprint\u001b[39m(\u001b[38;5;124m\"\u001b[39m\u001b[38;5;124mThe 2nd element of the view_count column is \u001b[39m\u001b[38;5;124m\"\u001b[39m, df\u001b[38;5;241m.\u001b[39mloc[\u001b[38;5;241m1\u001b[39m, \u001b[38;5;124m'\u001b[39m\u001b[38;5;124mview_count\u001b[39m\u001b[38;5;124m'\u001b[39m])\n\u001b[0;32m----> 3\u001b[0m \u001b[43mdf\u001b[49m\u001b[43m[\u001b[49m\u001b[43mdf\u001b[49m\u001b[43m[\u001b[49m\u001b[38;5;124;43m\"\u001b[39;49m\u001b[38;5;124;43mview_count\u001b[39;49m\u001b[38;5;124;43m\"\u001b[39;49m\u001b[43m]\u001b[49m\u001b[43m \u001b[49m\u001b[38;5;241;43m%\u001b[39;49m\u001b[43m \u001b[49m\u001b[38;5;241;43m2\u001b[39;49m\u001b[43m \u001b[49m\u001b[38;5;241;43m==\u001b[39;49m\u001b[43m \u001b[49m\u001b[38;5;241;43m0\u001b[39;49m\u001b[43m]\u001b[49m\u001b[43m[\u001b[49m\u001b[38;5;241;43m1\u001b[39;49m\u001b[43m]\u001b[49m \u001b[38;5;66;03m# produces an error since the item with index 1 does not have an even view_count\u001b[39;00m\n",
      "File \u001b[0;32m/Library/Frameworks/Python.framework/Versions/3.12/lib/python3.12/site-packages/pandas/core/frame.py:4102\u001b[0m, in \u001b[0;36mDataFrame.__getitem__\u001b[0;34m(self, key)\u001b[0m\n\u001b[1;32m   4100\u001b[0m \u001b[38;5;28;01mif\u001b[39;00m \u001b[38;5;28mself\u001b[39m\u001b[38;5;241m.\u001b[39mcolumns\u001b[38;5;241m.\u001b[39mnlevels \u001b[38;5;241m>\u001b[39m \u001b[38;5;241m1\u001b[39m:\n\u001b[1;32m   4101\u001b[0m     \u001b[38;5;28;01mreturn\u001b[39;00m \u001b[38;5;28mself\u001b[39m\u001b[38;5;241m.\u001b[39m_getitem_multilevel(key)\n\u001b[0;32m-> 4102\u001b[0m indexer \u001b[38;5;241m=\u001b[39m \u001b[38;5;28;43mself\u001b[39;49m\u001b[38;5;241;43m.\u001b[39;49m\u001b[43mcolumns\u001b[49m\u001b[38;5;241;43m.\u001b[39;49m\u001b[43mget_loc\u001b[49m\u001b[43m(\u001b[49m\u001b[43mkey\u001b[49m\u001b[43m)\u001b[49m\n\u001b[1;32m   4103\u001b[0m \u001b[38;5;28;01mif\u001b[39;00m is_integer(indexer):\n\u001b[1;32m   4104\u001b[0m     indexer \u001b[38;5;241m=\u001b[39m [indexer]\n",
      "File \u001b[0;32m/Library/Frameworks/Python.framework/Versions/3.12/lib/python3.12/site-packages/pandas/core/indexes/base.py:3812\u001b[0m, in \u001b[0;36mIndex.get_loc\u001b[0;34m(self, key)\u001b[0m\n\u001b[1;32m   3807\u001b[0m     \u001b[38;5;28;01mif\u001b[39;00m \u001b[38;5;28misinstance\u001b[39m(casted_key, \u001b[38;5;28mslice\u001b[39m) \u001b[38;5;129;01mor\u001b[39;00m (\n\u001b[1;32m   3808\u001b[0m         \u001b[38;5;28misinstance\u001b[39m(casted_key, abc\u001b[38;5;241m.\u001b[39mIterable)\n\u001b[1;32m   3809\u001b[0m         \u001b[38;5;129;01mand\u001b[39;00m \u001b[38;5;28many\u001b[39m(\u001b[38;5;28misinstance\u001b[39m(x, \u001b[38;5;28mslice\u001b[39m) \u001b[38;5;28;01mfor\u001b[39;00m x \u001b[38;5;129;01min\u001b[39;00m casted_key)\n\u001b[1;32m   3810\u001b[0m     ):\n\u001b[1;32m   3811\u001b[0m         \u001b[38;5;28;01mraise\u001b[39;00m InvalidIndexError(key)\n\u001b[0;32m-> 3812\u001b[0m     \u001b[38;5;28;01mraise\u001b[39;00m \u001b[38;5;167;01mKeyError\u001b[39;00m(key) \u001b[38;5;28;01mfrom\u001b[39;00m \u001b[38;5;21;01merr\u001b[39;00m\n\u001b[1;32m   3813\u001b[0m \u001b[38;5;28;01mexcept\u001b[39;00m \u001b[38;5;167;01mTypeError\u001b[39;00m:\n\u001b[1;32m   3814\u001b[0m     \u001b[38;5;66;03m# If we have a listlike key, _check_indexing_error will raise\u001b[39;00m\n\u001b[1;32m   3815\u001b[0m     \u001b[38;5;66;03m#  InvalidIndexError. Otherwise we fall through and re-raise\u001b[39;00m\n\u001b[1;32m   3816\u001b[0m     \u001b[38;5;66;03m#  the TypeError.\u001b[39;00m\n\u001b[1;32m   3817\u001b[0m     \u001b[38;5;28mself\u001b[39m\u001b[38;5;241m.\u001b[39m_check_indexing_error(key)\n",
      "\u001b[0;31mKeyError\u001b[0m: 1"
     ]
    }
   ],
   "source": [
    "# get the 1 element of the view_count column\n",
    "print(\"The 2nd element of the view_count column is \", df.loc[1, 'view_count'])\n",
    "df[df[\"view_count\"] % 2 == 0][1] # produces an error since the item with index 1 does not have an even view_count"
   ]
  },
  {
   "cell_type": "code",
   "execution_count": null,
   "metadata": {},
   "outputs": [],
   "source": [
    "df[df[\"view_count\"] % 2 == 0].values[1] # use the values attribute to get the values in the filtered dataframe."
   ]
  },
  {
   "cell_type": "markdown",
   "metadata": {},
   "source": [
    "#### Statistics about the DataFrame"
   ]
  },
  {
   "cell_type": "code",
   "execution_count": null,
   "metadata": {},
   "outputs": [],
   "source": [
    "df[\"view_count\"].sum() # shows the mean of the view_count column"
   ]
  },
  {
   "cell_type": "code",
   "execution_count": null,
   "metadata": {},
   "outputs": [],
   "source": [
    "sum(df[\"view_count\"]) # outputs nan because the column has missing values (listed at NaN)"
   ]
  },
  {
   "cell_type": "code",
   "execution_count": null,
   "metadata": {},
   "outputs": [],
   "source": [
    "sum(df[\"view_count\"].dropna()) # outputs the sum of the view_count column without the missing values"
   ]
  },
  {
   "cell_type": "markdown",
   "metadata": {},
   "source": [
    "Again, it is faster to use the Pandas's built-in functions."
   ]
  },
  {
   "cell_type": "code",
   "execution_count": null,
   "metadata": {},
   "outputs": [],
   "source": [
    "%%timeit\n",
    "\n",
    "df[\"view_count\"].sum()  "
   ]
  },
  {
   "cell_type": "code",
   "execution_count": null,
   "metadata": {},
   "outputs": [],
   "source": [
    "%%timeit \n",
    "\n",
    "sum(df[\"view_count\"].dropna())"
   ]
  },
  {
   "cell_type": "code",
   "execution_count": null,
   "metadata": {},
   "outputs": [],
   "source": [
    "df[\"like_count\"].max() # shows the max of the view_count column"
   ]
  },
  {
   "cell_type": "code",
   "execution_count": null,
   "metadata": {},
   "outputs": [],
   "source": [
    "df.describe() # shows the summary statistics of the DataFrame"
   ]
  },
  {
   "cell_type": "markdown",
   "metadata": {},
   "source": [
    "#### Combining DataFrames"
   ]
  },
  {
   "cell_type": "code",
   "execution_count": null,
   "metadata": {},
   "outputs": [],
   "source": [
    "df_3 = pd.DataFrame({\n",
    "    'A': [10, 11, 12], \n",
    "    'B': [13, 14, 15],\n",
    "    'C': ['xx', 'yy', 'zz']})\n",
    "\n",
    "df_3"
   ]
  },
  {
   "cell_type": "code",
   "execution_count": null,
   "metadata": {},
   "outputs": [],
   "source": [
    "combined_df = pd.concat([df_1, df_2, df_3], axis=0) # concatenates the two DataFrames along the rows\n",
    "\n",
    "combined_df"
   ]
  },
  {
   "cell_type": "code",
   "execution_count": null,
   "metadata": {},
   "outputs": [],
   "source": [
    "combined_df = pd.concat([df_1, df_2, df_3], axis=1) # concatenates the two DataFrames along the columns\n",
    "\n",
    "combined_df"
   ]
  },
  {
   "cell_type": "markdown",
   "metadata": {},
   "source": [
    "### Task"
   ]
  },
  {
   "cell_type": "code",
   "execution_count": null,
   "metadata": {
    "deletable": false,
    "nbgrader": {
     "cell_type": "code",
     "checksum": "c2f19aae397fdedbb386c102b0b654ae",
     "grade": false,
     "grade_id": "cell-aefcc9d3857dc581",
     "locked": false,
     "schema_version": 3,
     "solution": true,
     "task": false
    }
   },
   "outputs": [],
   "source": [
    "def compare_views(df, video_id1, video_id2): \n",
    "    \"\"\"Return True if the view count of video_id1 is greater than the view count of video_id2; otherwise, return False. If video_id1 or video_id2 is not in the DataFrame, raise a ValueError that outputs the string 'video_id is not in the DataFrame', where video_id is not present in the frame.\"\"\"\n",
    "    \n",
    "    # YOUR CODE HERE\n",
    "    raise NotImplementedError()\n"
   ]
  },
  {
   "cell_type": "code",
   "execution_count": null,
   "metadata": {
    "deletable": false,
    "editable": false,
    "nbgrader": {
     "cell_type": "code",
     "checksum": "5c9483f3e85a51881c391e01a27ffd8c",
     "grade": true,
     "grade_id": "cell-a0439c6c3ac29144",
     "locked": true,
     "points": 7,
     "schema_version": 3,
     "solution": false,
     "task": false
    }
   },
   "outputs": [],
   "source": [
    "assert compare_views(df, 'vzpD6OogahQ', 'yzGWOpop6i8') == True\n",
    "assert compare_views(df, 'yzGWOpop6i8', 'vzpD6OogahQ') == False\n",
    "assert compare_views(df, 'DE1-cD3pTkA', 'XZqSz_X-j8Y') == False\n",
    "assert compare_views(df, 'XZqSz_X-j8Y', 'DE1-cD3pTkA') == True\n",
    "assert compare_views(df, 'yzGWOpop6i8', 'yzGWOpop6i8') == False\n",
    "try:\n",
    "    compare_views(df, 'vzpD6OogahQ', 'not_in_df1')\n",
    "except ValueError as e:\n",
    "    assert str(e) == 'not_in_df1 is not in the DataFrame'\n",
    "try:\n",
    "    compare_views(df, 'not_in_df2', 'vzpD6OogahQ')\n",
    "except ValueError as e:\n",
    "    assert str(e) == 'not_in_df2 is not in the DataFrame'"
   ]
  },
  {
   "cell_type": "code",
   "execution_count": null,
   "metadata": {},
   "outputs": [],
   "source": []
  }
 ],
 "metadata": {
  "kernelspec": {
   "display_name": "3.11.9",
   "language": "python",
   "name": "python3"
  },
  "language_info": {
   "codemirror_mode": {
    "name": "ipython",
    "version": 3
   },
   "file_extension": ".py",
   "mimetype": "text/x-python",
   "name": "python",
   "nbconvert_exporter": "python",
   "pygments_lexer": "ipython3",
   "version": "3.12.7"
  }
 },
 "nbformat": 4,
 "nbformat_minor": 4
}