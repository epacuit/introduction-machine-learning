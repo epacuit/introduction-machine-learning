{
 "cells": [
  {
   "cell_type": "markdown",
   "metadata": {},
   "source": [
    "<a target=\"_blank\" rel=\"noopener noreferrer\" href=\"https://colab.research.google.com/github/epacuit/introduction-machine-learning/blob/main/tutorials/tutorial2.ipynb\">![Open In Colab](https://colab.research.google.com/assets/colab-badge.svg)</a>\n",
    "\n",
    "\n",
    "Before you turn this problem in, make sure everything runs as expected. First, **restart the kernel** (in the menubar, select Kernel $\\rightarrow$ Restart) and then **run all cells** (in the menubar, select Cell $\\rightarrow$ Run All).\n",
    "\n",
    "Make sure you fill in any place that says `YOUR CODE HERE` or \"YOUR ANSWER HERE\", as well as your name and collaborators below:"
   ]
  },
  {
   "cell_type": "code",
   "execution_count": 1,
   "metadata": {},
   "outputs": [],
   "source": [
    "NAME = \"\"\n",
    "COLLABORATORS = \"\""
   ]
  },
  {
   "cell_type": "markdown",
   "metadata": {},
   "source": [
    "---"
   ]
  },
  {
   "cell_type": "markdown",
   "metadata": {
    "deletable": false,
    "editable": false,
    "nbgrader": {
     "cell_type": "markdown",
     "checksum": "33213685cee1eb96d05326033dd9af9a",
     "grade": false,
     "grade_id": "cell-4d92a650b80b6df8",
     "locked": true,
     "schema_version": 3,
     "solution": false,
     "task": false
    }
   },
   "source": [
    "(tutorial2)=\n",
    "# Tutorial 2: Reading CSV files "
   ]
  },
  {
   "cell_type": "markdown",
   "metadata": {
    "deletable": false,
    "editable": false,
    "nbgrader": {
     "cell_type": "markdown",
     "checksum": "4f052e404724420dd5b4eb16b91c3a8f",
     "grade": false,
     "grade_id": "cell-43370a8883159cd2",
     "locked": true,
     "schema_version": 3,
     "solution": false,
     "task": false
    }
   },
   "source": [
    "# Part 1"
   ]
  },
  {
   "cell_type": "markdown",
   "metadata": {
    "deletable": false,
    "editable": false,
    "nbgrader": {
     "cell_type": "markdown",
     "checksum": "526e8ad0699a83978dd8b95c2c328316",
     "grade": false,
     "grade_id": "cell-bbb4d9dfa0621d4e",
     "locked": true,
     "schema_version": 3,
     "solution": false,
     "task": false
    }
   },
   "source": [
    "#### 1. Reading `csv` files\n",
    "\n",
    "A `csv` file is a comma separated values file. It is a simple file format used to store tabular data, such as a spreadsheet or database. The first row of the file typically contains the column names, and the following rows contain the data.\n",
    "\n",
    "The file `comedy_comparisons_metadata.csv` contains metadata about videos on YouTube.  The file is available at the following URL: [https://raw.githubusercontent.com/epacuit/introduction-machine-learning/refs/heads/main/tutorials/comedy_comparisons_metadata.csv](https://raw.githubusercontent.com/epacuit/introduction-machine-learning/refs/heads/main/tutorials/comedy_comparisons_metadata.csv)\n",
    "\n",
    "Use the `csv` Python package ([https://docs.python.org/3/library/csv.html](https://docs.python.org/3/library/csv.html)) to read the file.   Create a list `metadata` that contains dictionaries for each row in the file.  The keys of the dictionaries should be the column names and the values should be the corresponding values in the row.  For example, the first dictionary in the list should be: \"video_id\", \"title\", \"view_count\", \"like_count\", \"comment_count\", \"duration\", corresponding to the columns in the file.  "
   ]
  },
  {
   "cell_type": "code",
   "execution_count": 2,
   "metadata": {
    "deletable": false,
    "nbgrader": {
     "cell_type": "code",
     "checksum": "754b4780e8a4ddd9b5d43768ec0c106a",
     "grade": false,
     "grade_id": "cell-9b03224fdab26646",
     "locked": false,
     "schema_version": 3,
     "solution": true,
     "task": false
    }
   },
   "outputs": [
    {
     "ename": "NotImplementedError",
     "evalue": "",
     "output_type": "error",
     "traceback": [
      "\u001b[0;31m---------------------------------------------------------------------------\u001b[0m",
      "\u001b[0;31mNotImplementedError\u001b[0m                       Traceback (most recent call last)",
      "Cell \u001b[0;32mIn[2], line 4\u001b[0m\n\u001b[1;32m      1\u001b[0m \u001b[38;5;28;01mimport\u001b[39;00m \u001b[38;5;21;01mcsv\u001b[39;00m\n\u001b[1;32m      3\u001b[0m \u001b[38;5;66;03m# YOUR CODE HERE\u001b[39;00m\n\u001b[0;32m----> 4\u001b[0m \u001b[38;5;28;01mraise\u001b[39;00m \u001b[38;5;167;01mNotImplementedError\u001b[39;00m()\n",
      "\u001b[0;31mNotImplementedError\u001b[0m: "
     ]
    }
   ],
   "source": [
    "\n",
    "import csv\n",
    "\n",
    "# YOUR CODE HERE\n",
    "raise NotImplementedError()\n"
   ]
  },
  {
   "cell_type": "code",
   "execution_count": null,
   "metadata": {
    "deletable": false,
    "editable": false,
    "nbgrader": {
     "cell_type": "code",
     "checksum": "2101aa4e992d64b3c04b9f4c3e7db27d",
     "grade": true,
     "grade_id": "cell-acf802fd0f3de227",
     "locked": true,
     "points": 4,
     "schema_version": 3,
     "solution": false,
     "task": false
    }
   },
   "outputs": [],
   "source": [
    "assert len(metadata) == 11541\n",
    "assert all([type(x) == dict for x in metadata])\n",
    "assert all([type(x) == dict for x in metadata])\n",
    "assert all([sorted(list(x.keys())) == sorted(['video_id', 'duration', 'title', 'view_count', 'like_count', 'comment_count', ]) for x in metadata])"
   ]
  },
  {
   "cell_type": "code",
   "execution_count": null,
   "metadata": {
    "deletable": false,
    "nbgrader": {
     "cell_type": "code",
     "checksum": "ade921623ba11ad93678cb9e6768a231",
     "grade": false,
     "grade_id": "cell-48d6cbc786b09b8f",
     "locked": false,
     "schema_version": 3,
     "solution": true,
     "task": false
    }
   },
   "outputs": [],
   "source": [
    "def avg_view_count(metadata):\n",
    "    \"\"\"\n",
    "    Calculate the average view count of the videos in the metadata.   Return the average rounded to two decimal places.\n",
    "    \"\"\"\n",
    "    # YOUR CODE HERE\n",
    "    raise NotImplementedError()\n",
    "\n"
   ]
  },
  {
   "cell_type": "code",
   "execution_count": null,
   "metadata": {
    "deletable": false,
    "editable": false,
    "nbgrader": {
     "cell_type": "code",
     "checksum": "a34d53e0ae7b5fd9a1fff1faf6d9e1a0",
     "grade": true,
     "grade_id": "cell-a429161ba39deee2",
     "locked": true,
     "points": 2,
     "schema_version": 3,
     "solution": false,
     "task": false
    }
   },
   "outputs": [],
   "source": [
    "assert avg_view_count(metadata) == 891988.54\n",
    "assert avg_view_count(metadata[100:200]) == 1152895.47"
   ]
  },
  {
   "cell_type": "markdown",
   "metadata": {
    "deletable": false,
    "editable": false,
    "nbgrader": {
     "cell_type": "markdown",
     "checksum": "6f7d38eb9279d05fec6af603a90f8e18",
     "grade": false,
     "grade_id": "cell-653621e2550c1bb7",
     "locked": true,
     "schema_version": 3,
     "solution": false,
     "task": false
    }
   },
   "source": [
    "#### 2. Write a function that accepts the `metadata` list, the `video_id`, and a column name, and return the value of the column name for the video_id. \n",
    "\n",
    "For instance, `get_value(metadata, 'DE1-cD3pTkA', 'like_count')` should the number of likes for the video with id \"DE1-cD3pTkA\"."
   ]
  },
  {
   "cell_type": "code",
   "execution_count": null,
   "metadata": {
    "deletable": false,
    "nbgrader": {
     "cell_type": "code",
     "checksum": "a07373c4b3a865e78061a5719996761a",
     "grade": false,
     "grade_id": "cell-ccb737d604c12008",
     "locked": false,
     "schema_version": 3,
     "solution": true,
     "task": false
    }
   },
   "outputs": [],
   "source": [
    "def get_value(metadata, video_id, col_name):\n",
    "\n",
    "    # YOUR CODE HERE\n",
    "    raise NotImplementedError()\n",
    "\n"
   ]
  },
  {
   "cell_type": "code",
   "execution_count": null,
   "metadata": {
    "deletable": false,
    "editable": false,
    "nbgrader": {
     "cell_type": "code",
     "checksum": "7fabf36a79bab54fcbc17d0bdb9f76aa",
     "grade": true,
     "grade_id": "cell-50c4e72489e49f4c",
     "locked": true,
     "points": 3,
     "schema_version": 3,
     "solution": false,
     "task": false
    }
   },
   "outputs": [],
   "source": [
    "assert get_value(metadata, 'XZqSz_X-j8Y', 'view_count') == 1919\n",
    "assert get_value(metadata, 'XZqSz_X-j8Y', 'like_count') == 7\n",
    "assert get_value(metadata, 'XZqSz_X-j8Y', 'comment_count') == 3\n",
    " "
   ]
  },
  {
   "cell_type": "markdown",
   "metadata": {
    "deletable": false,
    "editable": false,
    "nbgrader": {
     "cell_type": "markdown",
     "checksum": "63254fc8d2b904f9100aac1d027d3f79",
     "grade": false,
     "grade_id": "cell-3580fd0d7c34dea5",
     "locked": true,
     "schema_version": 3,
     "solution": false,
     "task": false
    }
   },
   "source": [
    "# Part 2: Predicting Video Comparisons from Metadata\n",
    "\n",
    "In this part, we will attempt to predict which of two YouTube videos is considered funnier based on their metadata.  \n",
    "\n",
    "The dataset `comedy_comparisons.csv` is a subset of the *YouTube Comedy Slam Preference* dataset, available from the [UC Irvine Machine Learning Repository](https://archive.ics.uci.edu/dataset/223/youtube+comedy+slam+preference+data). It contains pairwise comparisons of videos, where each row records the video IDs of two videos and indicates which one was rated as funnier by a user.  \n",
    "\n",
    "You can access the file at the following URL:  \n",
    "[https://raw.githubusercontent.com/epacuit/introduction-machine-learning/refs/heads/main/tutorials/test_comedy_comparisons_restricted.csv](https://raw.githubusercontent.com/epacuit/introduction-machine-learning/refs/heads/main/tutorials/test_comedy_comparisons_restricted.csv).\n",
    "\n",
    "## Tasks\n",
    "\n",
    "1. **Read the Dataset**: Read the file `test_comedy_comparisons_restricted.csv` and create a list of dictionaries. Each dictionary should have the keys `\"video_id_1\"`, `\"video_id_2\"`, and `\"winner\"`.  \n",
    "   - `\"video_id_1\"` and `\"video_id_2\"` should store the video IDs being compared.  \n",
    "   - `\"winner\"` should be `1` if `video_id_1` is considered funnier and `0` if `video_id_2` is considered funnier.  \n",
    "   - The function should return a list of such dictionaries.  \n",
    "\n",
    "2. **Implement Comparison Functions**: Write three different comparison functions of the following form:  \n",
    "\n",
    "   ```python\n",
    "   def is_funnier(video_id_1, video_id_2, metadata):\n",
    "       \"\"\"\n",
    "       Returns True if video_id_1 is predicted to be funnier than video_id_2 based on metadata.\n",
    "       \"\"\"\n",
    "    ```\n",
    "\n",
    "    Each function should predict which video is funnier based on some metadata attribute, such as:\n",
    "        - Number of views\n",
    "        - Number of likes\n",
    "        - Number of comments\n",
    "\n",
    "3. **Evaluate Accuracy**: Write a function `evaluate` that accepts the list of comparisons created in step 1 and evaluates the *accuracy* of a  comparison function.  The accuracy is the proportion of comparisons where the function correctly predicts the funnier video.\n",
    "  "
   ]
  },
  {
   "cell_type": "code",
   "execution_count": null,
   "metadata": {
    "deletable": false,
    "nbgrader": {
     "cell_type": "code",
     "checksum": "91283b31c145eb601ccedd6e43343635",
     "grade": true,
     "grade_id": "cell-a9f20d1732fa1350",
     "locked": false,
     "points": 5,
     "schema_version": 3,
     "solution": true,
     "task": false
    }
   },
   "outputs": [],
   "source": [
    "import csv\n",
    "\n",
    "# YOUR CODE HERE\n",
    "raise NotImplementedError()"
   ]
  },
  {
   "cell_type": "code",
   "execution_count": null,
   "metadata": {
    "deletable": false,
    "nbgrader": {
     "cell_type": "code",
     "checksum": "85662670fb0295e9e81edf6d5f8eddbd",
     "grade": true,
     "grade_id": "cell-eab5374ddf430e4b",
     "locked": false,
     "points": 5,
     "schema_version": 3,
     "solution": true,
     "task": false
    }
   },
   "outputs": [],
   "source": [
    "\n",
    "\n",
    "def is_funnier_1(metadata, video_id1, video_id2):\n",
    "    # YOUR CODE HERE\n",
    "    raise NotImplementedError()\n",
    "\n"
   ]
  },
  {
   "cell_type": "code",
   "execution_count": null,
   "metadata": {
    "deletable": false,
    "nbgrader": {
     "cell_type": "code",
     "checksum": "ad8d38c721eddf06fc7c9a37d5930025",
     "grade": true,
     "grade_id": "cell-a8f8759cc837625a",
     "locked": false,
     "points": 5,
     "schema_version": 3,
     "solution": true,
     "task": false
    }
   },
   "outputs": [],
   "source": [
    "def is_funnier_2(metadata, video_id1, video_id2):\n",
    "    # YOUR CODE HERE\n",
    "    raise NotImplementedError()\n",
    "\n",
    "\n"
   ]
  },
  {
   "cell_type": "code",
   "execution_count": null,
   "metadata": {
    "deletable": false,
    "nbgrader": {
     "cell_type": "code",
     "checksum": "ca630f763d738f1bb9bf4e84ae6cf62d",
     "grade": true,
     "grade_id": "cell-0dbd1b91fa7add6e",
     "locked": false,
     "points": 5,
     "schema_version": 3,
     "solution": true,
     "task": false
    }
   },
   "outputs": [],
   "source": [
    "def is_funnier_3(metadata, video_id1, video_id2):\n",
    "    # YOUR CODE HERE\n",
    "    raise NotImplementedError()\n",
    "\n"
   ]
  },
  {
   "cell_type": "code",
   "execution_count": null,
   "metadata": {
    "deletable": false,
    "nbgrader": {
     "cell_type": "code",
     "checksum": "49a723ba10d0a28b1972e49e7203be72",
     "grade": true,
     "grade_id": "cell-56dd635773e69030",
     "locked": false,
     "points": 5,
     "schema_version": 3,
     "solution": true,
     "task": false
    }
   },
   "outputs": [],
   "source": [
    "def evaluate(metadata, comparisons, is_funnier):\n",
    "    # YOUR CODE HERE\n",
    "    raise NotImplementedError()\n",
    "\n"
   ]
  },
  {
   "cell_type": "code",
   "execution_count": null,
   "metadata": {
    "deletable": false,
    "editable": false,
    "nbgrader": {
     "cell_type": "code",
     "checksum": "cd48d67488ffe019ffd54d7365b7c203",
     "grade": false,
     "grade_id": "cell-be5855b232f9f628",
     "locked": true,
     "schema_version": 3,
     "solution": false,
     "task": false
    }
   },
   "outputs": [],
   "source": [
    "\n",
    "print(\"The accuracy of is_funnier_1 is\", evaluate(metadata, comparisons, is_funnier_1))\n",
    "\n",
    "print(\"The accuracy of is_funnier_2 is\", evaluate(metadata, comparisons, is_funnier_2))\n",
    "\n",
    "print(\"The accuracy of is_funnier_3 is\", evaluate(metadata, comparisons, is_funnier_3))"
   ]
  },
  {
   "cell_type": "code",
   "execution_count": null,
   "metadata": {},
   "outputs": [],
   "source": []
  }
 ],
 "metadata": {
  "kernelspec": {
   "display_name": "3.11.9",
   "language": "python",
   "name": "python3"
  },
  "language_info": {
   "codemirror_mode": {
    "name": "ipython",
    "version": 3
   },
   "file_extension": ".py",
   "mimetype": "text/x-python",
   "name": "python",
   "nbconvert_exporter": "python",
   "pygments_lexer": "ipython3",
   "version": "3.12.7"
  },
  "varInspector": {
   "cols": {
    "lenName": 16,
    "lenType": 16,
    "lenVar": 40
   },
   "kernels_config": {
    "python": {
     "delete_cmd_postfix": "",
     "delete_cmd_prefix": "del ",
     "library": "var_list.py",
     "varRefreshCmd": "print(var_dic_list())"
    },
    "r": {
     "delete_cmd_postfix": ") ",
     "delete_cmd_prefix": "rm(",
     "library": "var_list.r",
     "varRefreshCmd": "cat(var_dic_list()) "
    }
   },
   "types_to_exclude": [
    "module",
    "function",
    "builtin_function_or_method",
    "instance",
    "_Feature"
   ],
   "window_display": false
  }
 },
 "nbformat": 4,
 "nbformat_minor": 4
}