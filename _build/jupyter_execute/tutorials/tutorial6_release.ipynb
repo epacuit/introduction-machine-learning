{
 "cells": [
  {
   "cell_type": "markdown",
   "id": "overview",
   "metadata": {
    "id": "overview"
   },
   "source": [
    "<a target=\"_blank\" rel=\"noopener noreferrer\" href=\"https://colab.research.google.com/github/epacuit/introduction-machine-learning/blob/main/tutorials/tutorial6_release.ipynb\">![Open In Colab](https://colab.research.google.com/assets/colab-badge.svg)</a>\n",
    "\n",
    "\n",
    "(tutorial6=)\n",
    "# CIFAR-10 CNN Assignment\n",
    "\n",
    "In this assignment, you will build a Convolutional Neural Network (CNN) using TensorFlow/Keras to classify images from the CIFAR-10 dataset. This dataset contains 10 classes: airplane, automobile, bird, cat, deer, dog, frog, horse, ship, truck.\n",
    "\n",
    "**Outline:**\n",
    "\n",
    "1. Load and explore CIFAR-10.\n",
    "2. Split the training data into training and validation sets (40,000 / 10,000).\n",
    "3. Visualize sample images with their class names.\n",
    "4. Build your CNN model.\n",
    "5. Compile and train the model (for 3 epochs to keep training time short).\n",
    "6. Evaluate the model on the test set (10,000 images)."
   ]
  },
  {
   "cell_type": "markdown",
   "id": "load_dataset_intro",
   "metadata": {
    "id": "load_dataset_intro"
   },
   "source": [
    "## 1. Load CIFAR-10 Dataset\n",
    "\n",
    "I'll load the CIFAR-10 dataset using TensorFlow’s `tf.keras.datasets.cifar10.load_data()`. This dataset automatically comes split into a training set (50,000 images) and a test set (10,000 images)."
   ]
  },
  {
   "cell_type": "code",
   "execution_count": 1,
   "id": "load_dataset",
   "metadata": {
    "colab": {
     "base_uri": "https://localhost:8080/"
    },
    "deletable": false,
    "editable": false,
    "id": "load_dataset",
    "nbgrader": {
     "cell_type": "code",
     "checksum": "45029a3a2922c33a160b74ed52fb40aa",
     "grade": false,
     "grade_id": "load_dataset",
     "locked": true,
     "schema_version": 3,
     "solution": false,
     "task": false
    },
    "outputId": "90177ba9-e137-4507-fbcc-e770839aab9d"
   },
   "outputs": [
    {
     "name": "stdout",
     "output_type": "stream",
     "text": [
      "Full training set shape: (50000, 32, 32, 3)\n",
      "Test set shape: (10000, 32, 32, 3)\n",
      "Classes: ['airplane', 'automobile', 'bird', 'cat', 'deer', 'dog', 'frog', 'horse', 'ship', 'truck']\n"
     ]
    }
   ],
   "source": [
    "# TODO: Load the CIFAR-10 dataset\n",
    "import tensorflow as tf\n",
    "import numpy as np\n",
    "\n",
    "# Load dataset\n",
    "(x_train_full, y_train_full), (x_test, y_test) = tf.keras.datasets.cifar10.load_data()\n",
    "\n",
    "# Normalize the images to [0, 1]\n",
    "x_train_full = x_train_full.astype('float32') / 255.0\n",
    "x_test = x_test.astype('float32') / 255.0\n",
    "\n",
    "print('Full training set shape:', x_train_full.shape)\n",
    "print('Test set shape:', x_test.shape)\n",
    "\n",
    "# The CIFAR-10 classes\n",
    "class_names = ['airplane', 'automobile', 'bird', 'cat', 'deer',\n",
    "               'dog', 'frog', 'horse', 'ship', 'truck']\n",
    "print('Classes:', class_names)"
   ]
  },
  {
   "cell_type": "markdown",
   "id": "split_data",
   "metadata": {
    "id": "split_data"
   },
   "source": [
    "## 2. Split Data into Training and Validation Sets\n",
    "\n",
    "Using the full training set (50,000 images), split the data into:\n",
    "\n",
    "- **Training set:** 40,000 images\n",
    "- **Validation set:** 10,000 images\n",
    "\n",
    "You can use scikit-learn’s `train_test_split` function to perform this split."
   ]
  },
  {
   "cell_type": "code",
   "execution_count": 2,
   "id": "split_dataset",
   "metadata": {
    "colab": {
     "base_uri": "https://localhost:8080/"
    },
    "deletable": false,
    "id": "split_dataset",
    "nbgrader": {
     "cell_type": "code",
     "checksum": "b3f7caf905795175509e8c1a5ab5cc6d",
     "grade": false,
     "grade_id": "split_dataset",
     "locked": false,
     "schema_version": 3,
     "solution": true,
     "task": false
    },
    "outputId": "f7e6c694-f321-404c-e103-d00627ea5201"
   },
   "outputs": [
    {
     "ename": "ModuleNotFoundError",
     "evalue": "No module named 'sklearn'",
     "output_type": "error",
     "traceback": [
      "\u001b[0;31m---------------------------------------------------------------------------\u001b[0m",
      "\u001b[0;31mModuleNotFoundError\u001b[0m                       Traceback (most recent call last)",
      "Cell \u001b[0;32mIn[2], line 2\u001b[0m\n\u001b[1;32m      1\u001b[0m \u001b[38;5;66;03m# TODO: Split x_train_full and y_train_full into training and validation sets\u001b[39;00m\n\u001b[0;32m----> 2\u001b[0m \u001b[38;5;28;01mfrom\u001b[39;00m \u001b[38;5;21;01msklearn\u001b[39;00m\u001b[38;5;21;01m.\u001b[39;00m\u001b[38;5;21;01mmodel_selection\u001b[39;00m \u001b[38;5;28;01mimport\u001b[39;00m train_test_split\n\u001b[1;32m      4\u001b[0m \u001b[38;5;66;03m# YOUR CODE HERE\u001b[39;00m\n\u001b[1;32m      5\u001b[0m \u001b[38;5;28;01mraise\u001b[39;00m \u001b[38;5;167;01mNotImplementedError\u001b[39;00m()\n",
      "\u001b[0;31mModuleNotFoundError\u001b[0m: No module named 'sklearn'"
     ]
    }
   ],
   "source": [
    "# TODO: Split x_train_full and y_train_full into training and validation sets\n",
    "from sklearn.model_selection import train_test_split\n",
    "\n",
    "# YOUR CODE HERE\n",
    "raise NotImplementedError()\n",
    "\n",
    "print('Training set shape:', x_train.shape)\n",
    "print('Validation set shape:', x_val.shape)"
   ]
  },
  {
   "cell_type": "markdown",
   "id": "visualize_images_intro",
   "metadata": {
    "id": "visualize_images_intro"
   },
   "source": [
    "## 3. Visualize Sample Images\n",
    "\n",
    "To get a sense of the data, here's a grid of 9 sample images from the training set along with their corresponding class names (using the index of the label to look up the class name from the list provided)."
   ]
  },
  {
   "cell_type": "code",
   "execution_count": null,
   "id": "visualize_images",
   "metadata": {
    "colab": {
     "base_uri": "https://localhost:8080/",
     "height": 884
    },
    "deletable": false,
    "editable": false,
    "id": "visualize_images",
    "nbgrader": {
     "cell_type": "code",
     "checksum": "567e263102eda141b8393fdda63ce1e3",
     "grade": false,
     "grade_id": "visualize_images",
     "locked": true,
     "schema_version": 3,
     "solution": false,
     "task": false
    },
    "outputId": "37c66245-7d66-4e81-c397-c7309b41f62d"
   },
   "outputs": [],
   "source": [
    "import matplotlib.pyplot as plt\n",
    "\n",
    "plt.figure(figsize=(10,10))\n",
    "for i in range(9):\n",
    "    ax = plt.subplot(3, 3, i+1)\n",
    "    plt.imshow(x_train[i])\n",
    "    # y_train[i] is in an array shape; extract the integer label\n",
    "    plt.title(class_names[int(y_train[i])])\n",
    "    plt.axis('off')\n",
    "plt.show()"
   ]
  },
  {
   "cell_type": "markdown",
   "id": "build_model_intro",
   "metadata": {
    "id": "build_model_intro"
   },
   "source": [
    "## 4. Build Your CNN Model\n",
    "\n",
    "Construct a simple CNN using TensorFlow/Keras with the following guidelines:\n",
    "\n",
    "- **Input Layer:** Your model will accept images of shape (32, 32, 3).\n",
    "- **Convolutional Layers:** Include at least two convolutional layers (each followed by a pooling layer).\n",
    "- **Flattening:** Use a `Flatten` layer to convert the 2D feature maps to a 1D vector.\n",
    "- **Dense Layers:** Add one or more dense layers to learn non-linear combinations of the features.\n",
    "- **Output Layer:** An output dense layer with 10 units (one for each class) using softmax activation, so that the output is a probability distribution over classes.\n",
    "\n",
    "Write your model architecture below."
   ]
  },
  {
   "cell_type": "code",
   "execution_count": null,
   "id": "build_cnn_model",
   "metadata": {
    "colab": {
     "base_uri": "https://localhost:8080/",
     "height": 415
    },
    "deletable": false,
    "id": "build_cnn_model",
    "nbgrader": {
     "cell_type": "code",
     "checksum": "8bbd86cd9cecce8af71510f5f2e8fdb5",
     "grade": false,
     "grade_id": "build_cnn_model",
     "locked": false,
     "schema_version": 3,
     "solution": true,
     "task": false
    },
    "outputId": "82236410-3339-412b-afb3-2675c9039c0e"
   },
   "outputs": [],
   "source": [
    "# TODO: Build your CNN model using tf.keras\n",
    "from tensorflow import keras\n",
    "from tensorflow.keras import layers\n",
    "\n",
    "# YOUR CODE HERE\n",
    "raise NotImplementedError()\n",
    "\n",
    "model.summary()"
   ]
  },
  {
   "cell_type": "markdown",
   "id": "compile_model_intro",
   "metadata": {
    "id": "compile_model_intro"
   },
   "source": [
    "## 5. Compile the Model\n",
    "\n",
    "Compile your model using the `sparse_categorical_crossentropy` loss function."
   ]
  },
  {
   "cell_type": "code",
   "execution_count": null,
   "id": "compile_model",
   "metadata": {
    "colab": {
     "base_uri": "https://localhost:8080/"
    },
    "deletable": false,
    "id": "compile_model",
    "nbgrader": {
     "cell_type": "code",
     "checksum": "971c5f92b4c912ccc8bd477037d2b323",
     "grade": false,
     "grade_id": "compile_model",
     "locked": false,
     "schema_version": 3,
     "solution": true,
     "task": false
    },
    "outputId": "af77f9c8-96e0-48a0-dc6c-1156ca73b12a"
   },
   "outputs": [],
   "source": [
    "# YOUR CODE HERE\n",
    "raise NotImplementedError()"
   ]
  },
  {
   "cell_type": "markdown",
   "id": "train_model_intro",
   "metadata": {
    "id": "train_model_intro"
   },
   "source": [
    "## 6. Train the Model\n",
    "\n",
    "Train your model for 3 epochs. Note that the full CIFAR-10 training set (40,000 images) may take a while, so you only need to train for 3 epochs. But if you'd like to train more to see how much accuracy you can achieve, feel free to.\n",
    "\n",
    "Do you end up overfitting the data? Underfitting the data?"
   ]
  },
  {
   "cell_type": "code",
   "execution_count": null,
   "id": "train_model",
   "metadata": {
    "colab": {
     "base_uri": "https://localhost:8080/"
    },
    "deletable": false,
    "id": "train_model",
    "nbgrader": {
     "cell_type": "code",
     "checksum": "91c3d677b536cc4448e5a93083e3f861",
     "grade": false,
     "grade_id": "train_model",
     "locked": false,
     "schema_version": 3,
     "solution": true,
     "task": false
    },
    "outputId": "5d0c394c-d01b-4925-f9ee-9950b32c2073"
   },
   "outputs": [],
   "source": [
    "# TODO: Train your model\n",
    "\n",
    "epochs = 3\n",
    "\n",
    "# YOUR CODE HERE\n",
    "raise NotImplementedError()\n",
    "      "
   ]
  },
  {
   "cell_type": "markdown",
   "id": "evaluate_test_intro",
   "metadata": {
    "id": "evaluate_test_intro"
   },
   "source": [
    "## 7. Evaluate on Test Data\n",
    "\n",
    "Evaluate the performance of your trained model on the CIFAR-10 test set (10,000 images). This will give you a clear picture of how well your model generalizes to unseen data."
   ]
  },
  {
   "cell_type": "code",
   "execution_count": null,
   "id": "evaluate_test",
   "metadata": {
    "colab": {
     "base_uri": "https://localhost:8080/"
    },
    "deletable": false,
    "id": "evaluate_test",
    "nbgrader": {
     "cell_type": "code",
     "checksum": "0f572472bd900636933fedd7a980e87e",
     "grade": false,
     "grade_id": "evaluate_test",
     "locked": false,
     "schema_version": 3,
     "solution": true,
     "task": false
    },
    "outputId": "454cfbe3-2948-456c-a41a-c495d51788d6"
   },
   "outputs": [],
   "source": [
    "# YOUR CODE HERE\n",
    "raise NotImplementedError()"
   ]
  }
 ],
 "metadata": {
  "colab": {
   "provenance": []
  },
  "kernelspec": {
   "display_name": "Python 3",
   "language": "python",
   "name": "python3"
  },
  "language_info": {
   "codemirror_mode": {
    "name": "ipython",
    "version": 3
   },
   "file_extension": ".py",
   "mimetype": "text/x-python",
   "name": "python",
   "nbconvert_exporter": "python",
   "pygments_lexer": "ipython3",
   "version": "3.12.7"
  }
 },
 "nbformat": 4,
 "nbformat_minor": 5
}