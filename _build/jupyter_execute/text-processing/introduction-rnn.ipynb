{
 "cells": [
  {
   "cell_type": "markdown",
   "id": "d919abe0",
   "metadata": {},
   "source": [
    "(rnn=)\n",
    "# Recurrent Neural Networks (RNNs)\n",
    "\n",
    "A Recurrent Neural Network (RNN) is a neural architecture designed for sequential data.\n",
    "Unlike feedforward networks, it contains *recurrent connections* in the hidden layer: the hidden state $h_t$ at time $t$ depends on both the current input $x_t$ and the previous hidden state $h_{t-1}$. Because the same weights are reused at every step, the model can, in principle, handle sequences of arbitrary length without increasing the parameter count.\n",
    "\n",
    "### Components of an RNN\n",
    "\n",
    "1. **Input layer** – receives a sequence of vectors $(x_1,\\dots,x_T)$, e.g., word embeddings.\n",
    "2. **Recurrent (hidden) layer(s)** – update rule below; weights are shared across all $t$.\n",
    "3. **Output layer** – either emits a prediction $y_t$ at each step, or reads the final state $h_T$ to classify the whole sequence.\n",
    "4. **Recurrent connection** – the link $h_{t-1}\\rightarrow h_t$ that carries memory forward.\n",
    "\n",
    "### Update Rule\n",
    "$$\n",
    "h_t = \\sigma(W_{xh} x_t + W_{hh} h_{t-1} + b_h)\n",
    "$$\n",
    "\n",
    "$$\n",
    "y_t = g(W_{hy} h_t + b_y)\n",
    "$$\n",
    "\n",
    "where:\n",
    "* $x_t\\in\\mathbb{R}^{d_{\\text{in}}}$ – input at time $t$.\n",
    "* $h_t\\in\\mathbb{R}^{d_h}$ – hidden state (memory).\n",
    "* $y_t$ – output; in sequence classification we often set $y_t = y$ only for $t=T$.\n",
    "* $W_{xh}$, $W_{hh}$, $W_{hy}$ and biases $b_h$, $b_y$ – shared, learnable parameters.\n",
    "* $\\sigma$ – typically $\\tanh$ or $\\text{ReLU}$.\n",
    "* $g$ – task‑dependent: softmax (language modelling), sigmoid (binary label), or identity (feature for another layer).\n",
    "\n"
   ]
  },
  {
   "cell_type": "code",
   "execution_count": 1,
   "id": "dacea741",
   "metadata": {},
   "outputs": [],
   "source": [
    "import numpy as np\n",
    "import tensorflow as tf\n",
    "from tensorflow.keras import layers, models\n",
    "import matplotlib.pyplot as plt\n",
    "import seaborn as sns"
   ]
  },
  {
   "cell_type": "code",
   "execution_count": 2,
   "id": "78c6ca76",
   "metadata": {},
   "outputs": [
    {
     "name": "stderr",
     "output_type": "stream",
     "text": [
      "/Library/Frameworks/Python.framework/Versions/3.12/lib/python3.12/site-packages/keras/src/layers/reshaping/flatten.py:37: UserWarning: Do not pass an `input_shape`/`input_dim` argument to a layer. When using Sequential models, prefer using an `Input(shape)` object as the first layer in the model instead.\n",
      "  super().__init__(**kwargs)\n",
      "2025-04-22 10:15:33.268833: I metal_plugin/src/device/metal_device.cc:1154] Metal device set to: Apple M2 Max\n",
      "2025-04-22 10:15:33.268858: I metal_plugin/src/device/metal_device.cc:296] systemMemory: 96.00 GB\n",
      "2025-04-22 10:15:33.268861: I metal_plugin/src/device/metal_device.cc:313] maxCacheSize: 36.00 GB\n",
      "WARNING: All log messages before absl::InitializeLog() is called are written to STDERR\n",
      "I0000 00:00:1745331333.268873 5204225 pluggable_device_factory.cc:305] Could not identify NUMA node of platform GPU ID 0, defaulting to 0. Your kernel may not have been built with NUMA support.\n",
      "I0000 00:00:1745331333.268894 5204225 pluggable_device_factory.cc:271] Created TensorFlow device (/job:localhost/replica:0/task:0/device:GPU:0 with 0 MB memory) -> physical PluggableDevice (device: 0, name: METAL, pci bus id: <undefined>)\n",
      "/Library/Frameworks/Python.framework/Versions/3.12/lib/python3.12/site-packages/keras/src/layers/convolutional/base_conv.py:107: UserWarning: Do not pass an `input_shape`/`input_dim` argument to a layer. When using Sequential models, prefer using an `Input(shape)` object as the first layer in the model instead.\n",
      "  super().__init__(activity_regularizer=activity_regularizer, **kwargs)\n",
      "/Library/Frameworks/Python.framework/Versions/3.12/lib/python3.12/site-packages/keras/src/layers/rnn/rnn.py:200: UserWarning: Do not pass an `input_shape`/`input_dim` argument to a layer. When using Sequential models, prefer using an `Input(shape)` object as the first layer in the model instead.\n",
      "  super().__init__(**kwargs)\n"
     ]
    },
    {
     "name": "stdout",
     "output_type": "stream",
     "text": [
      "Training Dense\n"
     ]
    },
    {
     "name": "stderr",
     "output_type": "stream",
     "text": [
      "2025-04-22 10:15:33.633813: I tensorflow/core/grappler/optimizers/custom_graph_optimizer_registry.cc:117] Plugin optimizer for device_type GPU is enabled.\n"
     ]
    },
    {
     "name": "stdout",
     "output_type": "stream",
     "text": [
      "   final val MSE: 0.0820\n",
      "Training Conv1D\n"
     ]
    },
    {
     "ename": "KeyboardInterrupt",
     "evalue": "",
     "output_type": "error",
     "traceback": [
      "\u001b[0;31m---------------------------------------------------------------------------\u001b[0m",
      "\u001b[0;31mKeyboardInterrupt\u001b[0m                         Traceback (most recent call last)",
      "Cell \u001b[0;32mIn[2], line 77\u001b[0m\n\u001b[1;32m     75\u001b[0m \u001b[38;5;28;01mfor\u001b[39;00m name, mdl \u001b[38;5;129;01min\u001b[39;00m models\u001b[38;5;241m.\u001b[39mitems():\n\u001b[1;32m     76\u001b[0m     \u001b[38;5;28mprint\u001b[39m(\u001b[38;5;124mf\u001b[39m\u001b[38;5;124m\"\u001b[39m\u001b[38;5;124mTraining \u001b[39m\u001b[38;5;132;01m{\u001b[39;00mname\u001b[38;5;132;01m:\u001b[39;00m\u001b[38;5;124m5s\u001b[39m\u001b[38;5;132;01m}\u001b[39;00m\u001b[38;5;124m\"\u001b[39m)\n\u001b[0;32m---> 77\u001b[0m     h \u001b[38;5;241m=\u001b[39m \u001b[43mmdl\u001b[49m\u001b[38;5;241;43m.\u001b[39;49m\u001b[43mfit\u001b[49m\u001b[43m(\u001b[49m\u001b[43mX_tr\u001b[49m\u001b[43m,\u001b[49m\n\u001b[1;32m     78\u001b[0m \u001b[43m                \u001b[49m\u001b[43my_tr_vec\u001b[49m\u001b[43m \u001b[49m\u001b[38;5;28;43;01mif\u001b[39;49;00m\u001b[43m \u001b[49m\u001b[43mname\u001b[49m\u001b[38;5;241;43m!=\u001b[39;49m\u001b[38;5;124;43m\"\u001b[39;49m\u001b[38;5;124;43mRNN\u001b[39;49m\u001b[38;5;124;43m\"\u001b[39;49m\u001b[43m \u001b[49m\u001b[38;5;28;43;01melse\u001b[39;49;00m\u001b[43m \u001b[49m\u001b[43my_tr_vec\u001b[49m\u001b[43m,\u001b[49m\n\u001b[1;32m     79\u001b[0m \u001b[43m                \u001b[49m\u001b[43mvalidation_data\u001b[49m\u001b[38;5;241;43m=\u001b[39;49m\u001b[43m(\u001b[49m\u001b[43mX_val\u001b[49m\u001b[43m,\u001b[49m\u001b[43m \u001b[49m\u001b[43my_val_vec\u001b[49m\u001b[43m)\u001b[49m\u001b[43m,\u001b[49m\n\u001b[1;32m     80\u001b[0m \u001b[43m                \u001b[49m\u001b[43mepochs\u001b[49m\u001b[38;5;241;43m=\u001b[39;49m\u001b[38;5;241;43m40\u001b[39;49m\u001b[43m,\u001b[49m\u001b[43m \u001b[49m\u001b[43mbatch_size\u001b[49m\u001b[38;5;241;43m=\u001b[39;49m\u001b[38;5;241;43m64\u001b[39;49m\u001b[43m,\u001b[49m\u001b[43m \u001b[49m\u001b[43mverbose\u001b[49m\u001b[38;5;241;43m=\u001b[39;49m\u001b[38;5;241;43m0\u001b[39;49m\u001b[43m)\u001b[49m\n\u001b[1;32m     81\u001b[0m     hists[name] \u001b[38;5;241m=\u001b[39m h\u001b[38;5;241m.\u001b[39mhistory[\u001b[38;5;124m\"\u001b[39m\u001b[38;5;124mval_loss\u001b[39m\u001b[38;5;124m\"\u001b[39m]\n\u001b[1;32m     82\u001b[0m     \u001b[38;5;28mprint\u001b[39m(\u001b[38;5;124mf\u001b[39m\u001b[38;5;124m\"\u001b[39m\u001b[38;5;124m   final val MSE: \u001b[39m\u001b[38;5;132;01m{\u001b[39;00mh\u001b[38;5;241m.\u001b[39mhistory[\u001b[38;5;124m'\u001b[39m\u001b[38;5;124mval_loss\u001b[39m\u001b[38;5;124m'\u001b[39m][\u001b[38;5;241m-\u001b[39m\u001b[38;5;241m1\u001b[39m]\u001b[38;5;132;01m:\u001b[39;00m\u001b[38;5;124m.4f\u001b[39m\u001b[38;5;132;01m}\u001b[39;00m\u001b[38;5;124m\"\u001b[39m)\n",
      "File \u001b[0;32m/Library/Frameworks/Python.framework/Versions/3.12/lib/python3.12/site-packages/keras/src/utils/traceback_utils.py:117\u001b[0m, in \u001b[0;36mfilter_traceback.<locals>.error_handler\u001b[0;34m(*args, **kwargs)\u001b[0m\n\u001b[1;32m    115\u001b[0m filtered_tb \u001b[38;5;241m=\u001b[39m \u001b[38;5;28;01mNone\u001b[39;00m\n\u001b[1;32m    116\u001b[0m \u001b[38;5;28;01mtry\u001b[39;00m:\n\u001b[0;32m--> 117\u001b[0m     \u001b[38;5;28;01mreturn\u001b[39;00m \u001b[43mfn\u001b[49m\u001b[43m(\u001b[49m\u001b[38;5;241;43m*\u001b[39;49m\u001b[43margs\u001b[49m\u001b[43m,\u001b[49m\u001b[43m \u001b[49m\u001b[38;5;241;43m*\u001b[39;49m\u001b[38;5;241;43m*\u001b[39;49m\u001b[43mkwargs\u001b[49m\u001b[43m)\u001b[49m\n\u001b[1;32m    118\u001b[0m \u001b[38;5;28;01mexcept\u001b[39;00m \u001b[38;5;167;01mException\u001b[39;00m \u001b[38;5;28;01mas\u001b[39;00m e:\n\u001b[1;32m    119\u001b[0m     filtered_tb \u001b[38;5;241m=\u001b[39m _process_traceback_frames(e\u001b[38;5;241m.\u001b[39m__traceback__)\n",
      "File \u001b[0;32m/Library/Frameworks/Python.framework/Versions/3.12/lib/python3.12/site-packages/keras/src/backend/tensorflow/trainer.py:371\u001b[0m, in \u001b[0;36mTensorFlowTrainer.fit\u001b[0;34m(self, x, y, batch_size, epochs, verbose, callbacks, validation_split, validation_data, shuffle, class_weight, sample_weight, initial_epoch, steps_per_epoch, validation_steps, validation_batch_size, validation_freq)\u001b[0m\n\u001b[1;32m    369\u001b[0m \u001b[38;5;28;01mfor\u001b[39;00m step, iterator \u001b[38;5;129;01min\u001b[39;00m epoch_iterator:\n\u001b[1;32m    370\u001b[0m     callbacks\u001b[38;5;241m.\u001b[39mon_train_batch_begin(step)\n\u001b[0;32m--> 371\u001b[0m     logs \u001b[38;5;241m=\u001b[39m \u001b[38;5;28;43mself\u001b[39;49m\u001b[38;5;241;43m.\u001b[39;49m\u001b[43mtrain_function\u001b[49m\u001b[43m(\u001b[49m\u001b[43miterator\u001b[49m\u001b[43m)\u001b[49m\n\u001b[1;32m    372\u001b[0m     callbacks\u001b[38;5;241m.\u001b[39mon_train_batch_end(step, logs)\n\u001b[1;32m    373\u001b[0m     \u001b[38;5;28;01mif\u001b[39;00m \u001b[38;5;28mself\u001b[39m\u001b[38;5;241m.\u001b[39mstop_training:\n",
      "File \u001b[0;32m/Library/Frameworks/Python.framework/Versions/3.12/lib/python3.12/site-packages/keras/src/backend/tensorflow/trainer.py:220\u001b[0m, in \u001b[0;36mTensorFlowTrainer._make_function.<locals>.function\u001b[0;34m(iterator)\u001b[0m\n\u001b[1;32m    216\u001b[0m \u001b[38;5;28;01mif\u001b[39;00m \u001b[38;5;28misinstance\u001b[39m(\n\u001b[1;32m    217\u001b[0m     iterator, (tf\u001b[38;5;241m.\u001b[39mdata\u001b[38;5;241m.\u001b[39mIterator, tf\u001b[38;5;241m.\u001b[39mdistribute\u001b[38;5;241m.\u001b[39mDistributedIterator)\n\u001b[1;32m    218\u001b[0m ):\n\u001b[1;32m    219\u001b[0m     opt_outputs \u001b[38;5;241m=\u001b[39m multi_step_on_iterator(iterator)\n\u001b[0;32m--> 220\u001b[0m     \u001b[38;5;28;01mif\u001b[39;00m \u001b[38;5;129;01mnot\u001b[39;00m opt_outputs\u001b[38;5;241m.\u001b[39mhas_value():\n\u001b[1;32m    221\u001b[0m         \u001b[38;5;28;01mraise\u001b[39;00m \u001b[38;5;167;01mStopIteration\u001b[39;00m\n\u001b[1;32m    222\u001b[0m     \u001b[38;5;28;01mreturn\u001b[39;00m opt_outputs\u001b[38;5;241m.\u001b[39mget_value()\n",
      "File \u001b[0;32m/Library/Frameworks/Python.framework/Versions/3.12/lib/python3.12/site-packages/tensorflow/python/framework/ops.py:321\u001b[0m, in \u001b[0;36m_EagerTensorBase.__bool__\u001b[0;34m(self)\u001b[0m\n\u001b[1;32m    320\u001b[0m \u001b[38;5;28;01mdef\u001b[39;00m \u001b[38;5;21m__bool__\u001b[39m(\u001b[38;5;28mself\u001b[39m) \u001b[38;5;241m-\u001b[39m\u001b[38;5;241m>\u001b[39m \u001b[38;5;28mbool\u001b[39m:\n\u001b[0;32m--> 321\u001b[0m   \u001b[38;5;28;01mreturn\u001b[39;00m \u001b[38;5;28mbool\u001b[39m(\u001b[38;5;28;43mself\u001b[39;49m\u001b[38;5;241;43m.\u001b[39;49m\u001b[43m_numpy\u001b[49m\u001b[43m(\u001b[49m\u001b[43m)\u001b[49m)\n",
      "File \u001b[0;32m/Library/Frameworks/Python.framework/Versions/3.12/lib/python3.12/site-packages/tensorflow/python/framework/ops.py:381\u001b[0m, in \u001b[0;36m_EagerTensorBase._numpy\u001b[0;34m(self)\u001b[0m\n\u001b[1;32m    379\u001b[0m \u001b[38;5;28;01mdef\u001b[39;00m \u001b[38;5;21m_numpy\u001b[39m(\u001b[38;5;28mself\u001b[39m) \u001b[38;5;241m-\u001b[39m\u001b[38;5;241m>\u001b[39m npt\u001b[38;5;241m.\u001b[39mArrayLike:\n\u001b[1;32m    380\u001b[0m   \u001b[38;5;28;01mtry\u001b[39;00m:\n\u001b[0;32m--> 381\u001b[0m     \u001b[38;5;28;01mreturn\u001b[39;00m \u001b[38;5;28;43mself\u001b[39;49m\u001b[38;5;241;43m.\u001b[39;49m\u001b[43m_numpy_internal\u001b[49m\u001b[43m(\u001b[49m\u001b[43m)\u001b[49m\n\u001b[1;32m    382\u001b[0m   \u001b[38;5;28;01mexcept\u001b[39;00m core\u001b[38;5;241m.\u001b[39m_NotOkStatusException \u001b[38;5;28;01mas\u001b[39;00m e:  \u001b[38;5;66;03m# pylint: disable=protected-access\u001b[39;00m\n\u001b[1;32m    383\u001b[0m     \u001b[38;5;28;01mraise\u001b[39;00m core\u001b[38;5;241m.\u001b[39m_status_to_exception(e) \u001b[38;5;28;01mfrom\u001b[39;00m \u001b[38;5;28;01mNone\u001b[39;00m\n",
      "\u001b[0;31mKeyboardInterrupt\u001b[0m: "
     ]
    }
   ],
   "source": [
    "# ==========================================================\n",
    "# 0. Imports and seeds\n",
    "# ==========================================================\n",
    "import numpy as np\n",
    "import tensorflow as tf\n",
    "import matplotlib.pyplot as plt\n",
    "\n",
    "tf.random.set_seed(1); np.random.seed(1)\n",
    "\n",
    "# ==========================================================\n",
    "# 1. Synthetic data: sine wave that changes frequency every 400 steps\n",
    "#    + a little noise\n",
    "# ==========================================================\n",
    "SEQ_LEN       = 50\n",
    "PRED_HORIZON  = 50      \n",
    "N_STEPS       = 4_000\n",
    "\n",
    "def regime_wave(n, switch_every=400, noise=0.05):\n",
    "    f1, f2 = 0.20, 0.05\n",
    "    wave   = [np.sin((f1 if (i//switch_every)%2==0 else f2) * i) for i in range(n)]\n",
    "    return np.array(wave) + noise*np.random.randn(n)\n",
    "\n",
    "series = regime_wave(N_STEPS)\n",
    "\n",
    "def make_windows(data, win, horiz):\n",
    "    X, y = [], []\n",
    "    for start in range(len(data) - win - horiz):\n",
    "        X.append(data[start:start+win])\n",
    "        y.append(data[start+win:start+win+horiz])\n",
    "    return np.array(X)[..., None], np.array(y)[..., None]\n",
    "\n",
    "X, y = make_windows(series, SEQ_LEN, PRED_HORIZON)   # (3900, 50, 1)  (3900, 50, 1)\n",
    "\n",
    "cut            = 2800                                # first 2800 windows for training\n",
    "X_tr, y_tr     = X[:cut], y[:cut]\n",
    "X_val, y_val   = X[cut:], y[cut:]\n",
    "y_tr_vec       = y_tr.squeeze(-1)                    # Dense/Conv need (batch, 50)\n",
    "y_val_vec      = y_val.squeeze(-1)\n",
    "\n",
    "# ==========================================================\n",
    "# 2. Three architectures: Dense, Conv1D, SimpleRNN\n",
    "# ==========================================================\n",
    "def dense_model():\n",
    "    m = tf.keras.Sequential([\n",
    "        tf.keras.layers.Flatten(input_shape=(SEQ_LEN,1)),\n",
    "        tf.keras.layers.Dense(64, activation=\"relu\"),\n",
    "        tf.keras.layers.Dense(PRED_HORIZON)\n",
    "    ])\n",
    "    m.compile(\"adam\", \"mse\")\n",
    "    return m\n",
    "\n",
    "def conv_model():\n",
    "    m = tf.keras.Sequential([\n",
    "        tf.keras.layers.Conv1D(64, 5, activation=\"relu\", input_shape=(SEQ_LEN,1)),\n",
    "        tf.keras.layers.Flatten(),\n",
    "        tf.keras.layers.Dense(PRED_HORIZON)\n",
    "    ])\n",
    "    m.compile(\"adam\", \"mse\")\n",
    "    return m\n",
    "\n",
    "def rnn_model():\n",
    "    m = tf.keras.Sequential([\n",
    "        tf.keras.layers.SimpleRNN(64, input_shape=(SEQ_LEN,1)),\n",
    "        tf.keras.layers.Dense(PRED_HORIZON)\n",
    "    ])\n",
    "    m.compile(\"adam\", \"mse\")\n",
    "    return m\n",
    "\n",
    "models = dict(Dense=dense_model(), Conv1D=conv_model(), RNN=rnn_model())\n",
    "hists  = {}\n",
    "\n",
    "# ==========================================================\n",
    "# 3. Train all three\n",
    "# ==========================================================\n",
    "for name, mdl in models.items():\n",
    "    print(f\"Training {name:5s}\")\n",
    "    h = mdl.fit(X_tr,\n",
    "                y_tr_vec if name!=\"RNN\" else y_tr_vec,\n",
    "                validation_data=(X_val, y_val_vec),\n",
    "                epochs=40, batch_size=64, verbose=0)\n",
    "    hists[name] = h.history[\"val_loss\"]\n",
    "    print(f\"   final val MSE: {h.history['val_loss'][-1]:.4f}\")\n",
    "\n",
    "# ==========================================================\n",
    "# 4. Plot validation loss (log scale)\n",
    "# ==========================================================\n",
    "plt.figure(figsize=(6,4))\n",
    "for name, losses in hists.items():\n",
    "    plt.plot(losses, label=name)\n",
    "plt.yscale(\"log\")\n",
    "plt.xlabel(\"epoch\")\n",
    "plt.ylabel(\"val MSE (log)\")\n",
    "plt.title(\"SimpleRNN  outperforms Dense & Conv1D\")\n",
    "plt.legend()\n",
    "plt.show()\n"
   ]
  },
  {
   "cell_type": "code",
   "execution_count": 104,
   "id": "7c521b56",
   "metadata": {},
   "outputs": [
    {
     "data": {
      "image/png": "[encoded data removed]",
      "text/plain": [
       "<Figure size 800x300 with 1 Axes>"
      ]
     },
     "metadata": {},
     "output_type": "display_data"
    }
   ],
   "source": [
    "# ==========================================================\n",
    "# 6. Visualise one forecast window\n",
    "# ==========================================================\n",
    "def forecast_trace(model, X_one, y_true, label, color):\n",
    "    past  = X_one.squeeze()                 # 50‑step context\n",
    "    truth = y_true.squeeze()                # 50‑step ground truth\n",
    "    pred  = model.predict(X_one[None, ...], verbose=0).squeeze()\n",
    "\n",
    "    t_past = np.arange(len(past))\n",
    "    t_fut  = np.arange(len(past), len(past)+len(truth))\n",
    "\n",
    "    plt.plot(t_past, past, color=\"black\")\n",
    "    plt.plot(t_fut, truth, marker=\"o\", color=\"green\",\n",
    "             label=\"ground truth\" if label==\"Dense\" else None)\n",
    "    plt.plot(t_fut, pred,  marker=\"x\", color=color, label=label)\n",
    "\n",
    "# Pick any validation example\n",
    "idx = 100\n",
    "plt.figure(figsize=(8,3))\n",
    "forecast_trace(models[\"Dense\"],  X_val[idx], y_val[idx], \"Dense\",  \"red\")\n",
    "forecast_trace(models[\"Conv1D\"], X_val[idx], y_val[idx], \"Conv1D\", \"orange\")\n",
    "forecast_trace(models[\"RNN\"],    X_val[idx], y_val[idx], \"RNN\",    \"blue\")\n",
    "plt.title(\"Next-50-step forecast on validation window\")\n",
    "plt.legend()\n",
    "sns.despine()\n",
    "plt.show()\n"
   ]
  },
  {
   "cell_type": "markdown",
   "id": "8356f584",
   "metadata": {},
   "source": [
    "## Example - Sentiment Analysis of Movie Reviews"
   ]
  },
  {
   "cell_type": "code",
   "execution_count": 100,
   "id": "e942cc59",
   "metadata": {},
   "outputs": [
    {
     "name": "stdout",
     "output_type": "stream",
     "text": [
      "Epoch 1/2\n",
      "313/313 [==============================] - 9s 29ms/step - loss: 0.6079 - accuracy: 0.6524 - val_loss: 0.4933 - val_accuracy: 0.7858\n",
      "Epoch 2/2\n",
      "313/313 [==============================] - 9s 29ms/step - loss: 0.3689 - accuracy: 0.8389 - val_loss: 0.4857 - val_accuracy: 0.7608\n",
      "Test accuracy: 0.764680027961731\n"
     ]
    }
   ],
   "source": [
    "import tensorflow as tf\n",
    "from tensorflow import keras\n",
    "from tensorflow.keras import layers\n",
    "\n",
    "# ---------------- data ----------------\n",
    "vocab_size = 10_000\n",
    "maxlen     = 200        # trim / pad reviews to 200 tokens\n",
    "\n",
    "(x_train, y_train), (x_test, y_test) = keras.datasets.imdb.load_data(num_words=vocab_size)\n",
    "x_train = keras.preprocessing.sequence.pad_sequences(x_train, maxlen=maxlen, padding=\"post\")\n",
    "x_test  = keras.preprocessing.sequence.pad_sequences(x_test,  maxlen=maxlen, padding=\"post\")\n",
    "\n",
    "# ---------------- model ----------------\n",
    "embed_dim    = 64\n",
    "hidden_units = 32\n",
    "\n",
    "model = keras.Sequential([\n",
    "    layers.Embedding(vocab_size, embed_dim, mask_zero=True),  # word → vector\n",
    "    layers.SimpleRNN(hidden_units),                           # processes the sequence\n",
    "    layers.Dense(1, activation=\"sigmoid\")                     # one sentiment score\n",
    "])\n",
    "\n",
    "model.compile(optimizer=\"adam\",\n",
    "              loss=\"binary_crossentropy\",\n",
    "              metrics=[\"accuracy\"])\n",
    "\n",
    "model.fit(x_train, y_train,\n",
    "          epochs=2,\n",
    "          batch_size=64,\n",
    "          validation_split=0.2)\n",
    "\n",
    "print(\"Test accuracy:\", model.evaluate(x_test, y_test, verbose=0)[1])\n"
   ]
  },
  {
   "cell_type": "code",
   "execution_count": null,
   "id": "606124e5",
   "metadata": {},
   "outputs": [
    {
     "name": "stdout",
     "output_type": "stream",
     "text": [
      "Epoch 1/20\n",
      "157/157 - 384s - loss: 0.7047 - accuracy: 0.4970 - val_loss: 0.7075 - val_accuracy: 0.4944 - 384s/epoch - 2s/step\n",
      "Epoch 2/20\n"
     ]
    }
   ],
   "source": [
    "units = 64                          # 4 × 64 = 256 bias values\n",
    "gate_bias = np.concatenate([\n",
    "    np.full(units,  2.0),           # input‑gate bias  (open)\n",
    "    np.full(units,  1.0),           # forget‑gate bias (keep)\n",
    "    np.zeros(units),                # cell candidate   (neutral)\n",
    "    np.full(units,  2.0)            # output‑gate bias (open)  ← NEW\n",
    "]).astype(\"float32\")\n",
    "\n",
    "good_lstm = Sequential([\n",
    "    layers.Embedding(2, 4),\n",
    "    layers.LSTM(\n",
    "        units,\n",
    "        unit_forget_bias=False,                 # we initialise all 4 gates ourselves\n",
    "        bias_initializer=keras.initializers.Constant(gate_bias)\n",
    "    ),\n",
    "    layers.Dense(1, activation=\"sigmoid\")\n",
    "])\n",
    "good_lstm.compile(\n",
    "    tf.keras.optimizers.legacy.RMSprop(3e-3, clipnorm=1.0),\n",
    "    losses.BinaryCrossentropy(),\n",
    "    [\"accuracy\"],\n",
    ")\n",
    "good_lstm.fit(\n",
    "    x_tr, y_tr,\n",
    "    batch_size=256,\n",
    "    epochs=20,\n",
    "    validation_split=0.2,\n",
    "    verbose=2\n",
    ")\n",
    "print(\"LSTM test acc:\", good_lstm.evaluate(x_te, y_te, verbose=0)[1])\n"
   ]
  },
  {
   "cell_type": "code",
   "execution_count": null,
   "id": "abc50eb9",
   "metadata": {},
   "outputs": [],
   "source": [
    "print(\"  LSTM:\", good_lstm.evaluate(x_te, y_te, verbose=0)[1])\n"
   ]
  }
 ],
 "metadata": {
  "kernelspec": {
   "display_name": "Python 3",
   "language": "python",
   "name": "python3"
  },
  "language_info": {
   "codemirror_mode": {
    "name": "ipython",
    "version": 3
   },
   "file_extension": ".py",
   "mimetype": "text/x-python",
   "name": "python",
   "nbconvert_exporter": "python",
   "pygments_lexer": "ipython3",
   "version": "3.12.7"
  }
 },
 "nbformat": 4,
 "nbformat_minor": 5
}