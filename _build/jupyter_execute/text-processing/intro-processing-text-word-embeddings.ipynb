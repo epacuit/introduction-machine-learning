{
 "cells": [
  {
   "cell_type": "markdown",
   "id": "8ab08999",
   "metadata": {},
   "source": [
    "(predefined-word-embeddings)=\n",
    "# Encoding Text - Using Predefined Word Embeddings"
   ]
  },
  {
   "cell_type": "markdown",
   "id": "4ed1b96c",
   "metadata": {},
   "source": [
    "## Download Word Embeddings\n"
   ]
  },
  {
   "cell_type": "code",
   "execution_count": 1,
   "id": "6980c537",
   "metadata": {},
   "outputs": [],
   "source": [
    "#!curl -L -o glove.6B.zip https://nlp.stanford.edu/data/glove.6B.zip \n",
    "#!unzip -q glove.6B.zip"
   ]
  },
  {
   "cell_type": "code",
   "execution_count": 2,
   "id": "61058f7a",
   "metadata": {},
   "outputs": [
    {
     "ename": "FileNotFoundError",
     "evalue": "[Errno 2] No such file or directory: 'glove.6B.100d.txt'",
     "output_type": "error",
     "traceback": [
      "\u001b[0;31m---------------------------------------------------------------------------\u001b[0m",
      "\u001b[0;31mFileNotFoundError\u001b[0m                         Traceback (most recent call last)",
      "Cell \u001b[0;32mIn[2], line 7\u001b[0m\n\u001b[1;32m      3\u001b[0m path_to_glove_file \u001b[38;5;241m=\u001b[39m \u001b[38;5;124m\"\u001b[39m\u001b[38;5;124mglove.6B.100d.txt\u001b[39m\u001b[38;5;124m\"\u001b[39m\n\u001b[1;32m      5\u001b[0m embeddings_index \u001b[38;5;241m=\u001b[39m {} \n\u001b[0;32m----> 7\u001b[0m \u001b[38;5;28;01mwith\u001b[39;00m \u001b[38;5;28;43mopen\u001b[39;49m\u001b[43m(\u001b[49m\u001b[43mpath_to_glove_file\u001b[49m\u001b[43m)\u001b[49m \u001b[38;5;28;01mas\u001b[39;00m f:\n\u001b[1;32m      8\u001b[0m     \u001b[38;5;28;01mfor\u001b[39;00m line \u001b[38;5;129;01min\u001b[39;00m f:\n\u001b[1;32m      9\u001b[0m         word, coefs \u001b[38;5;241m=\u001b[39m line\u001b[38;5;241m.\u001b[39msplit(maxsplit\u001b[38;5;241m=\u001b[39m\u001b[38;5;241m1\u001b[39m)\n",
      "File \u001b[0;32m~/Library/Python/3.12/lib/python/site-packages/IPython/core/interactiveshell.py:324\u001b[0m, in \u001b[0;36m_modified_open\u001b[0;34m(file, *args, **kwargs)\u001b[0m\n\u001b[1;32m    317\u001b[0m \u001b[38;5;28;01mif\u001b[39;00m file \u001b[38;5;129;01min\u001b[39;00m {\u001b[38;5;241m0\u001b[39m, \u001b[38;5;241m1\u001b[39m, \u001b[38;5;241m2\u001b[39m}:\n\u001b[1;32m    318\u001b[0m     \u001b[38;5;28;01mraise\u001b[39;00m \u001b[38;5;167;01mValueError\u001b[39;00m(\n\u001b[1;32m    319\u001b[0m         \u001b[38;5;124mf\u001b[39m\u001b[38;5;124m\"\u001b[39m\u001b[38;5;124mIPython won\u001b[39m\u001b[38;5;124m'\u001b[39m\u001b[38;5;124mt let you open fd=\u001b[39m\u001b[38;5;132;01m{\u001b[39;00mfile\u001b[38;5;132;01m}\u001b[39;00m\u001b[38;5;124m by default \u001b[39m\u001b[38;5;124m\"\u001b[39m\n\u001b[1;32m    320\u001b[0m         \u001b[38;5;124m\"\u001b[39m\u001b[38;5;124mas it is likely to crash IPython. If you know what you are doing, \u001b[39m\u001b[38;5;124m\"\u001b[39m\n\u001b[1;32m    321\u001b[0m         \u001b[38;5;124m\"\u001b[39m\u001b[38;5;124myou can use builtins\u001b[39m\u001b[38;5;124m'\u001b[39m\u001b[38;5;124m open.\u001b[39m\u001b[38;5;124m\"\u001b[39m\n\u001b[1;32m    322\u001b[0m     )\n\u001b[0;32m--> 324\u001b[0m \u001b[38;5;28;01mreturn\u001b[39;00m \u001b[43mio_open\u001b[49m\u001b[43m(\u001b[49m\u001b[43mfile\u001b[49m\u001b[43m,\u001b[49m\u001b[43m \u001b[49m\u001b[38;5;241;43m*\u001b[39;49m\u001b[43margs\u001b[49m\u001b[43m,\u001b[49m\u001b[43m \u001b[49m\u001b[38;5;241;43m*\u001b[39;49m\u001b[38;5;241;43m*\u001b[39;49m\u001b[43mkwargs\u001b[49m\u001b[43m)\u001b[49m\n",
      "\u001b[0;31mFileNotFoundError\u001b[0m: [Errno 2] No such file or directory: 'glove.6B.100d.txt'"
     ]
    }
   ],
   "source": [
    "import numpy as np \n",
    "\n",
    "path_to_glove_file = \"glove.6B.100d.txt\"\n",
    "\n",
    "embeddings_index = {} \n",
    "\n",
    "with open(path_to_glove_file) as f:\n",
    "    for line in f:\n",
    "        word, coefs = line.split(maxsplit=1)\n",
    "        coefs = np.fromstring(coefs, \"f\", sep=\" \")\n",
    "        embeddings_index[word] = coefs\n",
    "\n",
    "print(f\"Found {len(embeddings_index)} word vectors.\")"
   ]
  },
  {
   "cell_type": "code",
   "execution_count": 21,
   "id": "10936a57",
   "metadata": {},
   "outputs": [
    {
     "name": "stdout",
     "output_type": "stream",
     "text": [
      "Found 22500 files belonging to 2 classes.\n",
      "Found 2500 files belonging to 2 classes.\n",
      "Found 25000 files belonging to 2 classes.\n",
      "Top 10 tokens: ['', '[UNK]', 'the', 'a', 'and', 'of', 'to', 'is', 'in', 'it']\n"
     ]
    }
   ],
   "source": [
    "from tensorflow.keras import layers\n",
    "from tensorflow import keras\n",
    "\n",
    "batch_size  = 32\n",
    "max_length  = 600\n",
    "max_tokens  = 20_000\n",
    "\n",
    "text_vectorization = layers.TextVectorization(\n",
    "    max_tokens=max_tokens,\n",
    "    output_mode=\"int\",\n",
    "    output_sequence_length=max_length,\n",
    ")\n",
    "\n",
    "# ------------------------------------------------------------\n",
    "# 1 ▶ read the raw text datasets (labelled)\n",
    "# ------------------------------------------------------------\n",
    "train_ds = keras.utils.text_dataset_from_directory(\n",
    "    \"aclImdb/train\", batch_size=batch_size\n",
    ")\n",
    "val_ds   = keras.utils.text_dataset_from_directory(\n",
    "    \"aclImdb/val\",   batch_size=batch_size\n",
    ")\n",
    "test_ds  = keras.utils.text_dataset_from_directory(\n",
    "    \"aclImdb/test\",  batch_size=batch_size\n",
    ")\n",
    "\n",
    "# ------------------------------------------------------------\n",
    "# 2 ▶ ADAPT the vectoriser on *text only* (no labels)\n",
    "# ------------------------------------------------------------\n",
    "text_only_ds = train_ds.map(lambda x, y: x)   # strip labels\n",
    "text_vectorization.adapt(text_only_ds)        # builds the vocabulary\n",
    "\n",
    "# optional: inspect\n",
    "vocabulary = text_vectorization.get_vocabulary()\n",
    "print(\"Top 10 tokens:\", vocabulary[:10])\n",
    "\n",
    "# ------------------------------------------------------------\n",
    "# 3 ▶ map datasets to integer sequences\n",
    "# ------------------------------------------------------------\n",
    "int_train_ds = train_ds.map(\n",
    "    lambda x, y: (text_vectorization(x), y),\n",
    "    num_parallel_calls=4\n",
    ")\n",
    "int_val_ds = val_ds.map(\n",
    "    lambda x, y: (text_vectorization(x), y),\n",
    "    num_parallel_calls=4\n",
    ")\n",
    "int_test_ds = test_ds.map(\n",
    "    lambda x, y: (text_vectorization(x), y),\n",
    "    num_parallel_calls=4\n",
    ")\n"
   ]
  },
  {
   "cell_type": "code",
   "execution_count": 22,
   "id": "b6ad79bd",
   "metadata": {},
   "outputs": [],
   "source": [
    "embedding_dim = 100\n",
    "\n",
    "\n",
    "vocabulary = text_vectorization.get_vocabulary() \n",
    "word_index = dict(zip(vocabulary, range(len(vocabulary))))\n",
    "\n",
    "embedding_matrix = np.zeros((max_tokens, embedding_dim)) \n",
    "\n",
    "for word, i in word_index.items():\n",
    "    if i < max_tokens:\n",
    "        embedding_vector = embeddings_index.get(word) \n",
    "        if embedding_vector is not None:\n",
    "            embedding_matrix[i] = embedding_vector"
   ]
  },
  {
   "cell_type": "code",
   "execution_count": 29,
   "id": "a6b50f95",
   "metadata": {},
   "outputs": [
    {
     "name": "stdout",
     "output_type": "stream",
     "text": [
      "Model: \"model_3\"\n",
      "_________________________________________________________________\n",
      " Layer (type)                Output Shape              Param #   \n",
      "=================================================================\n",
      " input_5 (InputLayer)        [(None, None)]            0         \n",
      "                                                                 \n",
      " embedding_1 (Embedding)     (None, None, 100)         2000000   \n",
      "                                                                 \n",
      " bidirectional_4 (Bidirecti  (None, 64)                34048     \n",
      " onal)                                                           \n",
      "                                                                 \n",
      " dropout_4 (Dropout)         (None, 64)                0         \n",
      "                                                                 \n",
      " dense_4 (Dense)             (None, 1)                 65        \n",
      "                                                                 \n",
      "=================================================================\n",
      "Total params: 2034113 (7.76 MB)\n",
      "Trainable params: 34113 (133.25 KB)\n",
      "Non-trainable params: 2000000 (7.63 MB)\n",
      "_________________________________________________________________\n",
      "Epoch 1/10\n",
      "704/704 [==============================] - 87s 120ms/step - loss: 0.5733 - accuracy: 0.6987 - val_loss: 0.9806 - val_accuracy: 0.4596\n",
      "Epoch 2/10\n",
      "704/704 [==============================] - 80s 114ms/step - loss: 0.4490 - accuracy: 0.7931 - val_loss: 0.5843 - val_accuracy: 0.7004\n",
      "Epoch 3/10\n",
      "704/704 [==============================] - 73s 104ms/step - loss: 0.3947 - accuracy: 0.8269 - val_loss: 0.6973 - val_accuracy: 0.6260\n",
      "Epoch 4/10\n",
      "704/704 [==============================] - 82s 117ms/step - loss: 0.3658 - accuracy: 0.8416 - val_loss: 0.0864 - val_accuracy: 0.9760\n",
      "Epoch 5/10\n",
      "704/704 [==============================] - 74s 106ms/step - loss: 0.3430 - accuracy: 0.8524 - val_loss: 0.3594 - val_accuracy: 0.8452\n",
      "Epoch 6/10\n",
      "704/704 [==============================] - 74s 105ms/step - loss: 0.3216 - accuracy: 0.8607 - val_loss: 0.2895 - val_accuracy: 0.8860\n",
      "Epoch 7/10\n",
      "704/704 [==============================] - 74s 106ms/step - loss: 0.3050 - accuracy: 0.8723 - val_loss: 0.3155 - val_accuracy: 0.8688\n",
      "Epoch 8/10\n",
      "704/704 [==============================] - 73s 104ms/step - loss: 0.2896 - accuracy: 0.8815 - val_loss: 0.2923 - val_accuracy: 0.8812\n",
      "Epoch 9/10\n",
      "704/704 [==============================] - 77s 110ms/step - loss: 0.2721 - accuracy: 0.8875 - val_loss: 0.3105 - val_accuracy: 0.8708\n",
      "Epoch 10/10\n",
      "704/704 [==============================] - 79s 112ms/step - loss: 0.2634 - accuracy: 0.8935 - val_loss: 0.7338 - val_accuracy: 0.6680\n",
      "Test acc: 0.754\n"
     ]
    }
   ],
   "source": [
    "import tensorflow as tf \n",
    "\n",
    "embedding_layer = layers.Embedding(\n",
    "    max_tokens, \n",
    "    embedding_dim, \n",
    "    embeddings_initializer=keras.initializers.Constant(embedding_matrix),\n",
    "    trainable=False, \n",
    "    mask_zero=True)\n",
    "\n",
    "# ----- model definition -------------------------------------------------\n",
    "inputs   = keras.Input(shape=(None,), dtype=\"int64\")\n",
    "embedded = embedding_layer(inputs)                   # your pre‑built Glove Embedding layer\n",
    "x        = layers.Bidirectional(layers.LSTM(32))(embedded)\n",
    "x        = layers.Dropout(0.5)(x)\n",
    "outputs  = layers.Dense(1, activation=\"sigmoid\")(x)\n",
    "\n",
    "model = keras.Model(inputs, outputs)\n",
    "model.compile(optimizer=\"rmsprop\",\n",
    "              loss=\"binary_crossentropy\",\n",
    "              metrics=[\"accuracy\"])\n",
    "model.summary()\n",
    "\n",
    "# ----- weights‑only checkpoint (no .keras format) -----------------------\n",
    "checkpoint = keras.callbacks.ModelCheckpoint(\n",
    "    \"glove_seq_best.weights.h5\",   # any filename ending in .h5 is fine\n",
    "    monitor=\"val_accuracy\",        # save the epoch with highest val‑acc\n",
    "    save_best_only=True,\n",
    "    save_weights_only=True         # ← avoids the native .keras saver bug\n",
    ")\n",
    "\n",
    "# ----- training ---------------------------------------------------------\n",
    "model.fit(int_train_ds,\n",
    "          validation_data=int_val_ds,\n",
    "          epochs=10,\n",
    "          callbacks=[checkpoint])\n",
    "\n",
    "# ----- reload & evaluate ------------------------------------------------\n",
    "model.load_weights(\"glove_seq_best.weights.h5\")      # weights‑only file\n",
    "test_acc = model.evaluate(int_test_ds, verbose=0)[1]\n",
    "print(f\"Test acc: {test_acc:.3f}\")\n"
   ]
  },
  {
   "cell_type": "code",
   "execution_count": null,
   "id": "dbbd0bb1",
   "metadata": {},
   "outputs": [],
   "source": []
  }
 ],
 "metadata": {
  "kernelspec": {
   "display_name": "Python 3",
   "language": "python",
   "name": "python3"
  },
  "language_info": {
   "codemirror_mode": {
    "name": "ipython",
    "version": 3
   },
   "file_extension": ".py",
   "mimetype": "text/x-python",
   "name": "python",
   "nbconvert_exporter": "python",
   "pygments_lexer": "ipython3",
   "version": "3.12.7"
  }
 },
 "nbformat": 4,
 "nbformat_minor": 5
}