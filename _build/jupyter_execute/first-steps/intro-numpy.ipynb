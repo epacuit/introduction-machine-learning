{
 "cells": [
  {
   "cell_type": "markdown",
   "metadata": {},
   "source": [
    "<a target=\"_blank\" rel=\"noopener noreferrer\" href=\"https://colab.research.google.com/github/epacuit/introduction-machine-learning/blob/main/first-steps/intro-numpy.ipynb\">![Open In Colab](https://colab.research.google.com/assets/colab-badge.svg)</a>\n",
    "\n",
    "(numpy)=\n",
    "# A Brief Introduction to Numpy"
   ]
  },
  {
   "cell_type": "markdown",
   "metadata": {},
   "source": [
    "Numpy is a Python library that provides support for large, multi-dimensional arrays and matrices, along with a collection of mathematical functions to operate on these arrays. It is the fundamental package for scientific computing with Python.\n",
    "\n",
    "In this notebook, we will cover the following topics:\n",
    "- Creating Numpy arrays\n",
    "- Basic operations on Numpy arrays\n",
    "- Indexing and slicing\n",
    "- Reshaping and resizing\n",
    "- Stacking and splitting\n",
    "- Broadcasting\n"
   ]
  },
  {
   "cell_type": "code",
   "execution_count": 1,
   "metadata": {},
   "outputs": [],
   "source": [
    "import numpy as np"
   ]
  },
  {
   "cell_type": "code",
   "execution_count": 2,
   "metadata": {},
   "outputs": [
    {
     "name": "stdout",
     "output_type": "stream",
     "text": [
      "[1. 2. 3. 4. 5.]\n",
      "Number of dimensions:  1\n",
      "The datatype of x is:  float64\n",
      "Shape:  (5,)\n",
      "Size:  5\n"
     ]
    }
   ],
   "source": [
    "x = np.array([1, 2, 3.0, 4, 5]) # 1-dimensional array\n",
    "print(x)\n",
    "print(\"Number of dimensions: \", x.ndim) # the number of dimensions\n",
    "print(\"The datatype of x is: \", x.dtype) # the datatype of the array\n",
    "print(\"Shape: \", x.shape) # the shape of the array: a tuple of the size of each dimension\n",
    "print(\"Size: \", x.size) # the size is the number of elements in the array"
   ]
  },
  {
   "cell_type": "code",
   "execution_count": 3,
   "metadata": {},
   "outputs": [
    {
     "name": "stdout",
     "output_type": "stream",
     "text": [
      "7\n",
      "Number of dimensions:  0\n",
      "Shape:  ()\n",
      "Size:  1\n",
      "The datatype of the array:  int64\n"
     ]
    }
   ],
   "source": [
    "x = np.array(7) # scalar\n",
    "print(x)\n",
    "print(\"Number of dimensions: \", x.ndim) # the number of dimensions\n",
    "print(\"Shape: \", x.shape) # the shape of the array: a tuple of the size of each dimension\n",
    "print(\"Size: \", x.size) # the size is the number of elements in the array\n",
    "print(\"The datatype of the array: \", x.dtype) # the datatype of the array"
   ]
  },
  {
   "cell_type": "code",
   "execution_count": 4,
   "metadata": {},
   "outputs": [
    {
     "name": "stdout",
     "output_type": "stream",
     "text": [
      "[[1 2 3]\n",
      " [4 5 6]\n",
      " [7 8 9]]\n",
      "Number of dimensions:  2\n",
      "Shape:  (3, 3)\n",
      "Size:  9\n",
      "The datatype of the array:  int64\n"
     ]
    }
   ],
   "source": [
    "x = np.array([[1, 2, 3], [4, 5, 6], [7, 8, 9]]) # 2-dimensional array\n",
    "print(x)\n",
    "print(\"Number of dimensions: \", x.ndim) # the number of dimensions\n",
    "print(\"Shape: \", x.shape) # the shape of the array: a tuple of the size of each dimension\n",
    "print(\"Size: \", x.size) # the size is the number of elements in the array\n",
    "print(\"The datatype of the array: \", x.dtype) # the datatype of the array"
   ]
  },
  {
   "cell_type": "code",
   "execution_count": 5,
   "metadata": {},
   "outputs": [
    {
     "name": "stdout",
     "output_type": "stream",
     "text": [
      "[[[1 2]\n",
      "  [3 4]]\n",
      "\n",
      " [[5 6]\n",
      "  [7 8]]]\n",
      "Number of dimensions:  3\n",
      "Shape:  (2, 2, 2)\n",
      "Size:  8\n",
      "The datatype of the array:  int64\n"
     ]
    }
   ],
   "source": [
    "x = np.array([[[1, 2], [3, 4]], [[5, 6], [7, 8]]]) # 3-dimensional array\n",
    "print(x)\n",
    "print(\"Number of dimensions: \", x.ndim) # the number of dimensions\n",
    "print(\"Shape: \", x.shape) # the shape of the array: a tuple of the size of each dimension\n",
    "print(\"Size: \", x.size) # the size is the number of elements in the array\n",
    "print(\"The datatype of the array: \", x.dtype) # the datatype of the array"
   ]
  },
  {
   "cell_type": "markdown",
   "metadata": {},
   "source": [
    "## Creating Numpy arrays"
   ]
  },
  {
   "cell_type": "code",
   "execution_count": 6,
   "metadata": {},
   "outputs": [
    {
     "name": "stdout",
     "output_type": "stream",
     "text": [
      "Array from list:\n",
      " [1 2 3]\n",
      "The datatype of the array:  int64\n",
      "\n",
      "Array of zeros:\n",
      " [[0. 0.]\n",
      " [0. 0.]\n",
      " [0. 0.]]\n",
      "The datatype of the array:  float64\n",
      "\n",
      "Array of ones:\n",
      " [[1. 1.]\n",
      " [1. 1.]\n",
      " [1. 1.]]\n",
      "The datatype of the array:  float64\n",
      "\n",
      "Array filled with 7:\n",
      " [[7 7]\n",
      " [7 7]\n",
      " [7 7]]\n",
      "The datatype of the array:  int64\n",
      "\n",
      "Array with range values:\n",
      " [0 2 4 6 8]\n",
      "The datatype of the array:  int64\n",
      "\n",
      "Array with evenly spaced values:\n",
      " [0.   0.25 0.5  0.75 1.  ]\n",
      "The datatype of the array:  float64\n",
      "\n",
      "Array with random values:\n",
      " [[0.2809684  0.54480739 0.33942588]\n",
      " [0.16529122 0.02735709 0.59110671]\n",
      " [0.54563224 0.21847925 0.36222008]]\n",
      "The datatype of the array:  float64\n"
     ]
    }
   ],
   "source": [
    "# Create an array from a list\n",
    "arr_list = np.array([1, 2, 3])\n",
    "print(\"Array from list:\\n\", arr_list)\n",
    "print(\"The datatype of the array: \", arr_list.dtype) \n",
    "# Create an array of zeros\n",
    "arr_zeros = np.zeros((3, 2))\n",
    "print(\"\\nArray of zeros:\\n\", arr_zeros)\n",
    "print(\"The datatype of the array: \", arr_zeros.dtype) \n",
    "\n",
    "# Create an array of ones\n",
    "arr_ones = np.ones((3, 2))\n",
    "print(\"\\nArray of ones:\\n\", arr_ones)\n",
    "print(\"The datatype of the array: \", arr_ones.dtype)\n",
    "\n",
    "# Create an array filled with a specific value\n",
    "arr_full = np.full((3, 2), 7)\n",
    "print(\"\\nArray filled with 7:\\n\", arr_full)\n",
    "print(\"The datatype of the array: \", arr_full.dtype)\n",
    "\n",
    "# Create an array with a range of values\n",
    "arr_range = np.arange(0, 10, 2)\n",
    "print(\"\\nArray with range values:\\n\", arr_range)\n",
    "print(\"The datatype of the array: \", arr_range.dtype)\n",
    "\n",
    "# Create an array with evenly spaced values\n",
    "arr_linspace = np.linspace(0, 1, 5)\n",
    "print(\"\\nArray with evenly spaced values:\\n\", arr_linspace)\n",
    "print(\"The datatype of the array: \", arr_linspace.dtype)\n",
    "\n",
    "# Create an array with random values\n",
    "arr_random = np.random.rand(3, 3)\n",
    "print(\"\\nArray with random values:\\n\", arr_random)\n",
    "print(\"The datatype of the array: \", arr_random.dtype)"
   ]
  },
  {
   "cell_type": "markdown",
   "metadata": {},
   "source": [
    "## Indexing and slicing"
   ]
  },
  {
   "cell_type": "code",
   "execution_count": 7,
   "metadata": {},
   "outputs": [
    {
     "name": "stdout",
     "output_type": "stream",
     "text": [
      "1D Array:\n",
      " [10 20 30 40 50]\n",
      "\n",
      "First element of 1D array: 10\n",
      "\n",
      "2D Array:\n",
      " [[1 2 3]\n",
      " [4 5 6]\n",
      " [7 8 9]]\n",
      "\n",
      "Element at row index 1, column index 2: 6\n",
      "\n",
      "All rows, second column:\n",
      " [2 5 8]\n",
      "\n",
      "Slice from index 1 to 3 in 1D array: [20 30 40]\n"
     ]
    }
   ],
   "source": [
    "# Create a sample 1D array\n",
    "arr_1d = np.array([10, 20, 30, 40, 50])\n",
    "print(\"1D Array:\\n\", arr_1d)\n",
    "\n",
    "# Access the first element\n",
    "print(\"\\nFirst element of 1D array:\", arr_1d[0])\n",
    "\n",
    "# Create a sample 2D array\n",
    "arr_2d = np.array([\n",
    "    [1, 2, 3],\n",
    "    [4, 5, 6],\n",
    "    [7, 8, 9]\n",
    "])\n",
    "print(\"\\n2D Array:\\n\", arr_2d)\n",
    "\n",
    "# Access an element in a multi-dimensional array\n",
    "print(\"\\nElement at row index 1, column index 2:\", arr_2d[1, 2])\n",
    "\n",
    "# Slice all rows, second column\n",
    "print(\"\\nAll rows, second column:\\n\", arr_2d[:, 1])\n",
    "\n",
    "# Slice elements from index 1 to 3 in a 1D array\n",
    "print(\"\\nSlice from index 1 to 3 in 1D array:\", arr_1d[1:4])\n"
   ]
  },
  {
   "cell_type": "code",
   "execution_count": 8,
   "metadata": {},
   "outputs": [
    {
     "name": "stdout",
     "output_type": "stream",
     "text": [
      "2D Array:\n",
      " [[10 20 30]\n",
      " [40 50 60]\n",
      " [70 80 90]] \n",
      "Shape: (3, 3)\n",
      "\n",
      "All rows, second column:\n",
      " [20 50 80] \n",
      "Shape: (3,)\n",
      "\n",
      "All rows, last column:\n",
      " [30 60 90] \n",
      "Shape: (3,)\n",
      "\n",
      "First row, all columns:\n",
      " [10 20 30] \n",
      "Shape: (3,)\n",
      "\n",
      "First two rows, all columns:\n",
      " [[10 20 30]\n",
      " [40 50 60]] \n",
      "Shape: (2, 3)\n",
      "\n",
      "Bottom-right 2x2 subarray:\n",
      " [[50 60]\n",
      " [80 90]] \n",
      "Shape: (2, 2)\n"
     ]
    }
   ],
   "source": [
    "# Create a sample 2D array\n",
    "arr_2d = np.array([\n",
    "    [10, 20, 30],\n",
    "    [40, 50, 60],\n",
    "    [70, 80, 90]\n",
    "])\n",
    "print(\"2D Array:\\n\", arr_2d, \"\\nShape:\", arr_2d.shape)\n",
    "\n",
    "# Select all rows, second column\n",
    "slice_1 = arr_2d[:, 1]\n",
    "print(\"\\nAll rows, second column:\\n\", slice_1, \"\\nShape:\", slice_1.shape)\n",
    "\n",
    "# Select all rows, last column\n",
    "slice_2 = arr_2d[:, -1]\n",
    "print(\"\\nAll rows, last column:\\n\", slice_2, \"\\nShape:\", slice_2.shape)\n",
    "\n",
    "# Select first row, all columns\n",
    "slice_3 = arr_2d[0, :]\n",
    "print(\"\\nFirst row, all columns:\\n\", slice_3, \"\\nShape:\", slice_3.shape)\n",
    "\n",
    "# Select first two rows, all columns\n",
    "slice_4 = arr_2d[:2, :]\n",
    "print(\"\\nFirst two rows, all columns:\\n\", slice_4, \"\\nShape:\", slice_4.shape)\n",
    "\n",
    "# Select bottom-right 2x2 subarray\n",
    "slice_5 = arr_2d[1:, 1:]\n",
    "print(\"\\nBottom-right 2x2 subarray:\\n\", slice_5, \"\\nShape:\", slice_5.shape)\n"
   ]
  },
  {
   "cell_type": "markdown",
   "metadata": {},
   "source": [
    "### More on reshaping arrays"
   ]
  },
  {
   "cell_type": "code",
   "execution_count": 9,
   "metadata": {},
   "outputs": [
    {
     "name": "stdout",
     "output_type": "stream",
     "text": [
      "Original Array:\n",
      " [[ 1  2  3]\n",
      " [ 4  5  6]\n",
      " [ 7  8  9]\n",
      " [10 11 12]]\n",
      "Shape of original array: (4, 3)\n",
      "\n",
      "Reshaped to 1D:\n",
      " [ 1  2  3  4  5  6  7  8  9 10 11 12]\n",
      "Shape: (12,)\n",
      "\n",
      "Reshaped to 2D (2x6):\n",
      " [[ 1  2  3  4  5  6]\n",
      " [ 7  8  9 10 11 12]]\n",
      "Shape: (2, 6)\n",
      "\n",
      "Reshaped to 3D (2x2x3):\n",
      " [[[ 1  2  3]\n",
      "  [ 4  5  6]]\n",
      "\n",
      " [[ 7  8  9]\n",
      "  [10 11 12]]]\n",
      "Shape: (2, 2, 3)\n",
      "\n",
      "Invalid reshape (3x5) failed with error: cannot reshape array of size 12 into shape (3,5)\n"
     ]
    }
   ],
   "source": [
    "# Create a sample 2D array\n",
    "arr = np.array([\n",
    "    [1, 2, 3],\n",
    "    [4, 5, 6],\n",
    "    [7, 8, 9],\n",
    "    [10, 11, 12]\n",
    "])\n",
    "\n",
    "print(\"Original Array:\\n\", arr)\n",
    "print(\"Shape of original array:\", arr.shape)\n",
    "\n",
    "# Reshape to 1D (flattening)\n",
    "arr_1d = arr.reshape(-1)\n",
    "print(\"\\nReshaped to 1D:\\n\", arr_1d)\n",
    "print(\"Shape:\", arr_1d.shape)\n",
    "\n",
    "# Reshape to 2D (2 rows, 6 columns)\n",
    "arr_2d = arr.reshape(2, 6)\n",
    "print(\"\\nReshaped to 2D (2x6):\\n\", arr_2d)\n",
    "print(\"Shape:\", arr_2d.shape)\n",
    "\n",
    "# Reshape to 3D (2 blocks, 2 rows, 3 columns)\n",
    "arr_3d = arr.reshape(2, 2, 3)\n",
    "print(\"\\nReshaped to 3D (2x2x3):\\n\", arr_3d)\n",
    "print(\"Shape:\", arr_3d.shape)\n",
    "\n",
    "# Example of an invalid reshape (will cause an error)\n",
    "try:\n",
    "    arr_invalid = arr.reshape(3, 5)  # 12 elements cannot fit into a (3x5) shape\n",
    "    print(\"\\nReshaped to 3x5:\\n\", arr_invalid)\n",
    "except ValueError as e:\n",
    "    print(\"\\nInvalid reshape (3x5) failed with error:\", e)\n"
   ]
  },
  {
   "cell_type": "markdown",
   "metadata": {},
   "source": [
    "#### NumPy `reshape` Summary\n",
    "\n",
    "The `reshape` function is used to give a new shape to an array without changing its data. The `reshape` function returns a new array object with the new shape specified by the parameters (tuple of integers). The new shape should be compatible with the original shape. If an integer in the `reshape` function is set to `-1`, the value is inferred from the length of the array and remaining dimensions.\n",
    "\n",
    "| **Command**         | **Effect**                                  | **Shape Example** |\n",
    "|---------------------|-------------------------------------------|------------------|\n",
    "| `reshape(-1)`       | Flattens to a 1D array                    | `(n,)` |\n",
    "| `reshape(1, -1)`    | Converts to a row vector (1 row, many cols) | `(1, n)` |\n",
    "| `reshape(-1, 1)`    | Converts to a column vector (many rows, 1 col) | `(n, 1)` |\n",
    "| `reshape(1)`        | ❌ Invalid unless the array has only 1 element | N/A |\n"
   ]
  },
  {
   "cell_type": "code",
   "execution_count": 10,
   "metadata": {},
   "outputs": [
    {
     "name": "stdout",
     "output_type": "stream",
     "text": [
      "Original 3D Array:\n",
      " [[[ 1  2  3]\n",
      "  [ 4  5  6]]\n",
      "\n",
      " [[ 7  8  9]\n",
      "  [10 11 12]]]\n",
      "Shape: (2, 2, 3)\n",
      "\n",
      "Flattened Array:\n",
      " [ 1  2  3  4  5  6  7  8  9 10 11 12]\n",
      "Shape after flattening: (12,)\n"
     ]
    }
   ],
   "source": [
    "# Create a 3D array (2 blocks, 2 rows, 3 columns)\n",
    "arr_3d = np.array([\n",
    "    [[1, 2, 3], [4, 5, 6]],\n",
    "    [[7, 8, 9], [10, 11, 12]]\n",
    "])\n",
    "\n",
    "print(\"Original 3D Array:\\n\", arr_3d)\n",
    "print(\"Shape:\", arr_3d.shape)  # (2, 2, 3)\n",
    "\n",
    "# Flatten the 3D array\n",
    "arr_flattened = arr_3d.reshape(-1)\n",
    "print(\"\\nFlattened Array:\\n\", arr_flattened)\n",
    "print(\"Shape after flattening:\", arr_flattened.shape)  # (12,)\n"
   ]
  },
  {
   "cell_type": "markdown",
   "metadata": {},
   "source": [
    "## Stacking and concatenating arrays"
   ]
  },
  {
   "cell_type": "code",
   "execution_count": 11,
   "metadata": {},
   "outputs": [
    {
     "name": "stdout",
     "output_type": "stream",
     "text": [
      "Array 1:\n",
      " [[1 2 3]\n",
      " [4 5 6]]\n",
      "Shape of arr1: (2, 3)\n",
      "\n",
      "Array 2:\n",
      " [[ 7  8  9]\n",
      " [10 11 12]]\n",
      "Shape of arr2: (2, 3)\n",
      "\n",
      "Concatenated along axis 0 (rows):\n",
      " [[ 1  2  3]\n",
      " [ 4  5  6]\n",
      " [ 7  8  9]\n",
      " [10 11 12]]\n",
      "Shape: (4, 3)\n",
      "\n",
      "Concatenated along axis 1 (columns):\n",
      " [[ 1  2  3  7  8  9]\n",
      " [ 4  5  6 10 11 12]]\n",
      "Shape: (2, 6)\n",
      "\n",
      "Stacked Vertically:\n",
      " [[ 1  2  3]\n",
      " [ 4  5  6]\n",
      " [ 7  8  9]\n",
      " [10 11 12]]\n",
      "Shape: (4, 3)\n",
      "\n",
      "Stacked Horizontally:\n",
      " [[ 1  2  3  7  8  9]\n",
      " [ 4  5  6 10 11 12]]\n",
      "Shape: (2, 6)\n"
     ]
    }
   ],
   "source": [
    "import numpy as np\n",
    "\n",
    "# Create two sample arrays\n",
    "arr1 = np.array([\n",
    "    [1, 2, 3],\n",
    "    [4, 5, 6]\n",
    "])\n",
    "\n",
    "arr2 = np.array([\n",
    "    [7, 8, 9],\n",
    "    [10, 11, 12]\n",
    "])\n",
    "\n",
    "print(\"Array 1:\\n\", arr1)\n",
    "print(\"Shape of arr1:\", arr1.shape)\n",
    "\n",
    "print(\"\\nArray 2:\\n\", arr2)\n",
    "print(\"Shape of arr2:\", arr2.shape)\n",
    "\n",
    "# Concatenate along axis 0 (rows)\n",
    "concatenated_0 = np.concatenate((arr1, arr2), axis=0)\n",
    "print(\"\\nConcatenated along axis 0 (rows):\\n\", concatenated_0)\n",
    "print(\"Shape:\", concatenated_0.shape)\n",
    "\n",
    "# Concatenate along axis 1 (columns)\n",
    "concatenated_1 = np.concatenate((arr1, arr2), axis=1)\n",
    "print(\"\\nConcatenated along axis 1 (columns):\\n\", concatenated_1)\n",
    "print(\"Shape:\", concatenated_1.shape)\n",
    "\n",
    "# Stack vertically (equivalent to axis=0 concatenation)\n",
    "stacked_v = np.vstack((arr1, arr2))\n",
    "print(\"\\nStacked Vertically:\\n\", stacked_v)\n",
    "print(\"Shape:\", stacked_v.shape)\n",
    "\n",
    "# Stack horizontally (equivalent to axis=1 concatenation)\n",
    "stacked_h = np.hstack((arr1, arr2))\n",
    "print(\"\\nStacked Horizontally:\\n\", stacked_h)\n",
    "print(\"Shape:\", stacked_h.shape)"
   ]
  },
  {
   "cell_type": "markdown",
   "metadata": {},
   "source": [
    "## Arithmetic operations\n",
    "\n",
    "It is important to note that arithmetic operations on arrays are element-wise. This means that the operation is applied to each element of the array."
   ]
  },
  {
   "cell_type": "code",
   "execution_count": 12,
   "metadata": {},
   "outputs": [
    {
     "name": "stdout",
     "output_type": "stream",
     "text": [
      "Array:\n",
      " [[1 2 3]\n",
      " [4 5 6]]\n",
      "\n",
      "Array + 2:\n",
      " [[3 4 5]\n",
      " [6 7 8]]\n",
      "\n",
      "Element-wise Addition (arr1 + arr2):\n",
      " [[ 8 10 12]\n",
      " [14 16 18]]\n",
      "\n",
      "Exponential Function (np.exp(arr)):\n",
      " [[  2.71828183   7.3890561   20.08553692]\n",
      " [ 54.59815003 148.4131591  403.42879349]]\n",
      "\n",
      "Sine Function (np.sin(arr)):\n",
      " [[ 0.84147098  0.90929743  0.14112001]\n",
      " [-0.7568025  -0.95892427 -0.2794155 ]]\n",
      "\n",
      "Logarithm Function (np.log(arr + 1)):\n",
      " [[0.69314718 1.09861229 1.38629436]\n",
      " [1.60943791 1.79175947 1.94591015]]\n"
     ]
    }
   ],
   "source": [
    "# Create two sample arrays\n",
    "arr = np.array([\n",
    "    [1, 2, 3],\n",
    "    [4, 5, 6]\n",
    "])\n",
    "\n",
    "arr1 = np.array([\n",
    "    [1, 2, 3],\n",
    "    [4, 5, 6]\n",
    "])\n",
    "\n",
    "arr2 = np.array([\n",
    "    [7, 8, 9],\n",
    "    [10, 11, 12]\n",
    "])\n",
    "\n",
    "print(\"Array:\\n\", arr)\n",
    "\n",
    "# Add a scalar to all elements\n",
    "arr_add_scalar = arr + 2\n",
    "print(\"\\nArray + 2:\\n\", arr_add_scalar)\n",
    "\n",
    "# Element-wise addition\n",
    "arr_add = arr1 + arr2\n",
    "print(\"\\nElement-wise Addition (arr1 + arr2):\\n\", arr_add)\n",
    "\n",
    "# Apply mathematical functions element-wise\n",
    "arr_exp = np.exp(arr)\n",
    "print(\"\\nExponential Function (np.exp(arr)):\\n\", arr_exp)\n",
    "\n",
    "arr_sin = np.sin(arr)\n",
    "print(\"\\nSine Function (np.sin(arr)):\\n\", arr_sin)\n",
    "\n",
    "arr_log = np.log(arr + 1)  # Adding 1 to avoid log(0)\n",
    "print(\"\\nLogarithm Function (np.log(arr + 1)):\\n\", arr_log)\n"
   ]
  },
  {
   "cell_type": "markdown",
   "metadata": {},
   "source": [
    "### Multiplication"
   ]
  },
  {
   "cell_type": "code",
   "execution_count": 13,
   "metadata": {},
   "outputs": [
    {
     "name": "stdout",
     "output_type": "stream",
     "text": [
      "1D Array 1: [1 2 3]\n",
      "1D Array 2: [4 5 6]\n",
      "\n",
      "Scalar Multiplication (arr1 * 3): [3 6 9]\n",
      "\n",
      "Element-wise Multiplication (arr1 * arr2): [ 4 10 18]\n",
      "\n",
      "Dot Product (arr1 dot arr2): 32\n",
      "\n",
      "Dot Product using @ operator: 32\n"
     ]
    }
   ],
   "source": [
    "# Create two 1D arrays\n",
    "arr1 = np.array([1, 2, 3])\n",
    "arr2 = np.array([4, 5, 6])\n",
    "\n",
    "print(\"1D Array 1:\", arr1)\n",
    "print(\"1D Array 2:\", arr2)\n",
    "\n",
    "# Scalar multiplication\n",
    "arr1_scalar = arr1 * 3\n",
    "print(\"\\nScalar Multiplication (arr1 * 3):\", arr1_scalar)\n",
    "\n",
    "# Element-wise multiplication\n",
    "arr1_elementwise = arr1 * arr2\n",
    "print(\"\\nElement-wise Multiplication (arr1 * arr2):\", arr1_elementwise)\n",
    "\n",
    "# Dot product of 1D arrays\n",
    "arr1_dot = np.dot(arr1, arr2)  # Equivalent to sum(arr1 * arr2)\n",
    "print(\"\\nDot Product (arr1 dot arr2):\", arr1_dot)\n",
    "\n",
    "# Alternative syntax for dot product using @ operator \n",
    "arr1_dot_alt = arr1 @ arr2\n",
    "print(\"\\nDot Product using @ operator:\", arr1_dot_alt)\n"
   ]
  },
  {
   "cell_type": "code",
   "execution_count": 14,
   "metadata": {},
   "outputs": [
    {
     "name": "stdout",
     "output_type": "stream",
     "text": [
      "Array 1:\n",
      " [[1 2 3]\n",
      " [4 5 6]]\n",
      "\n",
      "Array 2:\n",
      " [[ 7  8  9]\n",
      " [10 11 12]]\n",
      "\n",
      "Scalar Multiplication (arr * 3):\n",
      " [[ 3  6  9]\n",
      " [12 15 18]]\n",
      "\n",
      "Element-wise Multiplication (arr1 * arr2):\n",
      " [[ 7 16 27]\n",
      " [40 55 72]]\n",
      "\n",
      "Matrix Multiplication (arr1 dot arr2.T):\n",
      " [[ 50  68]\n",
      " [122 167]]\n",
      "\n",
      "Matrix Multiplication (arr1 @ arr2.T):\n",
      " [[ 50  68]\n",
      " [122 167]]\n"
     ]
    }
   ],
   "source": [
    "# Create two sample arrays\n",
    "\n",
    "arr1 = np.array([\n",
    "    [1, 2, 3],\n",
    "    [4, 5, 6]\n",
    "])\n",
    "\n",
    "arr2 = np.array([\n",
    "    [7, 8, 9],\n",
    "    [10, 11, 12]\n",
    "])\n",
    "\n",
    "print(\"Array 1:\\n\", arr1)\n",
    "print(\"\\nArray 2:\\n\", arr2)\n",
    "\n",
    "# Scalar multiplication\n",
    "arr_mul_scalar = arr1 * 3\n",
    "print(\"\\nScalar Multiplication (arr * 3):\\n\", arr_mul_scalar)\n",
    "\n",
    "# Element-wise multiplication\n",
    "arr_mul_elementwise = arr1 * arr2\n",
    "print(\"\\nElement-wise Multiplication (arr1 * arr2):\\n\", arr_mul_elementwise)\n",
    "\n",
    "# Matrix multiplication (dot product)\n",
    "arr_dot = np.dot(arr1, arr2.T)  # Using transpose to match dimensions\n",
    "print(\"\\nMatrix Multiplication (arr1 dot arr2.T):\\n\", arr_dot)\n",
    "print(\"\\nMatrix Multiplication (arr1 @ arr2.T):\\n\", arr1 @ arr2.T)\n"
   ]
  },
  {
   "cell_type": "markdown",
   "metadata": {},
   "source": [
    "## Broadcasting\n",
    "\n",
    "\n",
    "Broadcasting in NumPy allows operations between arrays of **different shapes** without explicit duplication. NumPy follows three fundamental rules:\n",
    "\n",
    "**Rule 1: Match Dimensions from Right to Left**\n",
    "- NumPy aligns array shapes **starting from the last dimension**.\n",
    "- If the dimensions **match** or one of them is `1`, broadcasting **can proceed**.\n",
    "- If dimensions **don’t match and neither is `1`**, broadcasting **fails**.\n",
    "\n",
    "\n",
    "**Rule 2: Expand Dimensions When `1` is Present**\n",
    "- If a dimension is `1`, NumPy **stretches** it to match the other array.\n",
    "\n",
    "**Rule 3: Arrays Must Have Compatible Shapes**\n",
    "- After applying **Rules 1 & 2**, the **final shapes must match**.\n",
    "- If **after expansion**, shapes remain **incompatible**, broadcasting **fails**.\n",
    "\n",
    "| **Scenario**           | **Example Shapes**     | **Broadcastable?** | **Why?** |\n",
    "|------------------------|----------------------|-----------------|---------|\n",
    "| Scalar + Array        | `() + (3, 3)`       | ✅ Yes  | Scalar expands to `(3,3)` |\n",
    "| 1D + 2D (aligned)     | `(3,) + (3,3)`        | ✅ Yes  | `(3,)` is treated as `(1,3)` and expands to `(3,3)` |\n",
    "| Column Vector + 2D    | `(3,1) + (3,3)`       | ✅ Yes  | `(3,1)` expands across columns |\n",
    "| Row Vector + 2D       | `(1,3) + (3,3)`       | ✅ Yes  | `(1,3)` expands across rows |\n",
    "| Mismatched Shapes     | `(3,4) + (3,2)`       | ❌ No  | **Final shapes do not match** |\n"
   ]
  },
  {
   "cell_type": "code",
   "execution_count": 15,
   "metadata": {},
   "outputs": [
    {
     "name": "stdout",
     "output_type": "stream",
     "text": [
      "A:\n",
      " [[1 2 3]\n",
      " [4 5 6]]\n",
      "\n",
      "B:\n",
      " [10 20 30]\n",
      "\n",
      "Broadcasting Example (A + B):\n",
      " [[11 22 33]\n",
      " [14 25 36]]\n",
      "\n",
      "C:\n",
      " [[10]\n",
      " [20]]\n",
      "\n",
      "Broadcasting Column Vector (A + C):\n",
      " [[11 12 13]\n",
      " [24 25 26]]\n",
      "\n",
      "D:\n",
      " [[10 20 30]]\n",
      "\n",
      "Broadcasting Row Vector (A + D):\n",
      " [[11 22 33]\n",
      " [14 25 36]]\n",
      "\n",
      "E:\n",
      " [[1 2]\n",
      " [3 4]]\n",
      "\n",
      "Broadcasting Error Example (A + E):\n",
      "Error: operands could not be broadcast together with shapes (2,3) (2,2) \n"
     ]
    }
   ],
   "source": [
    "\n",
    "# Rule 1: Match dimensions from right to left\n",
    "A = np.array([[1, 2, 3], [4, 5, 6]])  # Shape (2,3)\n",
    "B = np.array([10, 20, 30])  # Shape (3,)\n",
    "print(\"A:\\n\", A)\n",
    "print(\"\\nB:\\n\", B)\n",
    "print(\"\\nBroadcasting Example (A + B):\\n\", A + B)  # B is expanded to (2,3)\n",
    "\n",
    "# Rule 2: Expand dimensions when `1` is present (Column Vector)\n",
    "C = np.array([[10], [20]])  # Shape (2,1)\n",
    "print(\"\\nC:\\n\", C)\n",
    "print(\"\\nBroadcasting Column Vector (A + C):\\n\", A + C)  # C expands to (2,3)\n",
    "\n",
    "# Rule 2: Expand dimensions when `1` is present (Row Vector)\n",
    "D = np.array([[10, 20, 30]])  # Shape (1,3)\n",
    "print(\"\\nD:\\n\", D)\n",
    "print(\"\\nBroadcasting Row Vector (A + D):\\n\", A + D)  # D expands to (2,3)\n",
    "\n",
    "# Rule 3: Example where broadcasting fails\n",
    "E = np.array([[1, 2], [3, 4]])  # Shape (2,2)\n",
    "print(\"\\nE:\\n\", E)\n",
    "try:\n",
    "    print(\"\\nBroadcasting Error Example (A + E):\")\n",
    "    print(A + E)  # Broadcasting fails because shapes (2,3) and (2,2) are incompatible\n",
    "except ValueError as e:\n",
    "    print(\"Error:\", e)\n"
   ]
  },
  {
   "cell_type": "markdown",
   "metadata": {},
   "source": [
    "### Boolean Operations"
   ]
  },
  {
   "cell_type": "code",
   "execution_count": 16,
   "metadata": {},
   "outputs": [
    {
     "name": "stdout",
     "output_type": "stream",
     "text": [
      "Original Array:\n",
      " [[1 5 7]\n",
      " [8 3 6]]\n",
      "\n",
      "Boolean Mask (arr > 5):\n",
      " [[False False  True]\n",
      " [ True False  True]]\n",
      "\n",
      "Filtered Elements (arr[arr > 5]):\n",
      " [7 8 6]\n",
      "\n",
      "Is any element > 5?\n",
      " True\n",
      "\n",
      "Are all elements > 5?\n",
      " False\n"
     ]
    }
   ],
   "source": [
    "\n",
    "# Create a sample array\n",
    "arr = np.array([\n",
    "    [1, 5, 7],\n",
    "    [8, 3, 6]\n",
    "])\n",
    "\n",
    "print(\"Original Array:\\n\", arr)\n",
    "\n",
    "# 1. Boolean mask: Check which elements are greater than 5\n",
    "bool_mask = arr > 5\n",
    "print(\"\\nBoolean Mask (arr > 5):\\n\", bool_mask)\n",
    "\n",
    "# 2. Filtering: Extract elements greater than 5\n",
    "filtered_values = arr[arr > 5]\n",
    "print(\"\\nFiltered Elements (arr[arr > 5]):\\n\", filtered_values)\n",
    "\n",
    "# 3. Check if any element is greater than 5\n",
    "any_greater_than_5 = np.any(arr > 5)\n",
    "print(\"\\nIs any element > 5?\\n\", any_greater_than_5)\n",
    "\n",
    "# 4. Check if all elements are greater than 5\n",
    "all_greater_than_5 = np.all(arr > 5)\n",
    "print(\"\\nAre all elements > 5?\\n\", all_greater_than_5)\n"
   ]
  },
  {
   "cell_type": "markdown",
   "metadata": {},
   "source": [
    "### Comparing arrays"
   ]
  },
  {
   "cell_type": "code",
   "execution_count": 17,
   "metadata": {},
   "outputs": [
    {
     "name": "stdout",
     "output_type": "stream",
     "text": [
      "Array 1: [1 2 3 4 5]\n",
      "Array 2: [5 4 3 2 1]\n",
      "\n",
      "Element-wise Equality (arr1 == arr2): [False False  True False False]\n",
      "\n",
      "Element-wise Greater Than (arr1 > arr2): [False False False  True  True]\n",
      "\n",
      "Element-wise Less Than (arr1 < arr2): [ True  True False False False]\n",
      "\n",
      "Are all elements equal? np.array_equal(arr1, arr2): False\n",
      "\n",
      "Is any element in arr1 greater than 3? True\n",
      "\n",
      "Are all elements in arr1 greater than 0? True\n",
      "\n",
      "Array 3:\n",
      " [[1 2]\n",
      " [3 4]]\n",
      "Array 4:\n",
      " [[1 0]\n",
      " [3 4]]\n",
      "\n",
      "Element-wise Equality for 2D arrays:\n",
      " [[ True False]\n",
      " [ True  True]]\n",
      "\n",
      "arr5: [1.000001 2.000001]\n",
      "arr6: [1.000002 2.000002]\n",
      "\n",
      "Are arr5 and arr6 equal? False\n",
      "\n",
      "Are arr5 and arr6 close (within tolerance 1e-5)? True\n"
     ]
    }
   ],
   "source": [
    "import numpy as np\n",
    "\n",
    "# Create two sample arrays\n",
    "arr1 = np.array([1, 2, 3, 4, 5])\n",
    "arr2 = np.array([5, 4, 3, 2, 1])\n",
    "\n",
    "print(\"Array 1:\", arr1)\n",
    "print(\"Array 2:\", arr2)\n",
    "\n",
    "# 1. Element-wise comparison\n",
    "equal_elements = arr1 == arr2\n",
    "print(\"\\nElement-wise Equality (arr1 == arr2):\", equal_elements)\n",
    "\n",
    "greater_than = arr1 > arr2\n",
    "print(\"\\nElement-wise Greater Than (arr1 > arr2):\", greater_than)\n",
    "\n",
    "less_than = arr1 < arr2\n",
    "print(\"\\nElement-wise Less Than (arr1 < arr2):\", less_than)\n",
    "\n",
    "# 2. Check if all elements are equal\n",
    "all_equal = np.array_equal(arr1, arr2)\n",
    "print(\"\\nAre all elements equal? np.array_equal(arr1, arr2):\", all_equal)\n",
    "\n",
    "# 3. Check if any element matches a condition\n",
    "any_greater_than_3 = np.any(arr1 > 3)\n",
    "print(\"\\nIs any element in arr1 greater than 3?\", any_greater_than_3)\n",
    "\n",
    "# 4. Check if all elements match a condition\n",
    "all_greater_than_0 = np.all(arr1 > 0)\n",
    "print(\"\\nAre all elements in arr1 greater than 0?\", all_greater_than_0)\n",
    "\n",
    "# 5. Comparing multi-dimensional arrays\n",
    "arr3 = np.array([[1, 2], [3, 4]])\n",
    "arr4 = np.array([[1, 0], [3, 4]])\n",
    "\n",
    "print(\"\\nArray 3:\\n\", arr3)\n",
    "print(\"Array 4:\\n\", arr4)\n",
    "\n",
    "equal_2d = arr3 == arr4\n",
    "print(\"\\nElement-wise Equality for 2D arrays:\\n\", equal_2d)\n",
    "\n",
    "# 6. Checking if arrays are close (useful for floating-point comparisons)\n",
    "arr5 = np.array([1.000001, 2.000001])\n",
    "arr6 = np.array([1.000002, 2.000002])\n",
    "\n",
    "print(\"\\narr5:\", arr5)\n",
    "print(\"arr6:\", arr6)\n",
    "print(\"\\nAre arr5 and arr6 equal?\", np.array_equal(arr5, arr6))\n",
    "close_comparison = np.allclose(arr5, arr6, atol=1e-5)\n",
    "print(\"\\nAre arr5 and arr6 close (within tolerance 1e-5)?\", close_comparison)"
   ]
  },
  {
   "cell_type": "markdown",
   "metadata": {},
   "source": [
    "# Concluding Remarks\n",
    "\n",
    "We conclude this brief introduction to Numpy with an illustration of why Numpy is a powerful tool for machine learning.   A basic operation used in many machine learning algorithms is the application of the **relu** function to the sum of two tensors. The **relu** function is defined as:\n",
    "\n",
    "$$\n",
    "\\text{relu}(x) = \\max(0, x)\n",
    "$$\n",
    "\n",
    "where if $x$ is a tensor, the operation is applied element-wise. \n",
    "\n",
    "We will implement the sum of two tensors and apply the `relu` function using both Numpy and a naive implementation. We will the execution times of both implementations."
   ]
  },
  {
   "cell_type": "markdown",
   "metadata": {},
   "source": [
    "## \n",
    "\n",
    "We will conclude by demonstrating why NumPy is a powerful tool for machine learning.  A basic operation in machine learning is the calculation of the *relu* function applied to the sum of two matrices.  \n",
    "\n",
    "The *relu* function is defined as:\n",
    "\n",
    "\\[\n",
    "\\text{relu}(x) = \\max(0, x)\n",
    "\\]\n",
    "\n",
    "\n",
    "We will compare the performance of this operation using NumPy methods and naive implementations. "
   ]
  },
  {
   "cell_type": "code",
   "execution_count": 18,
   "metadata": {},
   "outputs": [
    {
     "name": "stdout",
     "output_type": "stream",
     "text": [
      "Naive ReLU:\n",
      " [[1 0]\n",
      " [0 3]]\n"
     ]
    }
   ],
   "source": [
    "def naive_relu(x): \n",
    "\n",
    "    assert len(x.shape) == 2, \"x must be a rank-2 tensor\"\n",
    "    z = x.copy()  # Avoid overwriting the input tensor\n",
    "    for i in range(x.shape[0]):\n",
    "        for j in range(x.shape[1]):\n",
    "            z[i, j] = max(x[i, j], 0)\n",
    "\n",
    "    return z\n",
    "\n",
    "x = np.array([[1, -1], [-2, 3]])\n",
    "print(\"Naive ReLU:\\n\", naive_relu(x))"
   ]
  },
  {
   "cell_type": "code",
   "execution_count": 19,
   "metadata": {},
   "outputs": [
    {
     "name": "stdout",
     "output_type": "stream",
     "text": [
      "Naive Add:\n",
      " [[11 22 33]\n",
      " [44 55 66]]\n"
     ]
    }
   ],
   "source": [
    "def naive_add(x, y):\n",
    "    # x and y are rank-2 NumPy tensors.\n",
    "    assert len(x.shape) == 2, \"x must be a rank-2 tensor\"\n",
    "    assert x.shape == y.shape, \"x and y must have the same shape\"\n",
    "    \n",
    "    x = x.copy() \n",
    "    \n",
    "    for i in range(x.shape[0]):\n",
    "        for j in range(x.shape[1]):\n",
    "            x[i, j] += y[i, j]\n",
    "    return x\n",
    "\n",
    "x = np.array([[1, 2, 3], [4, 5, 6]])\n",
    "y = np.array([[10, 20, 30], [40, 50, 60]])\n",
    "\n",
    "print(\"Naive Add:\\n\", naive_add(x, y))"
   ]
  },
  {
   "cell_type": "code",
   "execution_count": 20,
   "metadata": {},
   "outputs": [
    {
     "name": "stdout",
     "output_type": "stream",
     "text": [
      "Naive time:  7.6857 seconds\n",
      "NumPy time:  0.0182 seconds\n"
     ]
    }
   ],
   "source": [
    "import time\n",
    "\n",
    "# create some random matrices\n",
    "x = np.random.uniform(-1, 1, (20, 100)) \n",
    "y = np.random.uniform(-0.5, 2, (20, 100))\n",
    "\n",
    "start = time.time()\n",
    "for _ in range(10_000): \n",
    "    z = naive_relu(naive_add(x, y))\n",
    "print(f\"Naive time: {time.time() - start: .4f} seconds\")\n",
    "\n",
    "start = time.time()\n",
    "for _ in range(10_000): \n",
    "    z = np.maximum(x + y, 0.)\n",
    "print(f\"NumPy time: {time.time() - start: .4f} seconds\")\n"
   ]
  },
  {
   "cell_type": "markdown",
   "metadata": {},
   "source": [
    "### Example"
   ]
  },
  {
   "cell_type": "code",
   "execution_count": 21,
   "metadata": {},
   "outputs": [
    {
     "name": "stdout",
     "output_type": "stream",
     "text": [
      "<class 'tuple'>\n"
     ]
    }
   ],
   "source": [
    "from tensorflow.keras.datasets import mnist # Import the MNIST dataset\n",
    "\n",
    "mnist_data = mnist.load_data()\n",
    "print(type(mnist_data))"
   ]
  },
  {
   "cell_type": "code",
   "execution_count": 22,
   "metadata": {},
   "outputs": [
    {
     "name": "stdout",
     "output_type": "stream",
     "text": [
      "The type of train_images: <class 'numpy.ndarray'>\n",
      "train_images Shape: (60000, 28, 28)\n",
      "The datatype of the train_images: uint8\n",
      "The type of train_labels: <class 'numpy.ndarray'>\n",
      "train_labels Shape: (60000,)\n",
      "The datatype of the train_labels: uint8\n"
     ]
    }
   ],
   "source": [
    "(train_images, train_labels), (test_images, test_labels) = mnist_data\n",
    "\n",
    "print(\"The type of train_images:\", type(train_images))\n",
    "print(\"train_images Shape:\", train_images.shape)\n",
    "print(\"The datatype of the train_images:\", train_images.dtype)\n",
    "\n",
    "print(\"The type of train_labels:\", type(train_labels))\n",
    "print(\"train_labels Shape:\", train_labels.shape)\n",
    "print(\"The datatype of the train_labels:\", train_images.dtype)\n"
   ]
  },
  {
   "cell_type": "code",
   "execution_count": 23,
   "metadata": {},
   "outputs": [
    {
     "name": "stdout",
     "output_type": "stream",
     "text": [
      "The image: \n",
      " [[  0   0   0   0   0   0   0   0   0   0   0   0   0   0   0   0   0   0\n",
      "    0   0   0   0   0   0   0   0   0   0]\n",
      " [  0   0   0   0   0   0   0   0   0   0   0   0   0   0   0   0   0   0\n",
      "    0   0   0   0   0   0   0   0   0   0]\n",
      " [  0   0   0   0   0   0   0   0   0   0   0   0   0   0   0   0   0   0\n",
      "    0   0   0   0   0   0   0   0   0   0]\n",
      " [  0   0   0   0   0   0   0   0   0   0   0   0   0   0   0   0   0   0\n",
      "    0   0   0   0   0   0   0   0   0   0]\n",
      " [  0   0   0   0   0   0   0   0   0   0   0   0   0   0   0   0   0   0\n",
      "    0   0   0   0   0   0   0   0   0   0]\n",
      " [  0   0   0   0   0   0   0   0   0   0   0  38  43 105 255 253 253 253\n",
      "  253 253 174   6   0   0   0   0   0   0]\n",
      " [  0   0   0   0   0   0   0   0   0  43 139 224 226 252 253 252 252 252\n",
      "  252 252 252 158  14   0   0   0   0   0]\n",
      " [  0   0   0   0   0   0   0   0   0 178 252 252 252 252 253 252 252 252\n",
      "  252 252 252 252  59   0   0   0   0   0]\n",
      " [  0   0   0   0   0   0   0   0   0 109 252 252 230 132 133 132 132 189\n",
      "  252 252 252 252  59   0   0   0   0   0]\n",
      " [  0   0   0   0   0   0   0   0   0   4  29  29  24   0   0   0   0  14\n",
      "  226 252 252 172   7   0   0   0   0   0]\n",
      " [  0   0   0   0   0   0   0   0   0   0   0   0   0   0   0   0   0  85\n",
      "  243 252 252 144   0   0   0   0   0   0]\n",
      " [  0   0   0   0   0   0   0   0   0   0   0   0   0   0   0   0  88 189\n",
      "  252 252 252  14   0   0   0   0   0   0]\n",
      " [  0   0   0   0   0   0   0   0   0   0   0   0   0   0  91 212 247 252\n",
      "  252 252 204   9   0   0   0   0   0   0]\n",
      " [  0   0   0   0   0   0   0   0   0  32 125 193 193 193 253 252 252 252\n",
      "  238 102  28   0   0   0   0   0   0   0]\n",
      " [  0   0   0   0   0   0   0   0  45 222 252 252 252 252 253 252 252 252\n",
      "  177   0   0   0   0   0   0   0   0   0]\n",
      " [  0   0   0   0   0   0   0   0  45 223 253 253 253 253 255 253 253 253\n",
      "  253  74   0   0   0   0   0   0   0   0]\n",
      " [  0   0   0   0   0   0   0   0   0  31 123  52  44  44  44  44 143 252\n",
      "  252  74   0   0   0   0   0   0   0   0]\n",
      " [  0   0   0   0   0   0   0   0   0   0   0   0   0   0   0   0  15 252\n",
      "  252  74   0   0   0   0   0   0   0   0]\n",
      " [  0   0   0   0   0   0   0   0   0   0   0   0   0   0   0   0  86 252\n",
      "  252  74   0   0   0   0   0   0   0   0]\n",
      " [  0   0   0   0   0   0   5  75   9   0   0   0   0   0   0  98 242 252\n",
      "  252  74   0   0   0   0   0   0   0   0]\n",
      " [  0   0   0   0   0  61 183 252  29   0   0   0   0  18  92 239 252 252\n",
      "  243  65   0   0   0   0   0   0   0   0]\n",
      " [  0   0   0   0   0 208 252 252 147 134 134 134 134 203 253 252 252 188\n",
      "   83   0   0   0   0   0   0   0   0   0]\n",
      " [  0   0   0   0   0 208 252 252 252 252 252 252 252 252 253 230 153   8\n",
      "    0   0   0   0   0   0   0   0   0   0]\n",
      " [  0   0   0   0   0  49 157 252 252 252 252 252 217 207 146  45   0   0\n",
      "    0   0   0   0   0   0   0   0   0   0]\n",
      " [  0   0   0   0   0   0   7 103 235 252 172 103  24   0   0   0   0   0\n",
      "    0   0   0   0   0   0   0   0   0   0]\n",
      " [  0   0   0   0   0   0   0   0   0   0   0   0   0   0   0   0   0   0\n",
      "    0   0   0   0   0   0   0   0   0   0]\n",
      " [  0   0   0   0   0   0   0   0   0   0   0   0   0   0   0   0   0   0\n",
      "    0   0   0   0   0   0   0   0   0   0]\n",
      " [  0   0   0   0   0   0   0   0   0   0   0   0   0   0   0   0   0   0\n",
      "    0   0   0   0   0   0   0   0   0   0]]\n",
      "The label: \n",
      " 3\n"
     ]
    },
    {
     "data": {
      "text/plain": [
       "<matplotlib.image.AxesImage at 0x2ec67e7e0>"
      ]
     },
     "execution_count": 23,
     "metadata": {},
     "output_type": "execute_result"
    },
    {
     "data": {
      "image/png": "[encoded data removed]",
      "text/plain": [
       "<Figure size 640x480 with 1 Axes>"
      ]
     },
     "metadata": {},
     "output_type": "display_data"
    }
   ],
   "source": [
    "img1 = train_images[7]\n",
    "print(\"The image: \\n\", img1)\n",
    "print(\"The label: \\n\", train_labels[7])  \n",
    "# display the image\n",
    "import matplotlib.pyplot as plt\n",
    "plt.imshow(img1, cmap='gray')\n"
   ]
  },
  {
   "cell_type": "code",
   "execution_count": 24,
   "metadata": {},
   "outputs": [
    {
     "data": {
      "text/plain": [
       "<matplotlib.image.AxesImage at 0x2ec9d8380>"
      ]
     },
     "execution_count": 24,
     "metadata": {},
     "output_type": "execute_result"
    },
    {
     "data": {
      "image/png": "[encoded data removed]",
      "text/plain": [
       "<Figure size 640x480 with 1 Axes>"
      ]
     },
     "metadata": {},
     "output_type": "display_data"
    }
   ],
   "source": [
    "img2 = train_images[7] + 100\n",
    "plt.imshow(img2, cmap='gray')"
   ]
  },
  {
   "cell_type": "code",
   "execution_count": 25,
   "metadata": {},
   "outputs": [
    {
     "data": {
      "text/plain": [
       "<matplotlib.image.AxesImage at 0x2ef73bc80>"
      ]
     },
     "execution_count": 25,
     "metadata": {},
     "output_type": "execute_result"
    },
    {
     "data": {
      "image/png": "[encoded data removed]",
      "text/plain": [
       "<Figure size 640x480 with 1 Axes>"
      ]
     },
     "metadata": {},
     "output_type": "display_data"
    }
   ],
   "source": [
    "img2 = np.sin(train_images[7])\n",
    "plt.imshow(img2, cmap='gray')"
   ]
  },
  {
   "cell_type": "code",
   "execution_count": null,
   "metadata": {},
   "outputs": [],
   "source": []
  }
 ],
 "metadata": {
  "kernelspec": {
   "display_name": "3.11.9",
   "language": "python",
   "name": "python3"
  },
  "language_info": {
   "codemirror_mode": {
    "name": "ipython",
    "version": 3
   },
   "file_extension": ".py",
   "mimetype": "text/x-python",
   "name": "python",
   "nbconvert_exporter": "python",
   "pygments_lexer": "ipython3",
   "version": "3.12.7"
  }
 },
 "nbformat": 4,
 "nbformat_minor": 2
}