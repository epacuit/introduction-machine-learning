{
 "cells": [
  {
   "cell_type": "markdown",
   "metadata": {},
   "source": [
    "<a target=\"_blank\" rel=\"noopener noreferrer\" href=\"https://colab.research.google.com/github/epacuit/introduction-machine-learning/blob/main/getting-started/jupyter.ipynb\">![Open In Colab](https://colab.research.google.com/assets/colab-badge.svg)</a>\n",
    "\n",
    "# Jupyter Notebooks\n",
    "\n",
    "Throughout the semester, we will use Jupyter Notebooks.\n",
    "\n",
    "## What are Jupyter Notebooks?\n",
    "\n",
    "<blockquote>\n",
    "<b>From <u><a href=\"https://realpython.com/jupyter-notebook-introduction\">Jupyer Notebook: An Introduction</a></u></b>\n",
    "<p>The Jupyter Notebook is an open source web application that you can use to create and share documents that contain live code, equations, visualizations, and text. Jupyter Notebook is maintained by the people at <a href=\"http://jupyter.org/\">Project Jupyter</a>.</p>\n",
    "\n",
    "<p>Jupyter Notebooks are a spin-off project from the IPython project, which used to have an IPython Notebook project itself. The name, Jupyter, comes from the core supported programming languages that it supports: Julia, Python, and R. Jupyter ships with the IPython kernel, which allows you to write your programs in Python, but there are currently over 100 other kernels that you can also use.</p>\n",
    "</blockquote>\n",
    "\n",
    "Note that [Anaconda](https://www.anaconda.com/)  is a popular distribution of Python that comes with Jupyter Notebooks.\n",
    "\n"
   ]
  },
  {
   "cell_type": "markdown",
   "metadata": {},
   "source": [
    "## Starting a Jupyter Notebook server\n",
    "1. Open your terminal application (**Terminal** on MacOS, **Anaconda Prompt** on Windows)\n",
    "2. Change your current directory to a location on your computer where you would like to save your notebook (for example: `cd /Users/home/notebooks`)\n",
    "3. Run the command `jupyter notebook` which will start your default browser (or open a new tab) to the following URL: http://localhost:8888/tree\n",
    "\n",
    "![OpenIPYNB](https://raw.githubusercontent.com/Summer-MIND/mind_2018/master/tutorials/jupyter/demo.gif)"
   ]
  },
  {
   "cell_type": "markdown",
   "metadata": {},
   "source": [
    "## Interactive Coding\n",
    "\n",
    "We will use Jupyter Notebooks to interface with Python. Rather than keeping code scripts code and execution separate, Jupyter integrates both together using the concept of cells. Two main types of cells are **code cells** and **markdown cells**. Cells pair \"snippets\" of code with the output obtained from running them and can contain plots/figures inline alongside code required to generate them.\n",
    "\n",
    "\n",
    "**Code cells** contain actual code that you want to run. You can specify a cell as a code cell using the pulldown menu in the toolbar in your Jupyter notebook. If you want to execute the code in a code cell, hit \"*shift + enter*\". Note that code cells are executed in the order you execute them. That is to say, the ordering of the cells for which you hit \"*shift + enter*\" is the order in which the code is executed. If you did not explicitly execute a cell early in the document, its results are now known to the Python interpreter.\n",
    "\n",
    "\n",
    "**Markdown cells** contain text. The text is written in Markdown, a lightweight markup language. You can read about its syntax [here](https://daringfireball.net/projects/markdown/syntax). See this [comprehensive guide to Markdown](https://github.com/adam-p/markdown-here/wiki/Markdown-Cheatsheet) or [tutorial](https://www.markdowntutorial.com/).  Note that you can also insert HTML into markdown cells, and this will be rendered properly. As you are typing the contents of these cells, the results appear as text. Hitting \"*shift + enter*\" renders the text in the formatting you specify. \n",
    "\n",
    "\n",
    "In general, when you want to add a new cell, you can use the \"Insert\" pulldown menu from the Jupyter toolbar. The shortcut to insert a cell below is \"*esc, b*\" and to insert a cell above is \"*esc, a*\". Alternatively, you can execute a cell and automatically add a new one below it by hitting \"*alt + enter*\"."
   ]
  },
  {
   "cell_type": "code",
   "execution_count": 1,
   "metadata": {},
   "outputs": [
    {
     "name": "stdout",
     "output_type": "stream",
     "text": [
      "10\n"
     ]
    }
   ],
   "source": [
    "# This is a code cell\n",
    "# Put some code here and get some output below!\n",
    "x = 10\n",
    "print(x)"
   ]
  },
  {
   "cell_type": "markdown",
   "metadata": {},
   "source": [
    "### Additional Resources\n",
    "\n",
    "- [Jupyter Notebook In 10 Minutes](https://www.youtube.com/watch?v=H9Iu49E6Mxs)\n",
    "- [Jake Vanderplas - Data Science Handbook](https://jakevdp.github.io/PythonDataScienceHandbook/)\n",
    "- [Jupyter Notebook Documentation](https://jupyter-notebook.readthedocs.io/en/stable/notebook.html)\n",
    "- [Awesome notebooks](https://github.com/jupyter/jupyter/wiki#a-gallery-of-interesting-jupyter-notebooks)\n"
   ]
  },
  {
   "cell_type": "markdown",
   "metadata": {},
   "source": []
  },
  {
   "cell_type": "markdown",
   "metadata": {},
   "source": []
  }
 ],
 "metadata": {
  "colab": {
   "collapsed_sections": []
  },
  "kernelspec": {
   "display_name": "3.11.9",
   "language": "python",
   "name": "python3"
  },
  "language_info": {
   "codemirror_mode": {
    "name": "ipython",
    "version": 3
   },
   "file_extension": ".py",
   "mimetype": "text/x-python",
   "name": "python",
   "nbconvert_exporter": "python",
   "pygments_lexer": "ipython3",
   "version": "3.12.7"
  }
 },
 "nbformat": 4,
 "nbformat_minor": 4
}