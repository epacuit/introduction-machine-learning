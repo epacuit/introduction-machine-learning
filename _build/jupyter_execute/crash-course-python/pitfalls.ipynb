{
 "cells": [
  {
   "cell_type": "markdown",
   "metadata": {},
   "source": [
    "<a target=\"_blank\" rel=\"noopener noreferrer\" href=\"https://colab.research.google.com/github/epacuit/introduction-machine-learning/blob/main/crash-course-python/pitfalls.ipynb\">![Open In Colab](https://colab.research.google.com/assets/colab-badge.svg)</a>\n",
    "\n",
    "(concepts_pitfalls)=\n",
    "# Thinking in Python: Key Concepts and Pitfalls\n",
    "\n",
    "This notebook contains some key concepts and pitfalls in Python programming. This notebook will be updated throughout the course. "
   ]
  },
  {
   "cell_type": "markdown",
   "metadata": {},
   "source": [
    "## 1. Comparison by Name vs. by Value in Python\n",
    "\n",
    "In Python, variables store references to objects rather than the objects themselves.\n",
    "This means that when you assign one variable to another, both variables point to the same object in memory.\n",
    "\n",
    "The `is` operator checks whether two variables reference the same object (i.e., have the same memory address).\n",
    "In contrast, the `==` operator checks whether two variables have the same content, even if they are different objects in memory.\n",
    "Understanding this distinction is crucial when working with mutable objects like lists.\n",
    "\n",
    "When we assign `y = x`, both `y` and `x` point to the same object. As a result, modifying `x` also affects `y`.\n",
    "However, `z = x.copy()` creates a new list with the same contents as `x`, so changes to `x` do not impact `z`.\n",
    "The following example illustrates this concept:\n"
   ]
  },
  {
   "cell_type": "code",
   "execution_count": 1,
   "metadata": {},
   "outputs": [
    {
     "name": "stdout",
     "output_type": "stream",
     "text": [
      "x is [100, 2, 3]\n",
      "y is [100, 2, 3]\n",
      "z is [1, 2, 3]\n",
      "\n",
      "The memory address of x is 4415396736\n",
      "The memory address of y is 4415396736\n",
      "The memory address of z is 4415203200\n",
      "\n",
      "y == x: True\n",
      "z == x: False\n",
      "y is x: True\n",
      "z is x: False\n",
      "y == x: True\n",
      "z == x: False\n"
     ]
    }
   ],
   "source": [
    "# Illustrates how assignment and copying affect identity and equality\n",
    "x = [1, 2, 3]\n",
    "y = x  # y is a reference to x\n",
    "z = x.copy()  # z is a shallow copy of x\n",
    "x[0] = 100  # Modify x\n",
    "\n",
    "print(\"x is\", x)\n",
    "print(\"y is\", y) # y is a reference to x, so it will be modified\n",
    "print(\"z is\", z) # z is a copy of x, so it will not be modified\n",
    "\n",
    "print(\"\\nThe memory address of x is\", id(x))\n",
    "print(\"The memory address of y is\", id(y))\n",
    "print(\"The memory address of z is\", id(z))\n",
    "print()\n",
    "print(\"y == x:\", y == x)  # True, since y and x have the same contents\n",
    "print(\"z == x:\", z == x)  # False, since z was copied before x was modified\n",
    "\n",
    "print(\"y is x:\", y is x)  # True, y and x refer to the same object\n",
    "print(\"z is x:\", z is x)  # False, z is a different object\n",
    "\n",
    "print(\"y == x:\", y == x)\n",
    "print(\"z == x:\", z == x)"
   ]
  },
  {
   "cell_type": "markdown",
   "metadata": {},
   "source": [
    "When a list is passed into a function, it is passed by reference, meaning that the function operates directly on the original list.\n",
    "As a result, any modifications made to the list inside the function persist outside of it.  In the example below, the function `f(arr)` modifies the original list `x`, so the changes are reflected in both `w` (the return value of `f(x)`) and `x` itself.\n"
   ]
  },
  {
   "cell_type": "code",
   "execution_count": 2,
   "metadata": {},
   "outputs": [
    {
     "name": "stdout",
     "output_type": "stream",
     "text": [
      "x: [11, 2, 3]\n",
      "y: [11, 2, 3]\n",
      "z: [1, 2, 3]\n",
      "w = [100, 2, 3]\n",
      "y == x: True\n",
      "x is [100, 2, 3]\n",
      "y is [100, 2, 3]\n",
      "z is [1, 2, 3]\n",
      "z == x: False\n"
     ]
    }
   ],
   "source": [
    "x = [1, 2, 3]\n",
    "y = x  # y is a reference to x\n",
    "z = x.copy()  # z is a copy of x at this point\n",
    "y[0] = 11  # Modify y, which also affects x\n",
    "print(\"x:\", x)\n",
    "print(\"y:\", x)\n",
    "print(\"z:\", z)\n",
    "\n",
    "def f(arr):\n",
    "    arr[0] = 100  # Modify the passed array\n",
    "    return arr\n",
    "\n",
    "w = f(x)\n",
    "print(f\"w = {w}\")  # w is a modified copy of x\n",
    "print(\"y == x:\", y == x)  # True, because y and x still share the same memory\n",
    "print(\"x is\", x)\n",
    "print(\"y is\", y)\n",
    "print(\"z is\", z)\n",
    "print(\"z == x:\", z == x)  # True, since z was copied before any modifications\n"
   ]
  },
  {
   "cell_type": "markdown",
   "metadata": {},
   "source": [
    "## 2. Defining a Tuple with One Element\n",
    "\n",
    "To define a tuple with one element, you must include a comma after the element.\n",
    "Otherwise, Python will interpret the parentheses as defining an expression rather than a tuple.\n",
    "\n",
    "For example, `x = (1)` assigns the integer `1` to `x`, while `x = (1,)` assigns a tuple containing the integer `1` to `x`.  The following example illustrates this concept:"
   ]
  },
  {
   "cell_type": "code",
   "execution_count": 3,
   "metadata": {},
   "outputs": [
    {
     "name": "stdout",
     "output_type": "stream",
     "text": [
      "x is 1\n",
      "y is (1,)\n",
      "x == y: False\n",
      "1\n"
     ]
    },
    {
     "ename": "TypeError",
     "evalue": "'int' object is not subscriptable",
     "output_type": "error",
     "traceback": [
      "\u001b[0;31m---------------------------------------------------------------------------\u001b[0m",
      "\u001b[0;31mTypeError\u001b[0m                                 Traceback (most recent call last)",
      "Cell \u001b[0;32mIn[3], line 8\u001b[0m\n\u001b[1;32m      6\u001b[0m \u001b[38;5;28mprint\u001b[39m(\u001b[38;5;124m\"\u001b[39m\u001b[38;5;124mx == y:\u001b[39m\u001b[38;5;124m\"\u001b[39m, x \u001b[38;5;241m==\u001b[39m y)\n\u001b[1;32m      7\u001b[0m \u001b[38;5;28mprint\u001b[39m(y[\u001b[38;5;241m0\u001b[39m]) \u001b[38;5;66;03m# prints 1\u001b[39;00m\n\u001b[0;32m----> 8\u001b[0m \u001b[38;5;28mprint\u001b[39m(\u001b[43mx\u001b[49m\u001b[43m[\u001b[49m\u001b[38;5;241;43m0\u001b[39;49m\u001b[43m]\u001b[49m) \u001b[38;5;66;03m# produces an error\u001b[39;00m\n",
      "\u001b[0;31mTypeError\u001b[0m: 'int' object is not subscriptable"
     ]
    }
   ],
   "source": [
    "x = (1)\n",
    "y = (1,)\n",
    "\n",
    "print(\"x is\", x)\n",
    "print(\"y is\", y)\n",
    "print(\"x == y:\", x == y)\n",
    "print(y[0]) # prints 1\n",
    "print(x[0]) # produces an error"
   ]
  },
  {
   "cell_type": "code",
   "execution_count": null,
   "metadata": {},
   "outputs": [],
   "source": []
  }
 ],
 "metadata": {
  "kernelspec": {
   "display_name": "3.11.9",
   "language": "python",
   "name": "python3"
  },
  "language_info": {
   "codemirror_mode": {
    "name": "ipython",
    "version": 3
   },
   "file_extension": ".py",
   "mimetype": "text/x-python",
   "name": "python",
   "nbconvert_exporter": "python",
   "pygments_lexer": "ipython3",
   "version": "3.12.7"
  }
 },
 "nbformat": 4,
 "nbformat_minor": 2
}