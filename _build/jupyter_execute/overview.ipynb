{
 "cells": [
  {
   "cell_type": "markdown",
   "metadata": {},
   "source": [
    "# Course Overview\n",
    "\n",
    "```{warning} Warning\n",
    "These notes will be updated throughout the semester. Please check back regularly.\n",
    "\n",
    "```\n",
    "\n",
    "## Course information\n",
    "**Section**: PHIL408F/PHPE408J</br>\n",
    "**Prerequisites**: No prior programming experience necessary.</br>\n",
    "**Required materials**: Only a working laptop/computer is needed! Book chapters, journal articles, and software are  available to all students on the [course website](https://umd.instructure.com/courses/1380870/modules).</br>\n",
    "**Meetings**: Tuesdays and Thursdays from 12:30pm - 1:45pm</br>\n",
    "**Location**: <a target=\"_blank\" rel=\"noopener noreferrer\" href=\"https://www.google.com/maps?q=Parren+J.+Mitchell+Art-Sociology+Bldg.,+College+Park,+MD&z=18\">ASY 1213</a></br>\n",
    "\n",
    "\n",
    "## Instructor information\n",
    "**Instructor**: Eric Pacuit<br>\n",
    "**Email**: epacuit@umd.edu<br>\n",
    "**Website**: <a target=\"_blank\" rel=\"noopener noreferrer\" href=\"https://pacuit.org\">pacuit.org</a></br>\n",
    "\n",
    "**Teaching Assistant**: Justin Helms<br>\n",
    "**Email**: jhelms@umd.edu<br>\n",
    "**Website**: <a target=\"_blank\" rel=\"noopener noreferrer\" href=\"https://philosophy.umd.edu/directory/justin-helms\">philosophy.umd.edu/directory/justin-helms</a></br>\n",
    "\n",
    "## Schedule\n",
    "\n",
    "| Week | Date  | Topic                              | Reading |\n",
    "|------|-------|------------------------------------|---------|\n",
    "| 1 | 1/28 | Introduction, Introduction to Python Programming | [Syllabus](https://umd.instructure.com/courses/1380870/files/82211853?wrap=1), [Chollet, Chapter 1](https://umd.instructure.com/courses/1380870/files/82212031?module_item_id=13429542), Getting Started Notes:  [installation](installation), [jupyter](jupyter), [colab](colab), [github](github) |\n",
    "|  | 1/30 | Introduction to Python Programming | [Python Essentials](python-essentials), [Classes](classes) |\n",
    "| 2 | 2/4 | Introduction to Python Programming | TBA |\n",
    "|  | 2/6 | Introduction to Python Programming | TBA |\n"
   ]
  },
  {
   "cell_type": "code",
   "execution_count": 1,
   "metadata": {},
   "outputs": [
    {
     "data": {
      "text/markdown": [
       "\n",
       "| Week | Date  | Topic                              | Reading |\n",
       "|------|-------|------------------------------------|---------|\n",
       "| 1 | 1/28 | Introduction, Introduction to Python Programming | [Syllabus](https://umd.instructure.com/courses/1380870/files/82211853?wrap=1), [Chollet, Chapter 1](https://umd.instructure.com/courses/1380870/files/82212031?module_item_id=13429542), Getting Started Notes:  [installation](installation), [jupyter](jupyter), [colab](colab), [github](github) |\n",
       "|  | 1/30 | Introduction to Python Programming | [Python Essentials](python-essentials), [Classes](classes) |\n",
       "| 2 | 2/4 | Introduction to Python Programming | TBA |\n",
       "|  | 2/6 | Introduction to Python Programming | TBA |\n"
      ],
      "text/plain": [
       "<IPython.core.display.Markdown object>"
      ]
     },
     "metadata": {},
     "output_type": "display_data"
    }
   ],
   "source": [
    "import yaml\n",
    "from IPython.display import display, Markdown\n",
    "\n",
    "# Load YAML file\n",
    "with open('schedule.yml') as f:\n",
    "    data = yaml.safe_load(f)\n",
    "\n",
    "\n",
    "# Generate the Markdown table as a single string\n",
    "markdown_table = \"\"\"\n",
    "| Week | Date  | Topic                              | Reading |\n",
    "|------|-------|------------------------------------|---------|\n",
    "\"\"\"\n",
    "\n",
    "# Append rows to the Markdown table\n",
    "for item in data['schedule']:\n",
    "    week = item['week']\n",
    "    for session in item['sessions']:\n",
    "        date = session['date']\n",
    "        topic = session['topic']\n",
    "        reading = session['reading']\n",
    "        markdown_table += f\"| {week} | {date} | {topic} | {reading} |\\n\"\n",
    "        week = \"\"  # Clear 'week' for subsequent rows in the same week\n",
    "\n",
    "# Display the final Markdown table\n",
    "display(Markdown(markdown_table))\n"
   ]
  },
  {
   "cell_type": "code",
   "execution_count": 2,
   "metadata": {},
   "outputs": [
    {
     "name": "stderr",
     "output_type": "stream",
     "text": [
      "<>:9: SyntaxWarning: invalid escape sequence '\\p'\n",
      "<>:11: SyntaxWarning: invalid escape sequence '\\p'\n",
      "<>:9: SyntaxWarning: invalid escape sequence '\\p'\n",
      "<>:11: SyntaxWarning: invalid escape sequence '\\p'\n",
      "/var/folders/zw/wyk4bycs5sjb6lt2q2xgbf040000gn/T/ipykernel_22313/3228184635.py:9: SyntaxWarning: invalid escape sequence '\\p'\n",
      "  display(Markdown('*some markdown* $\\phi$'))\n",
      "/var/folders/zw/wyk4bycs5sjb6lt2q2xgbf040000gn/T/ipykernel_22313/3228184635.py:11: SyntaxWarning: invalid escape sequence '\\p'\n",
      "  display(Latex('\\phi'))\n"
     ]
    },
    {
     "data": {
      "text/markdown": [
       "\n",
       "| Week | Date  | Topic                              | Reading |\n",
       "|------|-------|------------------------------------|---------|\n",
       "| 1    | 1/1   | Introduction to Python            | Ch. 1   |"
      ],
      "text/plain": [
       "<IPython.core.display.Markdown object>"
      ]
     },
     "metadata": {},
     "output_type": "display_data"
    },
    {
     "data": {
      "text/markdown": [
       "*some markdown* $\\phi$"
      ],
      "text/plain": [
       "<IPython.core.display.Markdown object>"
      ]
     },
     "metadata": {},
     "output_type": "display_data"
    },
    {
     "data": {
      "text/latex": [
       "\\phi"
      ],
      "text/plain": [
       "<IPython.core.display.Latex object>"
      ]
     },
     "metadata": {},
     "output_type": "display_data"
    }
   ],
   "source": [
    "# Create the Markdown table as one complete string\n",
    "markdown_table = \"\"\"\n",
    "| Week | Date  | Topic                              | Reading |\n",
    "|------|-------|------------------------------------|---------|\n",
    "\"\"\" + \"| 1    | 1/1   | Introduction to Python            | Ch. 1   |\"\n",
    "display(Markdown(markdown_table))\n",
    "\n",
    "from IPython.display import display, Markdown, Latex\n",
    "display(Markdown('*some markdown* $\\phi$'))\n",
    "# If you particularly want to display maths, this is more direct:\n",
    "display(Latex('\\phi'))\n"
   ]
  },
  {
   "cell_type": "code",
   "execution_count": null,
   "metadata": {},
   "outputs": [],
   "source": []
  }
 ],
 "metadata": {
  "kernelspec": {
   "display_name": "3.11.9",
   "language": "python",
   "name": "python3"
  },
  "language_info": {
   "codemirror_mode": {
    "name": "ipython",
    "version": 3
   },
   "file_extension": ".py",
   "mimetype": "text/x-python",
   "name": "python",
   "nbconvert_exporter": "python",
   "pygments_lexer": "ipython3",
   "version": "3.12.7"
  }
 },
 "nbformat": 4,
 "nbformat_minor": 2
}